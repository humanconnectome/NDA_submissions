{
 "cells": [
  {
   "cell_type": "markdown",
   "id": "1457c41c",
   "metadata": {},
   "source": [
    "Merge REDCap out-of-scanner Face Name Recall variables with in-scanner data pulled from IntraDB"
   ]
  },
  {
   "cell_type": "code",
   "execution_count": null,
   "id": "47c55ed7",
   "metadata": {},
   "outputs": [],
   "source": [
    "import os, datetime\n",
    "import csv\n",
    "import sys\n",
    "import shutil\n",
    "from openpyxl import load_workbook\n",
    "import pandas as pd\n",
    "from io import BytesIO\n",
    "import numpy as np\n",
    "import subprocess\n",
    "from scipy import stats\n",
    "from ccf.box import LifespanBox\n",
    "from ccf.config import LoadSettings\n",
    "from ccf.redcap import RedcapTable \n",
    "config = LoadSettings()\n"
   ]
  },
  {
   "cell_type": "code",
   "execution_count": null,
   "id": "dbf2c8d6",
   "metadata": {},
   "outputs": [],
   "source": [
    "box=LifespanBox(cache='./')\n",
    "verbose = True\n",
    "snapshotdate = datetime.datetime.today().strftime('%m_%d_%Y')\n",
    "pathout=\"./prepped/hca\" \n",
    "racepath=\"./prepped\"\n",
    "scannerpath=''\n",
    "\n",
    "#Rosetta (a.k.a Inventory) file will have all the nda vars and pedids\n",
    "extrainfo=config['rosetta']['filename']\n",
    "\n",
    "eventlist=['visit_1_arm_1','visit_2_arm_1','visit_3_arm_1','visit_arm_1']"
   ]
  },
  {
   "cell_type": "code",
   "execution_count": null,
   "id": "fbf867bb",
   "metadata": {},
   "outputs": [],
   "source": [
    "inventory=pd.read_csv(extrainfo)\n",
    "inventory.columns\n",
    "inventory=inventory.loc[inventory.nda_age.isnull()==False]\n",
    "inventory.nda_interview_date=pd.to_datetime(inventory.nda_interview_date).dt.strftime('%m/%d/%Y')\n",
    "inventory.nda_age=inventory.nda_age.round(0).astype(int)\n",
    "inventory=inventory.loc[inventory.redcap_event_name.isin(eventlist)]\n",
    "\n",
    "Fullinventory=inventory.copy()\n",
    "print(\"Inventory w select events:\",Fullinventory.shape)"
   ]
  },
  {
   "cell_type": "code",
   "execution_count": null,
   "id": "0c506ed4",
   "metadata": {},
   "outputs": [],
   "source": [
    "Fullinventory.columns\n",
    "ndar=Fullinventory[['REDCap_id','nda_age','nda_interview_date',\n",
    "                   'pseudo_guid','subject','M/F','redcap_event_name']].rename({'nda_age':'interview_age',\n",
    "                                    'nda_interview_date':'interview_date','M/F':'sex',\n",
    "                                    'subject':'src_subject_id','pseudo_guid':'subjectkey'})"
   ]
  },
  {
   "cell_type": "code",
   "execution_count": null,
   "id": "cb9d04fa",
   "metadata": {},
   "outputs": [],
   "source": [
    "#get Redcap Facename variables and ids from Redcap hca\n",
    "fieldlist=['id','redcap_event_name','subject_id','counterbalance_v1','counterbalance_v2','cb1_1a','cb1_1a_other',\n",
    "           'cb1_2a','cb1_2a_other','cb1_3a','cb1_3a_other','cb1_4a',\n",
    "           'cb1_4a_other','cb1_5a','cb1_5a_other','cb1_6a','cb1_6a_other','cb1_7a',\n",
    "           'cb1_7a_other','cb1_8a','cb1_8a_other','cb1_9a','cb1_9a_other','cb1_10a','cb1_10a_other',\n",
    "           'cb2_1a','cb2_1a_other','cb2_2a','cb2_2a_other','cb2_3a','cb2_3a_other','cb2_4a',\n",
    "           'cb2_4a_other','cb2_5a','cb2_5a_other','cb2_6a','cb2_6a_other','cb2_7a','cb2_7a_other',\n",
    "           'cb2_8a','cb2_8a_other','cb2_9a','cb2_9a_other','cb2_10a','cb2_10a_other']\n",
    "\n",
    "hca=RedcapTable.get_table_by_name('hcpa').get_frame(fieldlist)\n",
    "hca=hca.loc[hca.redcap_event_name.isin(eventlist)]\n",
    "hca.head(20)\n",
    "#counterbalance_v1 and counterbalance_v2 are both stored in visit_1_arm_1 row. Need to pull these out for stacking.\n",
    "\n"
   ]
  },
  {
   "cell_type": "code",
   "execution_count": null,
   "id": "d4aa8990",
   "metadata": {},
   "outputs": [],
   "source": [
    "cb1cols = ['id','subject_id','redcap_event_name','counterbalance_v1','counterbalance_v2']+[col for col in hca.columns if 'cb1' in col]\n",
    "cb2cols = [col for col in hca.columns if 'cb2' in col]\n",
    "\n",
    "hca1=hca.loc[hca.redcap_event_name=='visit_1_arm_1'][cb1cols+cb2cols]\n",
    "\n",
    "hca2=hca.loc[hca.redcap_event_name=='visit_2_arm_1'][cb1cols+cb2cols]\n",
    "hca2.counterbalance_v2.value_counts(dropna=False) # this will be empty because counterbalance assignment happened in V1\n",
    "#hca1.counterbalance_v1.value_counts()\n",
    "#hca1.head()"
   ]
  },
  {
   "cell_type": "code",
   "execution_count": null,
   "id": "25cb96a6",
   "metadata": {},
   "outputs": [],
   "source": [
    "\n",
    "hca2=hca2.drop(columns={'counterbalance_v1','counterbalance_v2','subject_id'}) #these vars empty\n",
    "hcacb2=hca1.loc[hca1.counterbalance_v2.isnull()==False][['id','counterbalance_v2']]\n",
    "print(hcacb2.columns)\n",
    "\n",
    "hca2=pd.merge(hcacb2,hca2,on=['id'],how='left')\n",
    "print(hca2.redcap_event_name.value_counts())\n",
    "#print(hca2.columns)\n",
    "#hca2.head()\n"
   ]
  },
  {
   "cell_type": "code",
   "execution_count": null,
   "id": "28cb6aa3",
   "metadata": {},
   "outputs": [],
   "source": [
    "#stack V1 CBs\n",
    "hca1cb1=hca1.loc[hca1.counterbalance_v1==1.0].rename(columns={'counterbalance_v1':'version','cb1_1a':'f1_recall', 'cb1_1a_other':'f1_other', 'cb1_2a':'f2_recall',\n",
    "       'cb1_2a_other':'f2_other', 'cb1_3a':'f3_recall', 'cb1_3a_other':'f3_other', 'cb1_4a':'f4_recall', 'cb1_4a_other':'f4_other',\n",
    "       'cb1_5a':'f5_recall', 'cb1_5a_other':'f5_other', 'cb1_6a':'f6_recall', 'cb1_6a_other':'f6_other', 'cb1_7a':'f7_recall',\n",
    "       'cb1_7a_other':'f7_other', 'cb1_8a':'f8_recall', 'cb1_8a_other':'f8_other', 'cb1_9a':'f9_recall', 'cb1_9a_other':'f9_other',\n",
    "       'cb1_10a':'f10_recall', 'cb1_10a_other':'f10_other'})\n",
    "\n",
    "hca1cb2=hca1.loc[hca1.counterbalance_v1==2.0].rename(columns={'counterbalance_v1':'version','cb2_1a':'f1_recall', 'cb2_1a_other':'f1_other', 'cb2_2a':'f2_recall',\n",
    "       'cb2_2a_other':'f2_other', 'cb2_3a':'f3_recall', 'cb2_3a_other':'f3_other', 'cb2_4a':'f4_recall', \n",
    "       'cb2_4a_other':'f4_other','cb2_5a':'f5_recall', 'cb2_5a_other':'f5_other', 'cb2_6a':'f6_recall', 'cb2_6a_other':'f6_other', \n",
    "       'cb2_7a':'f7_recall','cb2_7a_other':'f7_other', 'cb2_8a':'f8_recall', 'cb2_8a_other':'f8_other', 'cb2_9a':'f9_recall', \n",
    "        'cb2_9a_other':'f9_other',\n",
    "       'cb2_10a':'f10_recall', 'cb2_10a_other':'f10_other'})\n",
    "hca1all=pd.concat([hca1cb1,hca1cb2]).drop(columns=['counterbalance_v2'])\n",
    "hca1all.head()\n",
    "hca1all.redcap_event_name.value_counts(dropna=False)\n",
    "#hca1all.counterbalance_v1.value_counts(dropna=False)\n",
    "hca1all.version.value_counts(dropna=False)\n",
    "hca1all.to_csv('test1.csv')"
   ]
  },
  {
   "cell_type": "code",
   "execution_count": null,
   "id": "09462e94",
   "metadata": {},
   "outputs": [],
   "source": [
    "#stack V2 cbs\n",
    "hca2cb1=hca2.loc[hca2.counterbalance_v2==1.0].rename(columns={'counterbalance_v2':'version','cb1_1a':'f1_recall', 'cb1_1a_other':'f1_other', 'cb1_2a':'f2_recall',\n",
    "       'cb1_2a_other':'f2_other', 'cb1_3a':'f3_recall', 'cb1_3a_other':'f3_other', 'cb1_4a':'f4_recall', 'cb1_4a_other':'f4_other',\n",
    "       'cb1_5a':'f5_recall', 'cb1_5a_other':'f5_other', 'cb1_6a':'f6_recall', 'cb1_6a_other':'f6_other', 'cb1_7a':'f7_recall',\n",
    "       'cb1_7a_other':'f7_other', 'cb1_8a':'f8_recall', 'cb1_8a_other':'f8_other', 'cb1_9a':'f9_recall', 'cb1_9a_other':'f9_other',\n",
    "       'cb1_10a':'f10_recall', 'cb1_10a_other':'f10_other'})\n",
    "\n",
    "hca2cb2=hca2.loc[hca2.counterbalance_v2==2.0].rename(columns={'counterbalance_v2':'version','cb2_1a':'f1_recall', 'cb2_1a_other':'f1_other', 'cb2_2a':'f2_recall',\n",
    "       'cb2_2a_other':'f2_other', 'cb2_3a':'f3_recall', 'cb2_3a_other':'f3_other', 'cb2_4a':'f4_recall', \n",
    "       'cb2_4a_other':'f4_other','cb2_5a':'f5_recall', 'cb2_5a_other':'f5_other', 'cb2_6a':'f6_recall', 'cb2_6a_other':'f6_other', \n",
    "       'cb2_7a':'f7_recall','cb2_7a_other':'f7_other', 'cb2_8a':'f8_recall', 'cb2_8a_other':'f8_other', 'cb2_9a':'f9_recall', \n",
    "        'cb2_9a_other':'f9_other',\n",
    "       'cb2_10a':'f10_recall', 'cb2_10a_other':'f10_other'})\n",
    "hca2all=pd.concat([hca2cb1,hca2cb2])\n",
    "hca2all.head()\n",
    "hca2all.redcap_event_name.value_counts(dropna=False)\n",
    "hca2all=hca2all.loc[~(hca2all.redcap_event_name.isnull()==True)]\n",
    "hca2all.to_csv('test2.csv')"
   ]
  },
  {
   "cell_type": "code",
   "execution_count": null,
   "id": "fa1b1ad7",
   "metadata": {},
   "outputs": [],
   "source": [
    "hca1.redcap_event_name.value_counts()\n",
    "hca2.redcap_event_name.value_counts()\n",
    "\n",
    "hcacat=pd.concat([hca1all,hca2all])\n",
    "#hcacat.head()\n",
    "hcacat.redcap_event_name.value_counts()\n",
    "\n",
    "hcacat=hcacat.loc[~(hcacat.f1_recall.isnull()==True)]\n",
    "hcacat.to_csv('test12.csv')\n",
    "hcacat.head(50)\n",
    "#hca1cb1"
   ]
  },
  {
   "cell_type": "code",
   "execution_count": null,
   "id": "9cad7d86",
   "metadata": {},
   "outputs": [],
   "source": [
    "ndar.columns\n",
    "#hcacat.columns"
   ]
  },
  {
   "cell_type": "code",
   "execution_count": null,
   "id": "2be76631",
   "metadata": {},
   "outputs": [],
   "source": [
    "hcat=pd.merge(ndar,hcacat,left_on=['REDCap_id','redcap_event_name'],right_on=['id','redcap_event_name'],how='left')\n",
    "hcat.head()\n",
    "hcat=hcat.loc[~(hcat.version.isnull()==True)]\n",
    "hcat.version=hcat.version.astype('Int64')\n",
    "\n",
    "for i in ['f1_recall','f2_recall','f3_recall','f4_recall','f5_recall','f6_recall','f7_recall','f8_recall','f9_recall','f10_recall']:\n",
    "    hcat[i]=hcat[i].astype('Int64')\n",
    "    \n",
    "for j in ['f7_other','f3_other','f9_other']: \n",
    "    hcat[j]=hcat[j].str.replace('\"','').str.replace(\"'\",'')\n",
    "    hcat[j]=hcat[j].str[0:10]\n",
    "\n",
    "hcat=hcat[['nda_age', 'nda_interview_date', 'pseudo_guid', 'subject',\n",
    "       'M/F', 'version', 'f1_recall',\n",
    "       'f1_other', 'f2_recall', 'f2_other', 'f3_recall', 'f3_other',\n",
    "       'f4_recall', 'f4_other', 'f5_recall', 'f5_other', 'f6_recall',\n",
    "       'f6_other', 'f7_recall', 'f7_other', 'f8_recall', 'f8_other',\n",
    "       'f9_recall', 'f9_other', 'f10_recall', 'f10_other']].rename(columns=\n",
    "        {'pseudo_guid':'subjectkey','subject':'src_subject_id','nda_age':'interview_age',\n",
    "         'nda_interview_date':'interview_date','M/F':'sex','version':'version_form'})#'redcap_event_name', \n"
   ]
  },
  {
   "cell_type": "code",
   "execution_count": null,
   "id": "d047d05a",
   "metadata": {},
   "outputs": [],
   "source": [
    "hcat.to_csv('test.csv')\n"
   ]
  },
  {
   "cell_type": "markdown",
   "id": "b718654a",
   "metadata": {},
   "source": [
    "## Placeholder for adding IntraDB Staging Vars. i.e. recall stats per facename recall in scanner"
   ]
  },
  {
   "cell_type": "code",
   "execution_count": null,
   "id": "c05a703b",
   "metadata": {},
   "outputs": [],
   "source": [
    "#once you get the IntraDB stats and all visits, \n",
    "#Check that\n",
    "#the actual CB used at the scanner for V1 matches what was recorded in REDCap,(drop redcap if not)\n",
    "#the actual CB used at the scanner for V2 matches what was recorded in REDCap,(drop redcap if not)\n",
    "#the CB used at the scanner for V1 is not equal to CB used at the scanner for V2 (drop V2 if not)\n",
    "\n",
    "#HCA6766290_V1\n",
    "#HCA8163169_V1\n",
    "#HCA9161877_ (not sure which visit)\n",
    "#HCA9319684_V1\n",
    "\n",
    "#of course, please check systematically, too."
   ]
  },
  {
   "cell_type": "code",
   "execution_count": null,
   "id": "b9d2eb7b",
   "metadata": {},
   "outputs": [],
   "source": [
    "#write out csv for validation\n",
    "filePath=pathout+'/facename01.csv'\n",
    "\n",
    "if os.path.exists(filePath):\n",
    "    os.remove(filePath)\n",
    "else:\n",
    "    print(\"Can not delete the file as it doesn't exists\")\n",
    "\n",
    "with open(filePath,'a') as f:\n",
    "    f.write(\"facename,1\\n\")\n",
    "    hcat.to_csv(f,index=False)\n"
   ]
  },
  {
   "cell_type": "code",
   "execution_count": null,
   "id": "3c23b69a",
   "metadata": {},
   "outputs": [],
   "source": []
  }
 ],
 "metadata": {
  "kernelspec": {
   "display_name": "NDAsubmissions_venv",
   "language": "python",
   "name": "ndasubmissions_venv"
  },
  "language_info": {
   "codemirror_mode": {
    "name": "ipython",
    "version": 3
   },
   "file_extension": ".py",
   "mimetype": "text/x-python",
   "name": "python",
   "nbconvert_exporter": "python",
   "pygments_lexer": "ipython3",
   "version": "3.9.9"
  }
 },
 "nbformat": 4,
 "nbformat_minor": 5
}
