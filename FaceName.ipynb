{
 "cells": [
  {
   "cell_type": "markdown",
   "id": "1457c41c",
   "metadata": {},
   "source": [
    "Merge REDCap out-of-scanner Face Name Recall variables with in-scanner data pulled from IntraDB"
   ]
  },
  {
   "cell_type": "code",
   "execution_count": null,
   "id": "47c55ed7",
   "metadata": {},
   "outputs": [],
   "source": [
    "import os, datetime\n",
    "import csv\n",
    "import sys\n",
    "import shutil\n",
    "from openpyxl import load_workbook\n",
    "import pandas as pd\n",
    "from io import BytesIO\n",
    "import numpy as np\n",
    "import subprocess\n",
    "from scipy import stats\n",
    "from ccf.box import LifespanBox\n",
    "from ccf.config import LoadSettings\n",
    "from ccf.redcap import RedcapTable \n",
    "config = LoadSettings()\n",
    "import Crosswalk.cleanupfuncs as cleanupfuncs\n"
   ]
  },
  {
   "cell_type": "code",
   "execution_count": null,
   "id": "dbf2c8d6",
   "metadata": {},
   "outputs": [],
   "source": [
    "box=LifespanBox(cache='./')\n",
    "verbose = True\n",
    "snapshotdate = datetime.datetime.today().strftime('%m_%d_%Y')\n",
    "pathout=\"./prepped/hca\" \n",
    "racepath=\"./prepped\"\n",
    "scannerpath=''\n",
    "\n",
    "#Rosetta (a.k.a Inventory) file will have all the nda vars and pedids\n",
    "extrainfo=config['rosetta']['hca']['filename']\n",
    "\n",
    "eventlist=['visit_1_arm_1','visit_2_arm_1','visit_3_arm_1','visit_arm_1']\n"
   ]
  },
  {
   "cell_type": "code",
   "execution_count": null,
   "id": "fbf867bb",
   "metadata": {},
   "outputs": [],
   "source": [
    "print(extrainfo)\n",
    "inventory=pd.read_csv(extrainfo)\n",
    "inventory.columns\n",
    "inventory.subject.head()\n",
    "inventory=inventory.loc[inventory.nda_age.isnull()==False]\n",
    "inventory.nda_interview_date=pd.to_datetime(inventory.nda_interview_date).dt.strftime('%m/%d/%Y')\n",
    "inventory.nda_age=inventory.nda_age.round(0).astype(int)\n",
    "inventory=inventory.loc[inventory.redcap_event_name.isin(eventlist)]\n",
    "inventory=inventory.loc[inventory.IntraDB.str.contains('STG')]\n",
    "Fullinventory=inventory.copy()\n",
    "print(\"Inventory w select events should be 1798:\",Fullinventory.shape)"
   ]
  },
  {
   "cell_type": "code",
   "execution_count": null,
   "id": "0c506ed4",
   "metadata": {},
   "outputs": [],
   "source": [
    "Fullinventory.columns\n",
    "ndar=Fullinventory[['REDCap_id','nda_age','nda_interview_date',\n",
    "                   'pseudo_guid','subject','M/F','redcap_event_name','redcap_event']].rename({'nda_age':'interview_age',\n",
    "                                    'nda_interview_date':'interview_date','M/F':'sex',\n",
    "                                    'subject':'src_subject_id','pseudo_guid':'subjectkey'})"
   ]
  },
  {
   "cell_type": "code",
   "execution_count": null,
   "id": "cb9d04fa",
   "metadata": {},
   "outputs": [],
   "source": [
    "#get Redcap Facename variables and ids from Redcap hca\n",
    "fieldlist=['id','subject_id','counterbalance_v1','counterbalance_v2','cb1_1a','cb1_1a_other',\n",
    "           'cb1_2a','cb1_2a_other','cb1_3a','cb1_3a_other','cb1_4a',\n",
    "           'cb1_4a_other','cb1_5a','cb1_5a_other','cb1_6a','cb1_6a_other','cb1_7a',\n",
    "           'cb1_7a_other','cb1_8a','cb1_8a_other','cb1_9a','cb1_9a_other','cb1_10a','cb1_10a_other',\n",
    "           'cb2_1a','cb2_1a_other','cb2_2a','cb2_2a_other','cb2_3a','cb2_3a_other','cb2_4a',\n",
    "           'cb2_4a_other','cb2_5a','cb2_5a_other','cb2_6a','cb2_6a_other','cb2_7a','cb2_7a_other',\n",
    "           'cb2_8a','cb2_8a_other','cb2_9a','cb2_9a_other','cb2_10a','cb2_10a_other']\n",
    "\n",
    "hca=RedcapTable.get_table_by_name('hcpa').get_frame(fieldlist)\n",
    "hca=hca.loc[hca.redcap_event_name.isin(eventlist)]\n"
   ]
  },
  {
   "cell_type": "code",
   "execution_count": null,
   "id": "d4aa8990",
   "metadata": {},
   "outputs": [],
   "source": [
    "cb1cols = ['id','subject_id','redcap_event_name','counterbalance_v1','counterbalance_v2']+[col for col in hca.columns if 'cb1' in col]\n",
    "cb2cols = [col for col in hca.columns if 'cb2' in col]\n",
    "\n",
    "hca1=hca.loc[hca.redcap_event_name=='visit_1_arm_1'][cb1cols+cb2cols]\n",
    "hca2=hca.loc[hca.redcap_event_name=='visit_2_arm_1'][cb1cols+cb2cols]\n",
    "hca2.counterbalance_v2.value_counts(dropna=False) # this will be empty because counterbalance assignment happened in V1\n"
   ]
  },
  {
   "cell_type": "code",
   "execution_count": null,
   "id": "2ebef3c6",
   "metadata": {},
   "outputs": [],
   "source": [
    "#hca1 corresponding to v1 data is done\n",
    "#hca2 for v2 needs extra massaging\n",
    "\n",
    "hca2=hca2.drop(columns={'counterbalance_v1','counterbalance_v2','subject_id'}) #these vars empty as demostrated in last cell\n",
    "hcacb2=hca1.loc[hca1.counterbalance_v2.isnull()==False][['id','counterbalance_v2']]\n",
    "hca2=pd.merge(hcacb2,hca2,on=['id'],how='left')\n"
   ]
  },
  {
   "cell_type": "code",
   "execution_count": null,
   "id": "28cb6aa3",
   "metadata": {},
   "outputs": [],
   "source": [
    "#stack V1 CBs\n",
    "hca1cb1=hca1.loc[hca1.counterbalance_v1==1.0].rename(columns={'counterbalance_v1':'version','cb1_1a':'f1_recall', 'cb1_1a_other':'f1_other', 'cb1_2a':'f2_recall',\n",
    "       'cb1_2a_other':'f2_other', 'cb1_3a':'f3_recall', 'cb1_3a_other':'f3_other', 'cb1_4a':'f4_recall', 'cb1_4a_other':'f4_other',\n",
    "       'cb1_5a':'f5_recall', 'cb1_5a_other':'f5_other', 'cb1_6a':'f6_recall', 'cb1_6a_other':'f6_other', 'cb1_7a':'f7_recall',\n",
    "       'cb1_7a_other':'f7_other', 'cb1_8a':'f8_recall', 'cb1_8a_other':'f8_other', 'cb1_9a':'f9_recall', 'cb1_9a_other':'f9_other',\n",
    "       'cb1_10a':'f10_recall', 'cb1_10a_other':'f10_other'})\n",
    "\n",
    "hca1cb2=hca1.loc[hca1.counterbalance_v1==2.0].rename(columns={'counterbalance_v1':'version','cb2_1a':'f1_recall', 'cb2_1a_other':'f1_other', 'cb2_2a':'f2_recall',\n",
    "       'cb2_2a_other':'f2_other', 'cb2_3a':'f3_recall', 'cb2_3a_other':'f3_other', 'cb2_4a':'f4_recall', \n",
    "       'cb2_4a_other':'f4_other','cb2_5a':'f5_recall', 'cb2_5a_other':'f5_other', 'cb2_6a':'f6_recall', 'cb2_6a_other':'f6_other', \n",
    "       'cb2_7a':'f7_recall','cb2_7a_other':'f7_other', 'cb2_8a':'f8_recall', 'cb2_8a_other':'f8_other', 'cb2_9a':'f9_recall', \n",
    "        'cb2_9a_other':'f9_other',\n",
    "       'cb2_10a':'f10_recall', 'cb2_10a_other':'f10_other'})\n",
    "hca1all=pd.concat([hca1cb1,hca1cb2]).drop(columns=['counterbalance_v2'])\n"
   ]
  },
  {
   "cell_type": "code",
   "execution_count": null,
   "id": "09462e94",
   "metadata": {},
   "outputs": [],
   "source": [
    "#stack V2 cbs\n",
    "hca2cb1=hca2.loc[hca2.counterbalance_v2==1.0].rename(columns={'counterbalance_v2':'version','cb1_1a':'f1_recall', 'cb1_1a_other':'f1_other', 'cb1_2a':'f2_recall',\n",
    "       'cb1_2a_other':'f2_other', 'cb1_3a':'f3_recall', 'cb1_3a_other':'f3_other', 'cb1_4a':'f4_recall', 'cb1_4a_other':'f4_other',\n",
    "       'cb1_5a':'f5_recall', 'cb1_5a_other':'f5_other', 'cb1_6a':'f6_recall', 'cb1_6a_other':'f6_other', 'cb1_7a':'f7_recall',\n",
    "       'cb1_7a_other':'f7_other', 'cb1_8a':'f8_recall', 'cb1_8a_other':'f8_other', 'cb1_9a':'f9_recall', 'cb1_9a_other':'f9_other',\n",
    "       'cb1_10a':'f10_recall', 'cb1_10a_other':'f10_other'})\n",
    "\n",
    "hca2cb2=hca2.loc[hca2.counterbalance_v2==2.0].rename(columns={'counterbalance_v2':'version','cb2_1a':'f1_recall', 'cb2_1a_other':'f1_other', 'cb2_2a':'f2_recall',\n",
    "       'cb2_2a_other':'f2_other', 'cb2_3a':'f3_recall', 'cb2_3a_other':'f3_other', 'cb2_4a':'f4_recall', \n",
    "       'cb2_4a_other':'f4_other','cb2_5a':'f5_recall', 'cb2_5a_other':'f5_other', 'cb2_6a':'f6_recall', 'cb2_6a_other':'f6_other', \n",
    "       'cb2_7a':'f7_recall','cb2_7a_other':'f7_other', 'cb2_8a':'f8_recall', 'cb2_8a_other':'f8_other', 'cb2_9a':'f9_recall', \n",
    "        'cb2_9a_other':'f9_other',\n",
    "       'cb2_10a':'f10_recall', 'cb2_10a_other':'f10_other'})\n",
    "hca2all=pd.concat([hca2cb1,hca2cb2])\n",
    "hca2all=hca2all.loc[~(hca2all.redcap_event_name.isnull()==True)]\n"
   ]
  },
  {
   "cell_type": "code",
   "execution_count": null,
   "id": "fa1b1ad7",
   "metadata": {},
   "outputs": [],
   "source": [
    "hcacat=pd.concat([hca1all,hca2all])\n",
    "hcacat=hcacat.loc[~(hcacat.f1_recall.isnull()==True)].drop(columns=['subject_id'])"
   ]
  },
  {
   "cell_type": "code",
   "execution_count": null,
   "id": "2be76631",
   "metadata": {},
   "outputs": [],
   "source": [
    "#now add the ndar variables\n",
    "hcat=pd.merge(ndar,hcacat,left_on=['REDCap_id','redcap_event_name'],right_on=['id','redcap_event_name'],how='left')\n",
    "hcat.shape"
   ]
  },
  {
   "cell_type": "code",
   "execution_count": null,
   "id": "d047d05a",
   "metadata": {},
   "outputs": [],
   "source": [
    "#dont drop subjects...need to keep these until the end when we finally remove subjects\n",
    "#hcat=hcat.loc[~(hcat.version.isnull()==True)]\n",
    "\n",
    "hcat.version=hcat.version.astype('Int64')\n",
    "\n",
    "for i in ['f1_recall','f2_recall','f3_recall','f4_recall','f5_recall','f6_recall','f7_recall','f8_recall','f9_recall','f10_recall']:\n",
    "    hcat[i]=hcat[i].astype('Int64')\n",
    "    \n",
    "for j in ['f7_other','f3_other','f9_other']: \n",
    "    hcat[j]=hcat[j].str.replace('\"','').str.replace(\"'\",'')\n",
    "    hcat[j]=hcat[j].str[0:10]\n",
    "\n",
    "hcat=hcat[['nda_age', 'nda_interview_date', 'pseudo_guid', 'subject','redcap_event',\n",
    "       'M/F', 'version', 'f1_recall',\n",
    "       'f1_other', 'f2_recall', 'f2_other', 'f3_recall', 'f3_other',\n",
    "       'f4_recall', 'f4_other', 'f5_recall', 'f5_other', 'f6_recall',\n",
    "       'f6_other', 'f7_recall', 'f7_other', 'f8_recall', 'f8_other',\n",
    "       'f9_recall', 'f9_other', 'f10_recall', 'f10_other']].rename(columns=\n",
    "        {'pseudo_guid':'subjectkey','subject':'src_subject_id','nda_age':'interview_age',\n",
    "         'nda_interview_date':'interview_date','M/F':'sex','version':'version_form'})#'redcap_event_name', \n",
    "print(hcat.shape)\n",
    "\n",
    "#don't drop these...need all the ndar variables\n",
    "##drop empty rows\n",
    "#hcat=hcat.loc[~(hcat.version_form.isnull()==True)]\n",
    "\n",
    "#hcat.to_csv(\"seeitnow.csv\")\n",
    "print(hcat.shape)"
   ]
  },
  {
   "cell_type": "code",
   "execution_count": null,
   "id": "aad6ba01",
   "metadata": {},
   "outputs": [],
   "source": [
    "hcat.columns"
   ]
  },
  {
   "cell_type": "markdown",
   "id": "b718654a",
   "metadata": {},
   "source": [
    "## Add IntraDB Staging Vars. i.e. recall stats per facename recall in scanner"
   ]
  },
  {
   "cell_type": "code",
   "execution_count": null,
   "id": "9cb76021",
   "metadata": {},
   "outputs": [],
   "source": [
    "F1=pd.read_csv(\"/Users/petralenzini/work/Behavioral/Lifespan/NDA_submissions/NDA_submissions/facename/FaceStats_HCA_V1.txt\")\n",
    "F2=pd.read_csv(\"/Users/petralenzini/work/Behavioral/Lifespan/NDA_submissions/NDA_submissions/facename/FaceStats_HCA_V2.txt\")\n",
    "PreReqs=pd.read_csv(\"/Users/petralenzini/work/Behavioral/Lifespan/NDA_submissions/NDA_submissions/facename/pcp_summary_CCF_HCA_STG_TaskAnalysis.csv\")\n",
    "PreReqs=PreReqs.rename(columns={'entityLabel':'MR_ID'})\n",
    "F=pd.concat([F1,F2],axis=0)\n",
    "print(F.shape)\n",
    "F=pd.merge(PreReqs[['MR_ID']],F,on='MR_ID',how='inner',indicator=True)\n",
    "F._merge.value_counts()\n"
   ]
  },
  {
   "cell_type": "code",
   "execution_count": null,
   "id": "0bce9e26",
   "metadata": {},
   "outputs": [],
   "source": [
    "print(F1.shape)\n",
    "print(F2.shape)\n",
    "print(F.shape)\n",
    "F['subject']=F['MR_ID'].str.split('_',expand=True)[0]\n",
    "F['redcap_event']=F['MR_ID'].str.split('_',expand=True)[1]\n",
    "F.to_csv('Ftest.csv',index=False)"
   ]
  },
  {
   "cell_type": "code",
   "execution_count": null,
   "id": "bb32dbbb",
   "metadata": {},
   "outputs": [],
   "source": [
    "#[] are not empty...they correspond with wide files that have quotes between lines\n",
    "# i.e brackets has 'data' (needs version from REDCap)\n",
    "\n",
    "#empties has 'version' and validating image data, so user might be able to reconstruct info.\n",
    "#has redcap but not stats"
   ]
  },
  {
   "cell_type": "code",
   "execution_count": null,
   "id": "cb56d195",
   "metadata": {},
   "outputs": [],
   "source": [
    "print(F.shape)\n",
    "F=F.drop_duplicates(subset='MR_ID')\n",
    "print(F.shape)\n",
    "\n",
    "#drop stats with no counterbalance\n",
    "brackets=F.loc[(F.version==\"[]\")]\n",
    "F=F.loc[~(F.version==\"[]\")]\n",
    "print(F.shape)\n",
    "brackets"
   ]
  },
  {
   "cell_type": "code",
   "execution_count": null,
   "id": "845d8e98",
   "metadata": {},
   "outputs": [],
   "source": [
    "#drop empty stats\n",
    "statscols=['avg_mem_resp', 'ave_mem_rt',\n",
    "       'avg_rec_resp', 'avg_rec_rt', 'f1_mem1_resp', 'f2_mem1_resp',\n",
    "       'f3_mem1_resp', 'f4_mem1_resp', 'f5_mem1_resp', 'f6_mem1_resp',\n",
    "       'f7_mem1_resp', 'f8_mem1_resp', 'f9_mem1_resp', 'f10_mem1_resp',\n",
    "       'f1_mem2_resp', 'f2_mem2_resp', 'f3_mem2_resp', 'f4_mem2_resp',\n",
    "       'f5_mem2_resp', 'f6_mem2_resp', 'f7_mem2_resp', 'f8_mem2_resp',\n",
    "       'f9_mem2_resp', 'f10_mem2_resp', 'f1_rec1_resp', 'f2_rec1_resp',\n",
    "       'f3_rec1_resp', 'f4_rec1_resp', 'f5_rec1_resp', 'f6_rec1_resp',\n",
    "       'f7_rec1_resp', 'f8_rec1_resp', 'f9_rec1_resp', 'f10_rec1_resp',\n",
    "       'f1_rec2_resp', 'f2_rec2_resp', 'f3_rec2_resp', 'f4_rec2_resp',\n",
    "       'f5_rec2_resp', 'f6_rec2_resp', 'f7_rec2_resp', 'f8_rec2_resp',\n",
    "       'f9_rec2_resp', 'f10_rec2_resp', 'f1_mem1_rt', 'f2_mem1_rt',\n",
    "       'f3_mem1_rt', 'f4_mem1_rt', 'f5_mem1_rt', 'f6_mem1_rt', 'f7_mem1_rt',\n",
    "       'f8_mem1_rt', 'f9_mem1_rt', 'f10_mem1_rt', 'f1_mem2_rt', 'f2_mem2_rt',\n",
    "       'f3_mem2_rt', 'f4_mem2_rt', 'f5_mem2_rt', 'f6_mem2_rt', 'f7_mem2_rt',\n",
    "       'f8_mem2_rt', 'f9_mem2_rt', 'f10_mem2_rt', 'f1_rec1_rt', 'f2_rec1_rt',\n",
    "       'f3_rec1_rt', 'f4_rec1_rt', 'f5_rec1_rt', 'f6_rec1_rt', 'f7_rec1_rt',\n",
    "       'f8_rec1_rt', 'f9_rec1_rt', 'f10_rec1_rt', 'f1_rec2_rt', 'f2_rec2_rt',\n",
    "       'f3_rec2_rt', 'f4_rec2_rt', 'f5_rec2_rt', 'f6_rec2_rt', 'f7_rec2_rt',\n",
    "       'f8_rec2_rt', 'f9_rec2_rt', 'f10_rec2_rt']\n",
    "\n",
    "empties=F[F[statscols].isnull().all(axis=1)]\n",
    "Ft=F.dropna(subset=statscols,how='all')\n",
    "Ft.shape\n",
    "empties.shape"
   ]
  },
  {
   "cell_type": "code",
   "execution_count": null,
   "id": "cad452a1",
   "metadata": {},
   "outputs": [],
   "source": [
    "print(\"IntraDB counts:\",Ft.shape)\n",
    "print(\"REDCap RECall:\",hcat.shape)\n",
    "hcat.version_form.value_counts()"
   ]
  },
  {
   "cell_type": "code",
   "execution_count": null,
   "id": "8cb76aac",
   "metadata": {},
   "outputs": [],
   "source": [
    "hcat.version_form.value_counts(dropna=False)\n",
    "print(hcat.loc[hcat.version_form.isnull()==True])\n",
    "\n",
    "# only want to keep facename stuff for subjects whose scans passed prereqs and stats files are non-empty\n",
    "# okay if redcap is empty\n",
    "IntRed=pd.merge(Ft,hcat,left_on=['subject','redcap_event'],right_on=['src_subject_id','redcap_event'],how='left')\n",
    "print(\"IntRed:\",IntRed.shape)"
   ]
  },
  {
   "cell_type": "code",
   "execution_count": null,
   "id": "201b4246",
   "metadata": {},
   "outputs": [],
   "source": [
    "#drop redcap data for mismatches, and completely empties\n",
    "print(\"1\",IntRed.shape)\n",
    "print(\"2. Data in either Redcap or IntraDB\")\n",
    "IntRedSlim=IntRed.loc[~((IntRed.version_form.isnull()==True) & (IntRed.version.isna()==True))].copy()\n",
    "print(\"2\",IntRedSlim.shape)\n",
    "#drop anyone with completely empty record.\n",
    "print(\"should be empty:\",IntRedSlim.loc[((IntRedSlim.version_form.isnull()==True) & (IntRedSlim.version.isna()==True))].shape)\n",
    "IntRedSlim.reset_index(inplace=True)\n",
    "print(IntRedSlim.shape)\n",
    "#IntRedSlim.to_csv('test.csv',index=False)"
   ]
  },
  {
   "cell_type": "code",
   "execution_count": null,
   "id": "74100a10",
   "metadata": {},
   "outputs": [],
   "source": [
    "redcapvars=['version_form','f1_recall','f1_other','f1_recall','f1_other','f2_recall','f2_other','f3_recall','f3_other','f4_recall','f4_other','f5_recall','f5_other','f6_recall','f6_other','f7_recall','f7_other','f8_recall','f8_other','f9_recall','f9_other','f10_recall','f10_other']\n",
    "recallvars=[x for x in redcapvars if (('recall' in x) or ('version_form' in x))]\n",
    "stringvars=[x for x in redcapvars if 'other' in x]"
   ]
  },
  {
   "cell_type": "code",
   "execution_count": null,
   "id": "82aeeb34",
   "metadata": {},
   "outputs": [],
   "source": [
    "#set the mismatched redcap variables to missing, based on type\n",
    "stayit=IntRedSlim.loc[~(((IntRedSlim.version_form==1) & (IntRedSlim.version=='CB2')) | ((IntRedSlim.version_form==2) & (IntRedSlim.version=='CB1'))| ((IntRedSlim.version_form.isnull()==True)))].copy()\n",
    "fixit1 =IntRedSlim.loc[  ((IntRedSlim.version_form==1) & (IntRedSlim.version=='CB2')) | ((IntRedSlim.version_form==2) & (IntRedSlim.version=='CB1')) ].copy()\n",
    "fixit2 =IntRedSlim.loc[   ((IntRedSlim.version_form.isnull()==True))].copy()\n",
    "print(IntRedSlim.shape)\n",
    "print(stayit.shape)\n",
    "print(fixit1.shape)\n",
    "print(fixit2.shape)\n"
   ]
  },
  {
   "cell_type": "code",
   "execution_count": null,
   "id": "c135245b",
   "metadata": {},
   "outputs": [],
   "source": [
    "#set to missing any mismatches\n",
    "fixit1[stringvars+['version_form']]=''\n",
    "fixit1[recallvars]=''"
   ]
  },
  {
   "cell_type": "code",
   "execution_count": null,
   "id": "92f8e098",
   "metadata": {},
   "outputs": [],
   "source": [
    "#now find and remove any where V1 and V2 used the same counterbalance\n",
    "#CB1 and CB2 are the same;\n",
    "\n",
    "print(\"startcount\",stayit.shape)\n",
    "stayit2=stayit.copy()                      \n",
    "v1peeps=stayit2.loc[stayit2.redcap_event=='V1'][['version','version_form','subject']]\n",
    "v2peeps=stayit2.loc[stayit2.redcap_event=='V2'][['version','version_form','subject']]\n",
    "\n",
    "v1v2=pd.merge(v1peeps,v2peeps,on='subject',how='inner') #scan merge\n",
    "print(v1v2.shape)\n",
    "\n",
    "print(v1v2.shape)\n",
    "v1v2.head()\n",
    "print(\"the guys that accidentally got the same Facename Scan\")\n",
    "a=v1v2.loc[(v1v2.version_x==v1v2.version_y)]\n",
    "print(a)\n",
    "\n",
    "print(\"the guys that accidentally got the same REDCap\")\n",
    "b=v1v2.loc[(v1v2.version_form_x.astype(str)==v1v2.version_form_y.astype(str)) & (~(v1v2.version_form_y.astype(str)=='<NA>'))]\n",
    "print(b)\n",
    "\n",
    "\n",
    "#nothing to remove, "
   ]
  },
  {
   "cell_type": "code",
   "execution_count": null,
   "id": "a15b517e",
   "metadata": {},
   "outputs": [],
   "source": [
    "#REMEMBER\n",
    "#[] are not empty...they correspond with wide files that have quotes between lines\n",
    "# i.e brackets has 'data' (needs version from REDCap)\n",
    "\n",
    "#empties has 'version' and validating image data, so user might be able to reconstruct info.\n",
    "#has redcap but not stats\n",
    "\n",
    "#ADD BACK THE STRAGGLERS\n",
    "brackets.columns\n",
    "bfind=pd.merge(brackets.drop(columns='_merge'),hcat,left_on=['subject','redcap_event'],right_on=['src_subject_id','redcap_event'],how='inner')\n",
    "bfind['version']=\"CB\"+bfind['version_form'].astype('str')      \n",
    "\n",
    "bempties=pd.merge(empties.drop(columns='_merge'),hcat,left_on=['subject','redcap_event'],right_on=['src_subject_id','redcap_event'],how='inner')\n",
    "\n",
    "\n",
    "#pd.concat([bfind,bempties]).to_csv('testb.csv',index=False)"
   ]
  },
  {
   "cell_type": "code",
   "execution_count": null,
   "id": "a71c968e",
   "metadata": {},
   "outputs": [],
   "source": [
    "#concatenate the results and check that it worked\n",
    "IntRedSlimFixed=pd.concat([stayit,fixit1,fixit2,bfind,bempties],axis=0)\n",
    "firstcols=['subjectkey','src_subject_id','sex','interview_date','interview_age']\n",
    "IntRedSlimFixed[firstcols+[i for i in IntRedSlimFixed.columns if i not in firstcols]]\n",
    "\n",
    "\n",
    "#print(IntRedSlimFixed.shape)\n",
    "#IntRedSlimFixed.to_csv('test2.csv',index=False)\n"
   ]
  },
  {
   "cell_type": "code",
   "execution_count": null,
   "id": "b9d2eb7b",
   "metadata": {},
   "outputs": [],
   "source": [
    "#write out csv for validation\n",
    "filePath=pathout+'/facename01.csv'\n",
    "\n",
    "if os.path.exists(filePath):\n",
    "    os.remove(filePath)\n",
    "else:\n",
    "    print(\"Can not delete the file as it doesn't exists\")\n",
    "\n",
    "with open(filePath,'a') as f:\n",
    "    f.write(\"facename,1\\n\")\n",
    "    IntRedSlimFixed.drop(columns=['version_form','file_name','subject','redcap_event','_merge','index','MR_ID']).rename({'version':'version_form'}).to_csv(f,index=False)\n"
   ]
  },
  {
   "cell_type": "code",
   "execution_count": null,
   "id": "c93fad97",
   "metadata": {},
   "outputs": [],
   "source": [
    "tointlist=['f1_mem1_resp','f2_mem1_resp','f3_mem1_resp','f4_mem1_resp','f5_mem1_resp','f6_mem1_resp','f7_mem1_resp','f8_mem1_resp','f9_mem1_resp','f10_mem1_resp','f1_mem2_resp','f2_mem2_resp','f3_mem2_resp','f4_mem2_resp','f5_mem2_resp','f6_mem2_resp','f7_mem2_resp','f8_mem2_resp','f9_mem2_resp','f10_mem2_resp','f1_rec1_resp','f2_rec1_resp','f3_rec1_resp','f4_rec1_resp','f5_rec1_resp','f6_rec1_resp','f7_rec1_resp','f8_rec1_resp','f9_rec1_resp','f10_rec1_resp','f1_rec2_resp','f2_rec2_resp','f3_rec2_resp','f4_rec2_resp','f5_rec2_resp','f6_rec2_resp','f7_rec2_resp','f8_rec2_resp','f9_rec2_resp','f10_rec2_resp']\n",
    "tointlist2=['f1_recall','f2_recall','f3_recall','f4_recall','f5_recall','f6_recall','f7_recall','f8_recall','f9_recall','f10_recall','f1_recall','f2_recall','f3_recall','f4_recall','f5_recall','f6_recall','f7_recall','f8_recall','f9_recall','f10_recall']#,'f1_rec1_resp','f2_rec1_resp','f3_rec1_resp','f4_rec1_resp','f5_rec1_resp','f6_rec1_resp','f7_rec1_resp','f8_rec1_resp','f9_rec1_resp','f10_rec1_resp','f1_rec2_resp','f2_rec2_resp','f3_rec2_resp','f4_rec2_resp','f5_rec2_resp','f6_rec2_resp','f7_rec2_resp','f8_rec2_resp','f9_rec2_resp','f10_rec2_resp']\n",
    "cleanupfuncs.integercleanup(structure='facename01',filePath=\"./prepped/hca/\",varlist=tointlist+tointlist2)"
   ]
  },
  {
   "cell_type": "code",
   "execution_count": null,
   "id": "c8cdb273",
   "metadata": {},
   "outputs": [],
   "source": []
  }
 ],
 "metadata": {
  "kernelspec": {
   "display_name": "NDA_submissions",
   "language": "python",
   "name": "nda_submissions"
  },
  "language_info": {
   "codemirror_mode": {
    "name": "ipython",
    "version": 3
   },
   "file_extension": ".py",
   "mimetype": "text/x-python",
   "name": "python",
   "nbconvert_exporter": "python",
   "pygments_lexer": "ipython3",
   "version": "3.9.6"
  }
 },
 "nbformat": 4,
 "nbformat_minor": 5
}
