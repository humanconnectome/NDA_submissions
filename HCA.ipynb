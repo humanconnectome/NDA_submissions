{
 "cells": [
  {
   "cell_type": "code",
   "execution_count": 1,
   "metadata": {},
   "outputs": [],
   "source": [
    "from funcs import funcs\n",
    "from Crosswalk.Transformer import Transformer\n",
    "from Crosswalk.RedcapLoader import RedcapLoader\n",
    "from Crosswalk.DataCache import DataCache\n",
    "from Crosswalk.NDAWriter import NDAWriter\n",
    "from Crosswalk.Manager import Manager\n",
    "from Crosswalk.BoxLoader import BoxLoader\n",
    "from Crosswalk.QintLoader import QintLoader\n",
    "from Crosswalk.SsagaLoader import SsagaLoader\n",
    "from ccf.redcap import get_behavioral\n",
    "\n",
    "from ccf.redcap import RedcapTable"
   ]
  },
  {
   "cell_type": "code",
   "execution_count": 2,
   "metadata": {},
   "outputs": [],
   "source": [
    "M = Manager(\n",
    "        data =  DataCache(\n",
    "            RedcapLoader('hcpa'),\n",
    "            SsagaLoader('ssaga'),\n",
    "            QintLoader()\n",
    "        ),\n",
    "        writer = NDAWriter(),\n",
    "        transformer = Transformer(funcs = funcs, map_dir='./maps/hca/')\n",
    ")"
   ]
  },
  {
   "cell_type": "code",
   "execution_count": 3,
   "metadata": {},
   "outputs": [
    {
     "name": "stdout",
     "output_type": "stream",
     "text": [
      "hcpa Some columns were unavailable:  {'No equivalent - used to indicate session/day', 'dummy_var18'}\n"
     ]
    }
   ],
   "source": [
    "M.preload_data()"
   ]
  },
  {
   "cell_type": "code",
   "execution_count": 4,
   "metadata": {},
   "outputs": [
    {
     "name": "stdout",
     "output_type": "stream",
     "text": [
      "For struct \"batbil01\": \n",
      "No errors!\n",
      "For struct \"diagpsx01\": \n",
      "No errors!\n",
      "For struct \"gales01\": \n",
      "No errors!\n",
      "For struct \"ipaq01\": \n",
      "No errors!\n",
      "For struct \"lbadl01\": \n",
      "No errors!\n",
      "For struct \"nffi01\": \n",
      "No errors!\n",
      "For struct \"scidv_pscyh01\": \n",
      "No errors!\n",
      "For struct \"socdem01\": \n",
      "No errors!\n"
     ]
    }
   ],
   "source": [
    "# The commented out structs are manually implemented below\n",
    "structs = [\n",
    "#     'asr01',\n",
    "    'batbil01',\n",
    "#     'bsc01',\n",
    "    'diagpsx01',\n",
    "#     'drugscr01',\n",
    "    'gales01',\n",
    "    'ipaq01',\n",
    "    'lbadl01',\n",
    "#     'leap01',\n",
    "#     'mchq01',\n",
    "#     'medh01',\n",
    "#     'mendt01',\n",
    "#     'moca01',\n",
    "    'nffi01',\n",
    "#     'psqi01',\n",
    "#     'ravlt01',\n",
    "#     'scan_debrief01',\n",
    "    'scidv_pscyh01',\n",
    "    'socdem01'\n",
    "  ]\n",
    "\n",
    "for s in structs:\n",
    "    M.run(s)"
   ]
  },
  {
   "cell_type": "code",
   "execution_count": 5,
   "metadata": {},
   "outputs": [
    {
     "name": "stdout",
     "output_type": "stream",
     "text": [
      "For struct \"asr01\": \n",
      "oasr_ppl9_des: Increase length from 250 --> 425 \n"
     ]
    },
    {
     "data": {
      "text/plain": [
       "ERRORS   COLUMN       \n",
       "tooLong  oasr_ppl9_des    1\n",
       "Name: RECORD, dtype: int64"
      ]
     },
     "metadata": {},
     "output_type": "display_data"
    }
   ],
   "source": [
    "M.run(\"asr01\")"
   ]
  },
  {
   "cell_type": "code",
   "execution_count": 6,
   "metadata": {},
   "outputs": [
    {
     "name": "stdout",
     "output_type": "stream",
     "text": [
      "For struct \"bsc01\": \n",
      "chloride: Field not pre-defined, skipping validation.\n",
      "creatinine: Field not pre-defined, skipping validation.\n",
      "glucose: Field not pre-defined, skipping validation.\n",
      "potassium: Field not pre-defined, skipping validation.\n",
      "sodium: Field not pre-defined, skipping validation.\n"
     ]
    },
    {
     "data": {
      "text/plain": [
       "ERRORS                  COLUMN    \n",
       "unrecognizedColumnName  chloride      1\n",
       "                        creatinine    1\n",
       "                        glucose       1\n",
       "                        potassium     1\n",
       "                        sodium        1\n",
       "Name: RECORD, dtype: int64"
      ]
     },
     "metadata": {},
     "output_type": "display_data"
    }
   ],
   "source": [
    "M.run(\"bsc01\")"
   ]
  },
  {
   "cell_type": "code",
   "execution_count": null,
   "metadata": {},
   "outputs": [],
   "source": [
    "M.run(\"drugscr01\")"
   ]
  },
  {
   "cell_type": "code",
   "execution_count": 7,
   "metadata": {},
   "outputs": [
    {
     "name": "stdout",
     "output_type": "stream",
     "text": [
      "For struct \"leap01\": \n",
      "lan12: Increase length from 25 --> 28 \n",
      "lan3err: Invalid values  {105.0, 118.0}\n",
      "Dropping 2 values.\n"
     ]
    },
    {
     "data": {
      "text/plain": [
       "ERRORS   COLUMN\n",
       "tooLong  lan12     1\n",
       "Name: RECORD, dtype: int64"
      ]
     },
     "metadata": {},
     "output_type": "display_data"
    }
   ],
   "source": [
    "M.run(\"leap01\")"
   ]
  },
  {
   "cell_type": "code",
   "execution_count": 8,
   "metadata": {},
   "outputs": [
    {
     "name": "stdout",
     "output_type": "stream",
     "text": [
      "For struct \"moca01\": \n",
      "moca_total: Invalid values  {31}\n",
      "Dropping 1 values.\n"
     ]
    },
    {
     "data": {
      "text/plain": [
       "ERRORS      COLUMN    \n",
       "notInteger  moca_total    841\n",
       "Name: RECORD, dtype: int64"
      ]
     },
     "metadata": {},
     "output_type": "display_data"
    }
   ],
   "source": [
    "M.run(\"moca01\")"
   ]
  },
  {
   "cell_type": "code",
   "execution_count": 9,
   "metadata": {},
   "outputs": [
    {
     "name": "stdout",
     "output_type": "stream",
     "text": [
      "For struct \"medh01\": \n",
      "dental6_1: Increase length from 60 --> 65 \n"
     ]
    },
    {
     "data": {
      "text/plain": [
       "ERRORS   COLUMN   \n",
       "tooLong  dental6_1    1\n",
       "Name: RECORD, dtype: int64"
      ]
     },
     "metadata": {},
     "output_type": "display_data"
    }
   ],
   "source": [
    "M.run(\"medh01\")"
   ]
  },
  {
   "cell_type": "code",
   "execution_count": 10,
   "metadata": {},
   "outputs": [
    {
     "name": "stdout",
     "output_type": "stream",
     "text": [
      "For struct \"mchq01\": \n",
      "straw1b_other: Increase length from 100 --> 113 \n"
     ]
    },
    {
     "data": {
      "text/plain": [
       "ERRORS       COLUMN       \n",
       "invalidDate  meau_01b         416\n",
       "tooLong      straw1b_other      1\n",
       "Name: RECORD, dtype: int64"
      ]
     },
     "metadata": {},
     "output_type": "display_data"
    }
   ],
   "source": [
    "M.run(\"mchq01\")"
   ]
  },
  {
   "cell_type": "code",
   "execution_count": 11,
   "metadata": {},
   "outputs": [
    {
     "name": "stdout",
     "output_type": "stream",
     "text": [
      "For struct \"mendt01\": \n",
      "med12_frqcy: Increase length from 10 --> 13 \n",
      "med14_frqcy: Increase length from 10 --> 15 \n"
     ]
    },
    {
     "data": {
      "text/plain": [
       "ERRORS   COLUMN     \n",
       "tooLong  med12_frqcy    1\n",
       "         med14_frqcy    1\n",
       "Name: RECORD, dtype: int64"
      ]
     },
     "metadata": {},
     "output_type": "display_data"
    }
   ],
   "source": [
    "M.run(\"mendt01\")"
   ]
  },
  {
   "cell_type": "code",
   "execution_count": 12,
   "metadata": {},
   "outputs": [
    {
     "name": "stdout",
     "output_type": "stream",
     "text": [
      "For struct \"psqi01\": \n",
      "psqi5j_1: Increase length from 100 --> 114 \n"
     ]
    },
    {
     "data": {
      "text/plain": [
       "ERRORS   COLUMN  \n",
       "tooLong  psqi5j_1    1\n",
       "Name: RECORD, dtype: int64"
      ]
     },
     "metadata": {},
     "output_type": "display_data"
    }
   ],
   "source": [
    "M.run(\"psqi01\")"
   ]
  },
  {
   "cell_type": "code",
   "execution_count": 13,
   "metadata": {},
   "outputs": [
    {
     "name": "stdout",
     "output_type": "stream",
     "text": [
      "For struct \"ravlt01\": \n",
      "ravlt01 is missing the fields:  ['subjectkey', 'src_subject_id', 'interview_date', 'interview_age', 'sex', 'ravlt_tott', 'ravlt_delt', 'ravlt_disct']\n"
     ]
    },
    {
     "data": {
      "text/plain": [
       "ERRORS                 COLUMN        \n",
       "missingRequiredColumn  interview_age     1\n",
       "                       interview_date    1\n",
       "                       ravlt_delt        1\n",
       "                       ravlt_disct       1\n",
       "                       ravlt_tott        1\n",
       "                       sex               1\n",
       "                       src_subject_id    1\n",
       "                       subjectkey        1\n",
       "Name: RECORD, dtype: int64"
      ]
     },
     "metadata": {},
     "output_type": "display_data"
    }
   ],
   "source": [
    "M.run(\"ravlt01\")"
   ]
  },
  {
   "cell_type": "code",
   "execution_count": 14,
   "metadata": {},
   "outputs": [
    {
     "name": "stdout",
     "output_type": "stream",
     "text": [
      "For struct \"scan_debrief01\": \n",
      "satisfaction1more: Increase length from 250 --> 384 \n",
      "satisfaction2more: Increase length from 250 --> 278 \n",
      "satisfaction4more: Increase length from 250 --> 1046 \n",
      "satisfaction5: Increase length from 250 --> 442 \n",
      "satisfaction6: Increase length from 250 --> 835 \n"
     ]
    },
    {
     "data": {
      "text/plain": [
       "ERRORS   COLUMN           \n",
       "tooLong  satisfaction1more    4\n",
       "         satisfaction2more    1\n",
       "         satisfaction4more    2\n",
       "         satisfaction5        5\n",
       "         satisfaction6        9\n",
       "Name: RECORD, dtype: int64"
      ]
     },
     "metadata": {},
     "output_type": "display_data"
    }
   ],
   "source": [
    "M.run(\"scan_debrief01\")"
   ]
  },
  {
   "cell_type": "code",
   "execution_count": null,
   "metadata": {},
   "outputs": [],
   "source": []
  },
  {
   "cell_type": "code",
   "execution_count": null,
   "metadata": {},
   "outputs": [],
   "source": []
  },
  {
   "cell_type": "code",
   "execution_count": null,
   "metadata": {},
   "outputs": [],
   "source": []
  }
 ],
 "metadata": {
  "kernelspec": {
   "display_name": "ccf",
   "language": "python",
   "name": "ccf"
  },
  "language_info": {
   "codemirror_mode": {
    "name": "ipython",
    "version": 3
   },
   "file_extension": ".py",
   "mimetype": "text/x-python",
   "name": "python",
   "nbconvert_exporter": "python",
   "pygments_lexer": "ipython3",
   "version": "3.8.2"
  }
 },
 "nbformat": 4,
 "nbformat_minor": 2
}
