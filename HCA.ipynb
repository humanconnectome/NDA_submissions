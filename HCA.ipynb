{
 "cells": [
  {
   "cell_type": "code",
   "execution_count": 1,
   "metadata": {},
   "outputs": [],
   "source": [
    "from funcs import funcs\n",
    "from Crosswalk.Transformer import Transformer\n",
    "from Crosswalk.DataCache import DataCache\n",
    "from Crosswalk.NDAWriter import NDAWriter\n",
    "from Crosswalk.Manager import Manager\n",
    "\n",
    "from Crosswalk.Loader import Loader, BoxLoader, BoxHcaLoader, SsagaLoader, QintHcaLoader, RedcapLoader\n",
    "import pandas as pd\n",
    "import numpy as np\n"
   ]
  },
  {
   "cell_type": "code",
   "execution_count": 2,
   "metadata": {},
   "outputs": [
    {
     "data": {
      "text/plain": [
       "['mkdir: cannot create directory ‘prepped/hca’: File exists']"
      ]
     },
     "execution_count": 2,
     "metadata": {},
     "output_type": "execute_result"
    }
   ],
   "source": [
    "#create folder for prepped structures, if it doesn't exist\n",
    "!!mkdir prepped\n",
    "!!mkdir prepped/hca"
   ]
  },
  {
   "cell_type": "code",
   "execution_count": 3,
   "metadata": {},
   "outputs": [
    {
     "name": "stdout",
     "output_type": "stream",
     "text": [
      "Loading   ./maps/hca/asr01.yaml\n",
      "Loading   ./maps/hca/batbil01.yaml\n",
      "Loading   ./maps/hca/bsc01.yaml\n",
      "Loading   ./maps/hca/deldisk01.yaml\n",
      "Loading   ./maps/hca/drugscr01.yaml\n",
      "Loading   ./maps/hca/er4001.yaml\n",
      "Loading   ./maps/hca/gales01.yaml\n",
      "Loading   ./maps/hca/ipaq01.yaml\n",
      "Loading   ./maps/hca/lbadl01.yaml\n",
      "Loading   ./maps/hca/leap01.yaml\n",
      "Loading   ./maps/hca/mchq01.yaml\n",
      "Loading   ./maps/hca/medh01.yaml\n",
      "Loading   ./maps/hca/mendt01.yaml\n",
      "Loading   ./maps/hca/moca01.yaml\n",
      "Loading   ./maps/hca/nffi01.yaml\n",
      "Loading   ./maps/hca/psqi01.yaml\n",
      "Loading   ./maps/hca/ravlt01.yaml\n",
      "Loading   ./maps/hca/scan_debrief01.yaml\n",
      "Loading   ./maps/hca/ssaga_cover_demo01.yaml\n",
      "Loading   ./maps/hca/trail_ca01.yaml\n",
      "Loading   ./maps/hca/vitals01.yaml\n"
     ]
    }
   ],
   "source": [
    "# note the path to the validator below.  This is the vtcmd.py validator written by the NDA.  \n",
    "# If you haven't already installed this, please do so now: https://github.com/NDAR/nda-tools\n",
    "# and the place the path that shows up when you type 'which vtcmd' from your terminal\n",
    "# validation results will be sent to and read from whatever default is specified in the vtcmd configuration file,\n",
    "# so if you're using vtcmd to validate any other datatypes, keep this in mind.\n",
    "\n",
    "M = Manager(\n",
    "        data =  DataCache(\n",
    "            BoxHcaLoader('PennCNP',592325063896),\n",
    "            RedcapLoader('hcpa'),\n",
    "            SsagaLoader(),\n",
    "            QintHcaLoader()\n",
    "        ),\n",
    "        writer = NDAWriter(completed_dir=\"./prepped/hca/\", validator=\".venv/bin/vtcmd\"),\n",
    "        #writer = NDAWriter(completed_dir=\"./prepped/hca/\"),\n",
    "        transformer = Transformer(funcs = funcs, map_dir='./maps/hca/')\n",
    ")"
   ]
  },
  {
   "cell_type": "code",
   "execution_count": 4,
   "metadata": {},
   "outputs": [
    {
     "name": "stdout",
     "output_type": "stream",
     "text": [
      "Timing:  hcpa 9.698323249816895\n",
      "Timing:  ssaga 0.3825404644012451\n",
      "Timing:  PennCNP 0.3003568649291992\n"
     ]
    },
    {
     "ename": "AttributeError",
     "evalue": "'DataFrame' object has no attribute 'subjectid'",
     "output_type": "error",
     "traceback": [
      "\u001b[0;31m---------------------------------------------------------------------------\u001b[0m",
      "\u001b[0;31mAttributeError\u001b[0m                            Traceback (most recent call last)",
      "\u001b[0;32m<ipython-input-4-344bc4f373d4>\u001b[0m in \u001b[0;36m<module>\u001b[0;34m\u001b[0m\n\u001b[1;32m      6\u001b[0m \u001b[0;31m# Loader.py program's _post_load_hook_ method referenced below.\u001b[0m\u001b[0;34m\u001b[0m\u001b[0;34m\u001b[0m\u001b[0;34m\u001b[0m\u001b[0m\n\u001b[1;32m      7\u001b[0m \u001b[0;34m\u001b[0m\u001b[0m\n\u001b[0;32m----> 8\u001b[0;31m \u001b[0mM\u001b[0m\u001b[0;34m.\u001b[0m\u001b[0mpreload_data\u001b[0m\u001b[0;34m(\u001b[0m\u001b[0;34m)\u001b[0m\u001b[0;34m\u001b[0m\u001b[0;34m\u001b[0m\u001b[0m\n\u001b[0m",
      "\u001b[0;32m~/UbWinSharedSpace1/ccf-nda-behavioral/PycharmToolbox/NDA_submissions/NDA_submissions/Crosswalk/Manager.py\u001b[0m in \u001b[0;36mpreload_data\u001b[0;34m(self)\u001b[0m\n\u001b[1;32m      9\u001b[0m     \u001b[0;32mdef\u001b[0m \u001b[0mpreload_data\u001b[0m\u001b[0;34m(\u001b[0m\u001b[0mself\u001b[0m\u001b[0;34m)\u001b[0m\u001b[0;34m:\u001b[0m\u001b[0;34m\u001b[0m\u001b[0;34m\u001b[0m\u001b[0m\n\u001b[1;32m     10\u001b[0m         \u001b[0munique\u001b[0m \u001b[0;34m=\u001b[0m \u001b[0mself\u001b[0m\u001b[0;34m.\u001b[0m\u001b[0mtransformer\u001b[0m\u001b[0;34m.\u001b[0m\u001b[0mget_unique_variables\u001b[0m\u001b[0;34m(\u001b[0m\u001b[0;34m)\u001b[0m\u001b[0;34m\u001b[0m\u001b[0;34m\u001b[0m\u001b[0m\n\u001b[0;32m---> 11\u001b[0;31m         \u001b[0mself\u001b[0m\u001b[0;34m.\u001b[0m\u001b[0mdata\u001b[0m\u001b[0;34m.\u001b[0m\u001b[0mpreload\u001b[0m\u001b[0;34m(\u001b[0m\u001b[0munique\u001b[0m\u001b[0;34m)\u001b[0m\u001b[0;34m\u001b[0m\u001b[0;34m\u001b[0m\u001b[0m\n\u001b[0m\u001b[1;32m     12\u001b[0m \u001b[0;34m\u001b[0m\u001b[0m\n\u001b[1;32m     13\u001b[0m     \u001b[0;32mdef\u001b[0m \u001b[0mrun\u001b[0m\u001b[0;34m(\u001b[0m\u001b[0mself\u001b[0m\u001b[0;34m,\u001b[0m \u001b[0mstruct\u001b[0m\u001b[0;34m)\u001b[0m\u001b[0;34m:\u001b[0m\u001b[0;34m\u001b[0m\u001b[0;34m\u001b[0m\u001b[0m\n",
      "\u001b[0;32m~/UbWinSharedSpace1/ccf-nda-behavioral/PycharmToolbox/NDA_submissions/NDA_submissions/Crosswalk/DataCache.py\u001b[0m in \u001b[0;36mpreload\u001b[0;34m(self, fields)\u001b[0m\n\u001b[1;32m     20\u001b[0m         \u001b[0;32mfor\u001b[0m \u001b[0msource\u001b[0m\u001b[0;34m,\u001b[0m \u001b[0mfields\u001b[0m \u001b[0;32min\u001b[0m \u001b[0md\u001b[0m\u001b[0;34m.\u001b[0m\u001b[0mitems\u001b[0m\u001b[0;34m(\u001b[0m\u001b[0;34m)\u001b[0m\u001b[0;34m:\u001b[0m\u001b[0;34m\u001b[0m\u001b[0;34m\u001b[0m\u001b[0m\n\u001b[1;32m     21\u001b[0m             \u001b[0mstart\u001b[0m \u001b[0;34m=\u001b[0m \u001b[0mtime\u001b[0m\u001b[0;34m.\u001b[0m\u001b[0mtime\u001b[0m\u001b[0;34m(\u001b[0m\u001b[0;34m)\u001b[0m\u001b[0;34m\u001b[0m\u001b[0;34m\u001b[0m\u001b[0m\n\u001b[0;32m---> 22\u001b[0;31m             \u001b[0mdf\u001b[0m\u001b[0;34m,\u001b[0m \u001b[0mDF\u001b[0m \u001b[0;34m=\u001b[0m \u001b[0mself\u001b[0m\u001b[0;34m.\u001b[0m\u001b[0msources\u001b[0m\u001b[0;34m[\u001b[0m\u001b[0msource\u001b[0m\u001b[0;34m]\u001b[0m\u001b[0;34m.\u001b[0m\u001b[0mload\u001b[0m\u001b[0;34m(\u001b[0m\u001b[0mlist\u001b[0m\u001b[0;34m(\u001b[0m\u001b[0mfields\u001b[0m\u001b[0;34m)\u001b[0m\u001b[0;34m)\u001b[0m\u001b[0;34m\u001b[0m\u001b[0;34m\u001b[0m\u001b[0m\n\u001b[0m\u001b[1;32m     23\u001b[0m             \u001b[0mself\u001b[0m\u001b[0;34m.\u001b[0m\u001b[0mdf\u001b[0m\u001b[0;34m[\u001b[0m\u001b[0msource\u001b[0m\u001b[0;34m]\u001b[0m \u001b[0;34m=\u001b[0m \u001b[0mdf\u001b[0m\u001b[0;34m\u001b[0m\u001b[0;34m\u001b[0m\u001b[0m\n\u001b[1;32m     24\u001b[0m             \u001b[0mself\u001b[0m\u001b[0;34m.\u001b[0m\u001b[0mDF\u001b[0m\u001b[0;34m[\u001b[0m\u001b[0msource\u001b[0m\u001b[0;34m]\u001b[0m \u001b[0;34m=\u001b[0m \u001b[0mDF\u001b[0m\u001b[0;34m\u001b[0m\u001b[0;34m\u001b[0m\u001b[0m\n",
      "\u001b[0;32m~/UbWinSharedSpace1/ccf-nda-behavioral/PycharmToolbox/NDA_submissions/NDA_submissions/Crosswalk/Loader.py\u001b[0m in \u001b[0;36mload\u001b[0;34m(self, fields)\u001b[0m\n\u001b[1;32m     76\u001b[0m         \u001b[0madditional_fields\u001b[0m \u001b[0;34m=\u001b[0m \u001b[0mself\u001b[0m\u001b[0;34m.\u001b[0m\u001b[0m_fields_hook_\u001b[0m\u001b[0;34m(\u001b[0m\u001b[0mfields\u001b[0m\u001b[0;34m)\u001b[0m\u001b[0;34m\u001b[0m\u001b[0;34m\u001b[0m\u001b[0m\n\u001b[1;32m     77\u001b[0m         \u001b[0mdf\u001b[0m \u001b[0;34m=\u001b[0m \u001b[0mself\u001b[0m\u001b[0;34m.\u001b[0m\u001b[0m_load_hook_\u001b[0m\u001b[0;34m(\u001b[0m\u001b[0madditional_fields\u001b[0m\u001b[0;34m)\u001b[0m\u001b[0;34m\u001b[0m\u001b[0;34m\u001b[0m\u001b[0m\n\u001b[0;32m---> 78\u001b[0;31m         \u001b[0mdf\u001b[0m \u001b[0;34m=\u001b[0m \u001b[0mself\u001b[0m\u001b[0;34m.\u001b[0m\u001b[0m_post_load_hook_\u001b[0m\u001b[0;34m(\u001b[0m\u001b[0mdf\u001b[0m\u001b[0;34m)\u001b[0m\u001b[0;34m\u001b[0m\u001b[0;34m\u001b[0m\u001b[0m\n\u001b[0m\u001b[1;32m     79\u001b[0m         \u001b[0mself\u001b[0m\u001b[0;34m.\u001b[0m\u001b[0m_detect_missing_fields_hook_\u001b[0m\u001b[0;34m(\u001b[0m\u001b[0mdf\u001b[0m\u001b[0;34m,\u001b[0m \u001b[0mfields\u001b[0m\u001b[0;34m)\u001b[0m\u001b[0;34m\u001b[0m\u001b[0;34m\u001b[0m\u001b[0m\n\u001b[1;32m     80\u001b[0m         \u001b[0mdf\u001b[0m\u001b[0;34m,\u001b[0m \u001b[0mDF\u001b[0m \u001b[0;34m=\u001b[0m \u001b[0mself\u001b[0m\u001b[0;34m.\u001b[0m\u001b[0m_create_shadow_dataframe\u001b[0m\u001b[0;34m(\u001b[0m\u001b[0mdf\u001b[0m\u001b[0;34m,\u001b[0m \u001b[0mfields\u001b[0m\u001b[0;34m)\u001b[0m\u001b[0;34m\u001b[0m\u001b[0;34m\u001b[0m\u001b[0m\n",
      "\u001b[0;32m~/UbWinSharedSpace1/ccf-nda-behavioral/PycharmToolbox/NDA_submissions/NDA_submissions/Crosswalk/Loader.py\u001b[0m in \u001b[0;36m_post_load_hook_\u001b[0;34m(self, df)\u001b[0m\n\u001b[1;32m    230\u001b[0m \u001b[0;32mclass\u001b[0m \u001b[0mQintHcaLoader\u001b[0m\u001b[0;34m(\u001b[0m\u001b[0mQintLoader\u001b[0m\u001b[0;34m)\u001b[0m \u001b[0;34m:\u001b[0m\u001b[0;34m\u001b[0m\u001b[0;34m\u001b[0m\u001b[0m\n\u001b[1;32m    231\u001b[0m     \u001b[0;32mdef\u001b[0m \u001b[0m_post_load_hook_\u001b[0m\u001b[0;34m(\u001b[0m\u001b[0mself\u001b[0m\u001b[0;34m,\u001b[0m \u001b[0mdf\u001b[0m\u001b[0;34m)\u001b[0m\u001b[0;34m:\u001b[0m\u001b[0;34m\u001b[0m\u001b[0;34m\u001b[0m\u001b[0m\n\u001b[0;32m--> 232\u001b[0;31m         \u001b[0mdf\u001b[0m \u001b[0;34m=\u001b[0m \u001b[0mdf\u001b[0m\u001b[0;34m[\u001b[0m\u001b[0mdf\u001b[0m\u001b[0;34m.\u001b[0m\u001b[0msubjectid\u001b[0m\u001b[0;34m.\u001b[0m\u001b[0mstr\u001b[0m\u001b[0;34m.\u001b[0m\u001b[0mstartswith\u001b[0m\u001b[0;34m(\u001b[0m\u001b[0;34m'HCA'\u001b[0m\u001b[0;34m,\u001b[0m \u001b[0;32mFalse\u001b[0m\u001b[0;34m)\u001b[0m\u001b[0;34m]\u001b[0m\u001b[0;34m\u001b[0m\u001b[0;34m\u001b[0m\u001b[0m\n\u001b[0m\u001b[1;32m    233\u001b[0m         \u001b[0;32mreturn\u001b[0m \u001b[0msuper\u001b[0m\u001b[0;34m(\u001b[0m\u001b[0;34m)\u001b[0m\u001b[0;34m.\u001b[0m\u001b[0m_post_load_hook_\u001b[0m\u001b[0;34m(\u001b[0m\u001b[0mdf\u001b[0m\u001b[0;34m)\u001b[0m\u001b[0;34m\u001b[0m\u001b[0;34m\u001b[0m\u001b[0m\n\u001b[1;32m    234\u001b[0m \u001b[0;34m\u001b[0m\u001b[0m\n",
      "\u001b[0;32m~/.virtualenvs/NDA_submissions_venv/lib/python3.6/site-packages/pandas/core/generic.py\u001b[0m in \u001b[0;36m__getattr__\u001b[0;34m(self, name)\u001b[0m\n\u001b[1;32m   5272\u001b[0m             \u001b[0;32mif\u001b[0m \u001b[0mself\u001b[0m\u001b[0;34m.\u001b[0m\u001b[0m_info_axis\u001b[0m\u001b[0;34m.\u001b[0m\u001b[0m_can_hold_identifiers_and_holds_name\u001b[0m\u001b[0;34m(\u001b[0m\u001b[0mname\u001b[0m\u001b[0;34m)\u001b[0m\u001b[0;34m:\u001b[0m\u001b[0;34m\u001b[0m\u001b[0;34m\u001b[0m\u001b[0m\n\u001b[1;32m   5273\u001b[0m                 \u001b[0;32mreturn\u001b[0m \u001b[0mself\u001b[0m\u001b[0;34m[\u001b[0m\u001b[0mname\u001b[0m\u001b[0;34m]\u001b[0m\u001b[0;34m\u001b[0m\u001b[0;34m\u001b[0m\u001b[0m\n\u001b[0;32m-> 5274\u001b[0;31m             \u001b[0;32mreturn\u001b[0m \u001b[0mobject\u001b[0m\u001b[0;34m.\u001b[0m\u001b[0m__getattribute__\u001b[0m\u001b[0;34m(\u001b[0m\u001b[0mself\u001b[0m\u001b[0;34m,\u001b[0m \u001b[0mname\u001b[0m\u001b[0;34m)\u001b[0m\u001b[0;34m\u001b[0m\u001b[0;34m\u001b[0m\u001b[0m\n\u001b[0m\u001b[1;32m   5275\u001b[0m \u001b[0;34m\u001b[0m\u001b[0m\n\u001b[1;32m   5276\u001b[0m     \u001b[0;32mdef\u001b[0m \u001b[0m__setattr__\u001b[0m\u001b[0;34m(\u001b[0m\u001b[0mself\u001b[0m\u001b[0;34m,\u001b[0m \u001b[0mname\u001b[0m\u001b[0;34m:\u001b[0m \u001b[0mstr\u001b[0m\u001b[0;34m,\u001b[0m \u001b[0mvalue\u001b[0m\u001b[0;34m)\u001b[0m \u001b[0;34m->\u001b[0m \u001b[0;32mNone\u001b[0m\u001b[0;34m:\u001b[0m\u001b[0;34m\u001b[0m\u001b[0;34m\u001b[0m\u001b[0m\n",
      "\u001b[0;31mAttributeError\u001b[0m: 'DataFrame' object has no attribute 'subjectid'"
     ]
    }
   ],
   "source": [
    "# This step requires that you have a 'rosetta stone' file that has all the required NDA fields for \n",
    "# all subjects you intend to submit at this time.  This approach facilitates keeping track of subject counts\n",
    "# across data types.  For example, if your required fields are already stored in XNAT because you had the CCF\n",
    "# upload your imaging data for you, you can export this csv from XNAT and rename as appropriate.  \n",
    "# Place this file at the main level of this repository, and name it in your config file\n",
    "# Loader.py program's _post_load_hook_ method referenced below.  \n",
    "\n",
    "M.preload_data()"
   ]
  },
  {
   "cell_type": "code",
   "execution_count": null,
   "metadata": {},
   "outputs": [],
   "source": [
    "#Ad hoc functions to clean up empty rows for particular instruments after generated (issue for redcap data)\n",
    "def redcleanup(structure=\"lbadl01\",filePath=\"./prepped/hca/\",extraomitcol1='NO',extraomitcol2='NO',extraomitcol3='NO',extraomitcol4='NO'):\n",
    "    print(structure)\n",
    "    strucroot=structure[:-2]\n",
    "    strucnum=structure[-2:]\n",
    "\n",
    "    df=pd.read_csv(filePath+structure+\".csv\",header=1)\n",
    "    df.head()\n",
    "\n",
    "    print(\"NumRows Before: \"+str(df.shape[0]))\n",
    "    subfields=df.columns.to_list()\n",
    "    subfields.remove('subjectkey')\n",
    "    subfields.remove('src_subject_id')\n",
    "    subfields.remove('interview_date')\n",
    "    subfields.remove('interview_age')\n",
    "    subfields.remove('sex')\n",
    "    if extraomitcol1 and extraomitcol1 !='NO':\n",
    "        subfields.remove(extraomitcol1)\n",
    "    if extraomitcol2 and extraomitcol2 !='NO':\n",
    "        subfields.remove(extraomitcol2)\n",
    "    if extraomitcol3 and extraomitcol3 !='NO':\n",
    "        subfields.remove(extraomitcol3)\n",
    "    if extraomitcol4 and extraomitcol4 !='NO':\n",
    "        subfields.remove(extraomitcol4)\n",
    "    df=df.dropna(how='all',subset=subfields)\n",
    "    print(\"NumRows After: \"+str(df.shape[0]))\n",
    "\n",
    "    with open(filePath+structure+\".csv\",'w') as f:\n",
    "        f.write(strucroot+\",\"+str(int(strucnum))+\"\\n\")\n",
    "        df.to_csv(f,index=False)\n",
    " \n",
    "\n",
    "    \n",
    "\n",
    "\n",
    "#these guys already set to 99s in map, so null finder wont work above\n",
    "def asrover60(structure=\"asr01\",filePath=\"./prepped/hca/\"):\n",
    "    print(structure)\n",
    "    strucroot=structure[:-2]\n",
    "    strucnum=structure[-2:]\n",
    "    df=pd.read_csv(filePath+structure+\".csv\",header=1)\n",
    "    print(\"NumRows Before: \"+str(df.shape[0]))\n",
    "    #df=df.loc[df.interview_age>719].copy()\n",
    "    df=df.loc[~((df.asr2_2==-99)&(df.asr3_2==-99))]\n",
    "    df=df.drop(columns=['asr2_3_text',\n",
    "        'oasr_ppl9_des',\n",
    "        'asr5_5_text',\n",
    "        'asr7_4_text',\n",
    "        'asr8_4_text',\n",
    "        'asr10_6_text',\n",
    "        'asr13_3_text',\n",
    "        'asr14_1_text',\n",
    "        'asr15_2_text',\n",
    "        'asr16_3_text',\n",
    "        'asr16_4_text',\n",
    "        'asr17_5_text',\n",
    "        'asr19_1_text',\n",
    "        'cbcl56h_des'\n",
    "        ])\n",
    "    print(\"NumRows After: \"+str(df.shape[0]))\n",
    "    with open(filePath+structure+\".csv\",'w') as f:\n",
    "        f.write(strucroot+\",\"+str(int(strucnum))+\"\\n\")\n",
    "        df.to_csv(f,index=False)\n",
    "    #print(subset)\n",
    "        \n",
    "def satisfy(structure='scan_debrief01',filePath=\"./prepped/hca/\"):  \n",
    "    print(structure)\n",
    "    strucroot=structure[:-2]\n",
    "    strucnum=structure[-2:]\n",
    "    df=pd.read_csv(filePath+structure+\".csv\",header=1)\n",
    "    print(\"NumRows Before: \"+str(df.shape[0]))\n",
    "    df=df.drop(columns=['satisfaction1more','satisfaction2more','satisfaction4more','satisfaction5','satisfaction6'])\n",
    "    print(\"NumRows After: \"+str(df.shape[0]))\n",
    "    with open(filePath+structure+\".csv\",'w') as f:\n",
    "        f.write(strucroot+\",\"+str(int(strucnum))+\"\\n\")\n",
    "        df.to_csv(f,index=False)\n",
    "\n",
    "        \n",
    "def cleanlist(structurelist=['lbadl01','mchq01']):\n",
    "    for i in structurelist:\n",
    "        print(i)\n",
    "        redcleanup(structure=i,filePath=\"./prepped/hca/\")"
   ]
  },
  {
   "cell_type": "code",
   "execution_count": null,
   "metadata": {},
   "outputs": [],
   "source": [
    "def cleanzeros(structure='vitals01',filePath=\"./prepped/hca/\"):\n",
    "    #print(structure)\n",
    "    strucroot=structure[:-2]\n",
    "    strucnum=structure[-2:]\n",
    "    df=pd.read_csv(filePath+structure+\".csv\",header=1)\n",
    "    df.loc[df.vtl007==0,'vtl007']=np.NaN\n",
    "    df.loc[df.bp_stand=='11/80','bp_stand']=np.NaN\n",
    "    df.loc[df.bp_stand=='9999','bp_stand']=np.NaN\n",
    "    with open(filePath+structure+\".csv\",'w') as f:\n",
    "        f.write(strucroot+\",\"+str(int(strucnum))+\"\\n\")\n",
    "        df.to_csv(f,index=False)\n"
   ]
  },
  {
   "cell_type": "code",
   "execution_count": null,
   "metadata": {},
   "outputs": [],
   "source": [
    "M.run('psqi01')\n",
    "cleanlist(structurelist=['psqi01'])"
   ]
  },
  {
   "cell_type": "code",
   "execution_count": null,
   "metadata": {},
   "outputs": [],
   "source": [
    "M.run('trail_ca01')\n",
    "redcleanup(structure=\"trail_ca01\",filePath=\"./prepped/hca/\",extraomitcol1='seizures',extraomitcol2='versionchildadult')\n"
   ]
  },
  {
   "cell_type": "code",
   "execution_count": null,
   "metadata": {},
   "outputs": [],
   "source": [
    "M.run('vitals01')\n",
    "cleanzeros()"
   ]
  },
  {
   "cell_type": "code",
   "execution_count": null,
   "metadata": {},
   "outputs": [],
   "source": [
    "M.run('ssaga_cover_demo01')"
   ]
  },
  {
   "cell_type": "code",
   "execution_count": null,
   "metadata": {
    "scrolled": true
   },
   "outputs": [],
   "source": [
    "# The commented out structs dont seem to be laid out as requested...need to investigate further...perhaps turn into \n",
    "#singleton structure, since doesnt follow typical one row per subject format\n",
    "structs = [\n",
    "    'lbadl01',\n",
    "    'mchq01',\n",
    "    'er4001',\n",
    "    'deldisk01',\n",
    "    'asr01',\n",
    "    'batbil01',\n",
    "    'bsc01',\n",
    "    'drugscr01',\n",
    "    'gales01',\n",
    "    'ipaq01',\n",
    "    'leap01',\n",
    "    'medh01',\n",
    "    'mendt01',\n",
    "    'moca01',\n",
    "    'nffi01',\n",
    "    #'psqi01',\n",
    "    'ravlt01',\n",
    "    'scan_debrief01',\n",
    "  ]\n",
    "\n",
    "for s in structs:\n",
    "    M.run(s)\n",
    "    print(s)   \n",
    "cleanlist(structurelist=structs)\n",
    "asrover60(structure=\"asr01\",filePath=\"./prepped/hca/\")\n",
    "redcleanup(structure=\"deldisk01\",filePath=\"./prepped/hca/\",extraomitcol1='version_form',extraomitcol2='comqother')\n",
    "redcleanup(structure=\"medh01\",filePath=\"./prepped/hca/\",extraomitcol1='comqother')\n",
    "redcleanup(structure=\"bsc01\",filePath=\"./prepped/hca/\",extraomitcol1='comqother')\n",
    "redcleanup(structure=\"ravlt01\",filePath=\"./prepped/hca/\",extraomitcol1='ravlt_delt',extraomitcol2='ravlt_disct',extraomitcol3='ravlt_tott')\n",
    "redcleanup(structure=\"scan_debrief01\",filePath=\"./prepped/hca/\",extraomitcol1='comqother')\n",
    "satisfy(structure='scan_debrief01',filePath=\"./prepped/hca/\")"
   ]
  },
  {
   "cell_type": "code",
   "execution_count": null,
   "metadata": {},
   "outputs": [],
   "source": [
    "# SSAGA and not mapped at this time because NDA wanted to reconsider how they organize this info per 5/1/20 email.  \n",
    "# update:  Leo sent demographics for SSAGA: ssaga_cover_demo01 (see above)\n",
    "structs2 = [\n",
    "#     'diagpsx01',\n",
    "#     'eatdisdemo01',\n",
    "#     'phenx_sib01',\n",
    "#     'scidv_pscyh01',\n",
    "#     'socdem01'\n",
    "  ]\n",
    "\n",
    "for s in structs2:\n",
    "    M.run(s)"
   ]
  },
  {
   "cell_type": "code",
   "execution_count": null,
   "metadata": {},
   "outputs": [],
   "source": []
  }
 ],
 "metadata": {
  "kernelspec": {
   "display_name": "nda-submissions",
   "language": "python",
   "name": "nda-submissions"
  },
  "language_info": {
   "codemirror_mode": {
    "name": "ipython",
    "version": 3
   },
   "file_extension": ".py",
   "mimetype": "text/x-python",
   "name": "python",
   "nbconvert_exporter": "python",
   "pygments_lexer": "ipython3",
   "version": "3.8.6"
  }
 },
 "nbformat": 4,
 "nbformat_minor": 2
}
