{
 "cells": [
  {
   "cell_type": "code",
   "execution_count": null,
   "metadata": {},
   "outputs": [],
   "source": [
    "from funcs import funcs\n",
    "from Crosswalk.Transformer import Transformer\n",
    "from Crosswalk.DataCache import DataCache\n",
    "from Crosswalk.NDAWriter import NDAWriter\n",
    "from Crosswalk.Manager import Manager\n",
    "\n",
    "from Crosswalk.Loader import Loader, BoxLoader, BoxHcaLoader, SsagaLoader, QintHcaLoader, RedcapLoader\n",
    "import pandas as pd\n",
    "import numpy as np\n",
    "import Crosswalk.cleanupfuncs as cleanupfuncs\n"
   ]
  },
  {
   "cell_type": "code",
   "execution_count": null,
   "metadata": {},
   "outputs": [],
   "source": [
    "#create folder for prepped structures, if it doesn't exist\n",
    "!!mkdir prepped\n",
    "!!mkdir prepped/hca"
   ]
  },
  {
   "cell_type": "code",
   "execution_count": null,
   "metadata": {},
   "outputs": [],
   "source": [
    "# note the path to the validator below.  This is the vtcmd.py validator written by the NDA.  \n",
    "# If you haven't already installed this, please do so now: https://github.com/NDAR/nda-tools\n",
    "# and the place the path that shows up when you type 'which vtcmd' from your terminal\n",
    "# validation results will be sent to and read from whatever default is specified in the vtcmd configuration file,\n",
    "# so if you're using vtcmd to validate any other datatypes, keep this in mind.\n",
    "\n",
    "M = Manager(\n",
    "        data =  DataCache(\n",
    "            BoxHcaLoader('PennCNP',592325063896),\n",
    "            RedcapLoader('hcpa'),          \n",
    "            QintHcaLoader()\n",
    "        ),#SsagaLoader(),\n",
    "        writer = NDAWriter(completed_dir=\"./prepped/hca/\", validator=\"vtcmd\"),\n",
    "        #writer = NDAWriter(completed_dir=\"./prepped/hca/\"),\n",
    "        transformer = Transformer(funcs = funcs, map_dir='./maps/hca/')\n",
    ")\n",
    "\n",
    "#M = Manager(\n",
    "#        data =  DataCache(RedcapLoader('hcpa')),\n",
    "#        writer = NDAWriter(completed_dir=\"./prepped/hca/\", validator=\"vtcmd\"),\n",
    "#        #writer = NDAWriter(completed_dir=\"./prepped/hca/\"),\n",
    "#        transformer = Transformer(funcs = funcs, map_dir='./maps/hca/'))"
   ]
  },
  {
   "cell_type": "code",
   "execution_count": null,
   "metadata": {},
   "outputs": [],
   "source": [
    "# This step requires that you have a 'rosetta stone' file that has all the required NDA fields for \n",
    "# all subjects you intend to submit at this time.  This approach facilitates keeping track of subject counts\n",
    "# across data types.  For example, if your required fields are already stored in XNAT because you had the CCF\n",
    "# upload your imaging data for you, you can export this csv from XNAT and rename as appropriate.  \n",
    "# Place this file at the main level of this repository, and name it in your config file\n",
    "# Loader.py program's _post_load_hook_ method referenced below.  \n",
    "\n",
    "M.preload_data(['hcpa','PennCNP','qint'])\n",
    "#dir(M)"
   ]
  },
  {
   "cell_type": "code",
   "execution_count": null,
   "metadata": {},
   "outputs": [],
   "source": [
    "M.run('psqi01')\n",
    "cleanupfuncs.cleanlist(structurelist=['psqi01'],fPath=\"./prepped/hca/\")"
   ]
  },
  {
   "cell_type": "code",
   "execution_count": null,
   "metadata": {},
   "outputs": [],
   "source": [
    "M.run('trail_ca01')\n",
    "cleanupfuncs.redcleanup(structure=\"trail_ca01\",filePath=\"./prepped/hca/\",extraomitcol1='seizures',extraomitcol2='versionchildadult')\n"
   ]
  },
  {
   "cell_type": "code",
   "execution_count": null,
   "metadata": {},
   "outputs": [],
   "source": [
    "M.run('vitals01')\n",
    "cleanupfuncs.cleanzeros()"
   ]
  },
  {
   "cell_type": "code",
   "execution_count": null,
   "metadata": {},
   "outputs": [],
   "source": [
    "#ssaga_moved to new structures (still waiting)\n",
    "#M.run('ssaga_cover_demo01')"
   ]
  },
  {
   "cell_type": "code",
   "execution_count": null,
   "metadata": {
    "scrolled": true
   },
   "outputs": [],
   "source": [
    "structs = [\n",
    "    'lbadl01',\n",
    "    'mchq01',\n",
    "    'er4001', \n",
    "    'deldisk01',\n",
    "    'asr01',\n",
    "    'batbil01',\n",
    "    'bsc01',\n",
    "    #'drugscr01', drugscr mapped incorrectly.  Taken out of 2.0 and 3.0 release\n",
    "    'gales01',\n",
    "    'ipaq01',\n",
    "    'leap01',\n",
    "    'medh01',\n",
    "    'mendt01',\n",
    "    'moca01',\n",
    "    'nffi01',\n",
    "    'ravlt01',\n",
    "    'scan_debrief01',\n",
    "  ]\n",
    "\n",
    "for s in structs:\n",
    "    M.run(s)\n",
    "    print(s)   \n",
    "\n"
   ]
  },
  {
   "cell_type": "code",
   "execution_count": null,
   "metadata": {},
   "outputs": [],
   "source": [
    "cleanupfuncs.cleanlist(structurelist=structs,fPath=\"./prepped/hca/\")\n",
    "\n",
    "#cleanupfuncs.redcleanup(structure=\"bsc01\", filePath=\"./prepped/hca/\")\n",
    "cleanupfuncs.asrover60(structure=\"asr01\",filePath=\"./prepped/hca/\")\n",
    "cleanupfuncs.redcleanup(structure=\"asr01\", filePath=\"./prepped/hca/\", extraomitcol1='version_form', extraomitcol2='NO',\n",
    "    extraomitcol3='NO', extraomitcol4='NO', extraomitcol5='NO')\n",
    "cleanupfuncs.redcleanup(structure=\"deldisk01\",filePath=\"./prepped/hca/\",extraomitcol1='version_form',extraomitcol2='NO',\n",
    "    extraomitcol3='NO', extraomitcol4='NO', extraomitcol5='NO')\n",
    "cleanupfuncs.redcleanup(structure=\"medh01\",filePath=\"./prepped/hca/\",extraomitcol1='NO')\n",
    "#cleanupfuncs.redcleanup(structure=\"bsc01\",filePath=\"./prepped/hca/\",extraomitcol1='NO')\n",
    "cleanupfuncs.redcleanup(structure=\"ravlt01\",filePath=\"./prepped/hca/\",extraomitcol1='ravlt_delt',extraomitcol2='ravlt_disct',extraomitcol3='ravlt_tott')#\n",
    "\n",
    "cleanupfuncs.redcleanup(structure=\"scan_debrief01\",filePath=\"./prepped/hca/\",extraomitcol1='NO')\n"
   ]
  },
  {
   "cell_type": "code",
   "execution_count": null,
   "metadata": {},
   "outputs": [],
   "source": []
  },
  {
   "cell_type": "code",
   "execution_count": null,
   "metadata": {},
   "outputs": [],
   "source": [
    "# rest of SSAGA still not mapped 11/11/2020\n",
    "structs2 = [\n",
    "#     'diagpsx01',\n",
    "#     'eatdisdemo01',\n",
    "#     'phenx_sib01',\n",
    "#     'scidv_pscyh01',\n",
    "#     'socdem01'\n",
    "  ]\n",
    "\n",
    "for s in structs2:\n",
    "    M.run(s)"
   ]
  },
  {
   "cell_type": "code",
   "execution_count": null,
   "metadata": {},
   "outputs": [],
   "source": [
    "#fix noninteger types\n",
    "a=['asr1_1','asr1_3','asr1_5','asr4_3','asr4_4','asr4_5','asr4_6','asr5_1','asr5_2','asr5_4','asr6_6','asr7_1','asr7_3','asr7_6','asr8_1','asr8_4','asr8_5','asr11_6','asr12_2','asr12_4','asr12_6','asr13_3','asr13_4','asr14_2','asr14_3','asr14_6','asr15_2','asr17_2','asr19_2','asr19_6','asr20_3','asr21_3','asr22_1','asr22_2','asr22_3','asr22_5','asr3_1','asr6_4','oasr_ppl35','oasr_ppl3','oasr_ppl39','asr8_6','oasr_ppl16','oasr_ppl19','oasr_ppl20','oasr_ppl47','oasr_ppl49_10','oasr_ppl49_11','oasr_ppl54','oasr_ppl79','oasr_ppl101','oasr_ppl102','oasr_ppl109','oasr_ppl110','oasr_ppl114','oasr_ppl121','oasr_ppl33']\n",
    "cleanupfuncs.integercleanup(structure='asr01',filePath=\"./prepped/hca/\",varlist=a)\n",
    "b=['batlq4','batlq8','batlq_score1','batlq_score10','batlq_score11','batlq_score13','batlq_score14','batlq_score16','batlq_score17','batlq_score18','batlq_score19','batlq_score2','batlq_score20','batlq_score23','batlq_score24','batlq_score25','batlq_score26','batlq_score27','batlq_score28','batlq_score29','batlq_score3','batlq_score30','batlq_score31','batlq_score33','batlq_score39','batlq_score4','batlq_score5','batlq_score6','batlq_score7','batlq_score8','batlq_score9','batlq1_lc','batlq1_dz','batlq16_lc','batlq16_dz','batlq23_lc','batlq23_dz','batlq14_lc','batlq14_dz','batlq18_lc','batlq18_dz','batlq20_lc','batlq20_dz','batlq39_lc','batlq39_dz','batlq9_lc','batlq9_dz','batlq24_lc','batlq24_dz','batlq10_lc','batlq10_dz','batlq5_lc','batlq5_dz','batlq27_lc','batlq27_dz','batlq11_lc','batlq11_dz','batlq7_lc','batlq7_dz','batlq19_lc','batlq19_dz','batlq25_lc','batlq25_dz','batlq4_lc','batlq4_dz','batlq6_lc','batlq6_dz','batlq17_lc','batlq17_dz','batlq35_lc','batlq35_dz','batlq38_lc','batlq38_dz','batlq13_lc','batlq13_dz','batlq33_lc','batlq33_dz','batlq8_lc','batlq8_dz','batlq2_lc','batlq2_dz','batlq26_lc','batlq26_dz','batlq36_lc','batlq36_dz','batlq34_lc','batlq34_dz','batlq12_lc','batlq12_dz','batlq31_lc','batlq31_dz','batlq21_lc','batlq21_dz','batlq29_lc','batlq29_dz','batlq3_lc','batlq3_dz','batlq28_lc','batlq28_dz','batlq30_lc','batlq30_dz']\n",
    "cleanupfuncs.integercleanup(structure='batbil01',filePath=\"./prepped/hca/\",varlist=b)\n",
    "b2=['bld_core','bld_core_grn','biospc_8','fasting','bld_core_snack','bld_core_spin','bld_rucdr','biospc_6','vitdlev','ls_alt','ls_ast','chloride','glucose','sodium','ed1_saliva','bld_core_d2ph','bld_core_d2pm','bld_core_p2fh','bld_core_p2fm','laba6']\n",
    "cleanupfuncs.integercleanup(structure='bsc01',filePath=\"./prepped/hca/\",varlist=b2)\n",
    "d=['ddisc_valid']\n",
    "cleanupfuncs.integercleanup(structure='deldisk01',filePath=\"./prepped/hca/\",varlist=d)\n",
    "#dd=['caffeine_s1yn','nicotine_s1yn','drug1_1','drug1_2','drug1_3','drug1_4','drug1_5','drug1_6','caffeine_s1preday','nicotine_s1preday']\n",
    "#integercleanup(structure='drugscr01',filePath=\"./prepped/hca/\",varlist=dd)\n",
    "g=['gales1','gales2','gales3','gales4','gales5','gales6','gales6b','gales6c','gales7','gales8','gales9','gales10','gales11','gales12','gales13','gales14','gales15','gales16','gales17','gales18','gales19','gales20','gales21','gales21b','gales21c','gales22','gales23','gales24','gales25','gales26','gales_worst','gales1b','gales1c','gales3b','gales3c','gales10b','gales10c','gales13b','gales13c','gales16b','gales16c','gales18b','gales18c','gales19b','gales19c','gales20b','gales20c','gales2b','gales2c','gales7b','gales7c','gales9b','gales9c','gales25b','gales25c','gales22b','gales22c','gales23b','gales23c','gales24b','gales24c','gales26b','gales26c','gales8b','gales8c','gales11b','gales11c','gales12b','gales12c','gales4b','gales4c','gales17b','gales17c','gales5b','gales5c','gales14b','gales14c','gales15b','gales15c']\n",
    "cleanupfuncs.integercleanup(structure='gales01',filePath=\"./prepped/hca/\",varlist=g)\n",
    "i=['ipaq2','ipaq5a','ipaq5b','ipaq7a','ipaq7b','ipaq26a','ipaq26n','ipaq3a','ipaq3b']\n",
    "cleanupfuncs.integercleanup(structure='ipaq01',filePath=\"./prepped/hca/\",varlist=i)\n",
    "l=['adlnow8','adlnow12','adlnow4','adlnow1','iadl05','iadl6','adlnow14','adlnow2','lbadl_currtot']\n",
    "cleanupfuncs.integercleanup(structure='lbadl01',filePath=\"./prepped/hca/\",varlist=l)\n",
    "la=['lan_know','lan611','lan612','lan613','lan621','lan622','lan623','lan71','lan72','lan81','lan82','lan631','lan632','lan633','lan73','lan83','lan641','lan642','lan643','lan74','lan84']\n",
    "cleanupfuncs.integercleanup(structure='leap01',filePath=\"./prepped/hca/\",varlist=la)\n",
    "m=['scq_24_a','mchq_17','mchq_21','straw1','straw1a','straw1b','straw2','straw3','straw4a','straw4b','straw3a','straw2a','straw2b','straw3b']\n",
    "cleanupfuncs.integercleanup(structure='mchq01',filePath=\"./prepped/hca/\",varlist=m)\n",
    "m2=['dental1','dental2','dental3','dental4','dental5','dental6']\n",
    "cleanupfuncs.integercleanup(structure='medh01',filePath=\"./prepped/hca/\",varlist=m2)\n",
    "m3=['othmed0a','num_meds']\n",
    "cleanupfuncs.integercleanup(structure='mendt01',filePath=\"./prepped/hca/\",varlist=m3)\n",
    "m4=['moca_edu']\n",
    "cleanupfuncs.integercleanup(structure='moca01',filePath=\"./prepped/hca/\",varlist=m4)\n",
    "n=['nffi_2','nffi_5','nffi_6','nffi_7','nffi_8','nffi_10','nffi_14','nffi_19','nffi_20','nffi_22','nffi_23','nffi_28','nffi_29','nffi_32','nffi_33','nffi_34','nffi_35','nffi_36','nffi_37','nffi_38','nffi_39','nffi_40','nffi_41','nffi_42','nffi_43','nffi_44','nffi_45','nffi_46','nffi_47','nffi_48','nffi_49','nffi_50','nffi_51','nffi_52','nffi_53','nffi_54','nffi_55','nffi_56','nffi_57','nffi_58','nffi_59','nffi_60']\n",
    "cleanupfuncs.integercleanup(structure='nffi01',filePath=\"./prepped/hca/\",varlist=n)\n",
    "p=['parent_sleep20','csq_psqi_4_score','insomnia8']#,'psqip6b_5'\n",
    "cleanupfuncs.integercleanup(structure='psqi01',filePath=\"./prepped/hca/\",varlist=p)\n",
    "r=['pea_ravlt_sd_tc','pea_ravlt_sd_trial_i_tc','pea_ravlt_sd_trial_ii_tc','pea_ravlt_sd_trial_iii_tc','pea_ravlt_sd_trial_iv_tc','pea_ravlt_sd_trial_v_tc','pea_ravlt_sd_listb_tc','pea_ravlt_sd_trial_vi_tc','delay_recall_intrusion','delay_total_intrusion','delay_total_repetitions']\n",
    "cleanupfuncs.integercleanup(structure='ravlt01',filePath=\"./prepped/hca/\",varlist=r)\n",
    "s=['satisfaction1','satisfaction2','satisfaction3','satisfaction4','satisfaction7','satisfaction8','satisfaction9','satisfaction10','satisfaction11']\n",
    "cleanupfuncs.integercleanup(structure='scan_debrief01',filePath=\"./prepped/hca/\",varlist=s)\n",
    "\n"
   ]
  },
  {
   "cell_type": "code",
   "execution_count": null,
   "metadata": {},
   "outputs": [],
   "source": []
  }
 ],
 "metadata": {
  "kernelspec": {
   "display_name": "NDAsubmissions_venv",
   "language": "python",
   "name": "ndasubmissions_venv"
  },
  "language_info": {
   "codemirror_mode": {
    "name": "ipython",
    "version": 3
   },
   "file_extension": ".py",
   "mimetype": "text/x-python",
   "name": "python",
   "nbconvert_exporter": "python",
   "pygments_lexer": "ipython3",
   "version": "3.9.9"
  }
 },
 "nbformat": 4,
 "nbformat_minor": 2
}
