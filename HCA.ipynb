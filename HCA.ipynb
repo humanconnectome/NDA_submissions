{
 "cells": [
  {
   "cell_type": "code",
   "execution_count": 1,
   "metadata": {},
   "outputs": [],
   "source": [
    "from funcs import funcs\n",
    "from Crosswalk.Transformer import Transformer\n",
    "from Crosswalk.DataCache import DataCache\n",
    "from Crosswalk.NDAWriter import NDAWriter\n",
    "from Crosswalk.Manager import Manager\n",
    "\n",
    "from Crosswalk.Loader import BoxLoader, SsagaLoader, QintLoader, RedcapLoader"
   ]
  },
  {
   "cell_type": "code",
   "execution_count": 4,
   "metadata": {},
   "outputs": [],
   "source": [
    "M = Manager(\n",
    "        data =  DataCache(\n",
    "            RedcapLoader('hcpa'),\n",
    "#             SsagaLoader(),\n",
    "            QintLoader()\n",
    "        ),\n",
    "        writer = NDAWriter(completed_dir=\"./prepped/hca/\"),\n",
    "        transformer = Transformer(funcs = funcs, map_dir='./maps/hca/')\n",
    ")"
   ]
  },
  {
   "cell_type": "code",
   "execution_count": 5,
   "metadata": {},
   "outputs": [
    {
     "name": "stdout",
     "output_type": "stream",
     "text": [
      "Timing:  hcpa 2.111159086227417\n",
      "Timing:  qint 0.054046630859375\n"
     ]
    }
   ],
   "source": [
    "M.preload_data()"
   ]
  },
  {
   "cell_type": "code",
   "execution_count": 6,
   "metadata": {},
   "outputs": [
    {
     "name": "stdout",
     "output_type": "stream",
     "text": [
      "For struct \"leap01\": \n",
      "lan3err: Invalid values  {105.0, 118.0}\n",
      "Dropping 2 values.\n",
      "No errors!\n"
     ]
    }
   ],
   "source": [
    "M.run(\"leap01\")"
   ]
  },
  {
   "cell_type": "code",
   "execution_count": null,
   "metadata": {},
   "outputs": [],
   "source": []
  },
  {
   "cell_type": "code",
   "execution_count": 8,
   "metadata": {},
   "outputs": [
    {
     "name": "stdout",
     "output_type": "stream",
     "text": [
      "For struct \"asr01\": \n",
      "No errors!\n",
      "For struct \"batbil01\": \n",
      "No errors!\n",
      "For struct \"bsc01\": \n",
      "No errors!\n",
      "For struct \"drugscr01\": \n",
      "No errors!\n",
      "For struct \"gales01\": \n",
      "No errors!\n",
      "For struct \"ipaq01\": \n",
      "No errors!\n",
      "For struct \"lbadl01\": \n",
      "No errors!\n",
      "For struct \"mchq01\": \n",
      "No errors!\n",
      "For struct \"medh01\": \n",
      "No errors!\n",
      "For struct \"mendt01\": \n",
      "No errors!\n",
      "For struct \"moca01\": \n",
      "No errors!\n",
      "For struct \"nffi01\": \n",
      "No errors!\n",
      "For struct \"psqi01\": \n",
      "No errors!\n",
      "For struct \"ravlt01\": \n",
      "No errors!\n",
      "For struct \"scan_debrief01\": \n",
      "No errors!\n"
     ]
    }
   ],
   "source": [
    "# The commented out structs are manually implemented below\n",
    "structs = [\n",
    "    'asr01',\n",
    "    'batbil01',\n",
    "    'bsc01',\n",
    "#     'diagpsx01',\n",
    "    'drugscr01',\n",
    "#     'eatdisdemo01',\n",
    "    'gales01',\n",
    "    'ipaq01',\n",
    "    'lbadl01',\n",
    "#     'leap01',\n",
    "    'mchq01',\n",
    "    'medh01',\n",
    "    'mendt01',\n",
    "    'moca01',\n",
    "    'nffi01',\n",
    "#     'phenx_sib01',\n",
    "    'psqi01',\n",
    "    'ravlt01',\n",
    "    'scan_debrief01',\n",
    "#     'scidv_pscyh01',\n",
    "#     'socdem01'\n",
    "  ]\n",
    "\n",
    "for s in structs:\n",
    "    M.run(s)"
   ]
  },
  {
   "cell_type": "code",
   "execution_count": null,
   "metadata": {},
   "outputs": [],
   "source": []
  },
  {
   "cell_type": "code",
   "execution_count": null,
   "metadata": {},
   "outputs": [],
   "source": []
  }
 ],
 "metadata": {
  "kernelspec": {
   "display_name": "ccf",
   "language": "python",
   "name": "ccf"
  },
  "language_info": {
   "codemirror_mode": {
    "name": "ipython",
    "version": 3
   },
   "file_extension": ".py",
   "mimetype": "text/x-python",
   "name": "python",
   "nbconvert_exporter": "python",
   "pygments_lexer": "ipython3",
   "version": "3.8.2"
  }
 },
 "nbformat": 4,
 "nbformat_minor": 2
}
