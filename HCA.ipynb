{
 "cells": [
  {
   "cell_type": "code",
   "execution_count": 2,
   "metadata": {},
   "outputs": [
    {
     "data": {
      "text/plain": [
       "['mkdir: cannot create directory ‘prepped/hca’: File exists']"
      ]
     },
     "execution_count": 2,
     "metadata": {},
     "output_type": "execute_result"
    }
   ],
   "source": [
    "#create folder for prepped structures, if it doesn't exist\n",
    "!!mkdir prepped\n",
    "!!mkdir prepped/hca"
   ]
  },
  {
   "cell_type": "code",
   "execution_count": 3,
   "metadata": {},
   "outputs": [
    {
     "name": "stdout",
     "output_type": "stream",
     "text": [
      "Loading   ./maps/hca/ipaq01.yaml\n",
      "Loading   ./maps/hca/mchq01.yaml\n",
      "Loading   ./maps/hca/ravlt01.yaml\n",
      "Loading   ./maps/hca/vitals01.yaml\n",
      "Loading   ./maps/hca/asr01.yaml\n",
      "Loading   ./maps/hca/gales01.yaml\n",
      "Loading   ./maps/hca/trail_ca01.yaml\n",
      "Loading   ./maps/hca/bsc01.yaml\n",
      "Loading   ./maps/hca/batbil01.yaml\n",
      "Loading   ./maps/hca/psqi01.yaml\n",
      "Loading   ./maps/hca/lbadl01.yaml\n",
      "Loading   ./maps/hca/moca01.yaml\n",
      "Loading   ./maps/hca/er4001.yaml\n",
      "Loading   ./maps/hca/leap01.yaml\n",
      "Loading   ./maps/hca/deldisk01.yaml\n",
      "Loading   ./maps/hca/drugscr01.yaml\n",
      "Loading   ./maps/hca/ssaga_cover_demo01.yaml\n",
      "Loading   ./maps/hca/nffi01.yaml\n",
      "Loading   ./maps/hca/mendt01.yaml\n",
      "Loading   ./maps/hca/medh01.yaml\n",
      "Loading   ./maps/hca/scan_debrief01.yaml\n"
     ]
    }
   ],
   "source": [
    "# note the path to the validator below.  This is the vtcmd.py validator written by the NDA.  \n",
    "# If you haven't already installed this, please do so now: https://github.com/NDAR/nda-tools\n",
    "# and the place the path that shows up when you type 'which vtcmd' from your terminal\n",
    "# validation results will be sent to and read from whatever default is specified in the vtcmd configuration file,\n",
    "# so if you're using vtcmd to validate any other datatypes, keep this in mind.\n",
    "\n",
    "M = Manager(\n",
    "        data =  DataCache(\n",
    "            BoxHcaLoader('PennCNP',592325063896),\n",
    "            RedcapLoader('hcpa'),          \n",
    "            QintHcaLoader()\n",
    "        ),#SsagaLoader(),\n",
    "        writer = NDAWriter(completed_dir=\"./prepped/hca/\", validator=\"vtcmd\"),\n",
    "        #writer = NDAWriter(completed_dir=\"./prepped/hca/\"),\n",
    "        transformer = Transformer(funcs = funcs, map_dir='./maps/hca/')\n",
    ")\n",
    "\n",
    "#M = Manager(\n",
    "#        data =  DataCache(RedcapLoader('hcpa')),\n",
    "#        writer = NDAWriter(completed_dir=\"./prepped/hca/\", validator=\"vtcmd\"),\n",
    "#        #writer = NDAWriter(completed_dir=\"./prepped/hca/\"),\n",
    "#        transformer = Transformer(funcs = funcs, map_dir='./maps/hca/'))"
   ]
  },
  {
   "cell_type": "code",
   "execution_count": 4,
   "metadata": {},
   "outputs": [
    {
     "name": "stdout",
     "output_type": "stream",
     "text": [
      "fieldnames from config {'idvar': 'id', 'dobvar': 'dob', 'field': 'subject_id', 'interview_date': 'v1_date', 'sexatbirth': 'gender', 'sitenum': 'site'}\n",
      "fields from dicts ['batlq21_dzt', 'lan543', 'nicotine_s1vsttype1', 'straw4a', 'neo36', 'batlq29_age', 'asr66', 'batlq38_age', 'neo23', 'lan_know', 'iadl8', 'iadl2', 'batlq34_dzt', 'lan41', 'batlq10_dzt', 'nicotine_s5pretype', 'batlq24_dz', 'caffeine_s6pretime', 'batlq37_lc', 'gales26c', 'med9', 'caffeine_s4pretime', 'batlq14_age', 'batlq6_age', 'lan44', 'oasr_ppl8', 'gales4', 'nicotine_s4vsttime1', 'nicotine_s2', 'asr50', 'med3', 'batlq16_dzt', 'nicotine_s5yn', 'batlq22_age', 'caffeine_s6yn', 'batlq21_lc', 'alc_breath2', 'batlq25_dz', 'asr85', 'batlq11_lc', 'moca10', 'lh', 'neo7', 'batlq_score34', 'batlq7_age', 'oasr_ppl90', 'batlq8_age', 'nicotine_s3yn', 'batlq16_dz', 'bld_core_ppl', 'batlq12_age', 'straw_code', 'asr47', 'caffeine_s4', 'batlq6_dz', 'batlq3_dzt', 'med9_frqcy', 'psqi_com4', 'fsh', 'batlq11', 'bld_core', 'batlq_score30', 'neo14', 'asr75', 'caffeine_s1pretype', 'batlq_score20', 'med6', 'hscrp', 'gales21', 'caffeine_s3', 'oasr_ppl13', 'oasr_ppl32', 'bld_core_grn', 'asr97', 'asr28', 'batlq38_lct', 'med6_dose', 'batlq2_age', 'lan541', 'batlq13_age', 'batlq14_lc', 'moca_sum', 'gales17c', 'oasr_ppl17', 'friedewald_ldl', 'nicotine_s2pretime', 'psqi10', 'batlq27_lc', 'gales14', 'gales10', 'batlq22_dz', 'dental2_1', 'age', 'batlq5_age', 'dental5_2', 'nicotine_s2vsttype2', 'med15', 'gales1b', 'oasr_ppl53', 'mstrl1b_age', 'gales3c', 'batlq15_age', 'nicotine_s5pretime', 'oasr_ppl7', 'batlq_score15', 'caffeine_s6pretype', 'nicotine_s1vsttime1', 'med2_frqcy', 'batlq13_dzt', 'caffeine_s1yn', 'bld_core_snacktime', 'neo58', 'lan641', 'gales11c', 'batlq4', 'batlq_score19', 'asr5', 'batlq5_dzt', 'nicotine_s3vsttype2', 'lan623', 'batlq32_lct', 'neo3', 'psqi5c', 'batlq36_dz', 'drug3_5', 'drug1_6', 'bld_core_p2fm', 'gales19b', 'satisfaction8', 'gales_worst', 'asr77', 'neo_a', 'straw3b', 'batlq2_lct', 'neo22', 'asr103', 'batlq35', 'batlq_score7', 'lan511', 'psqi5j_2', 'drug2_6', 'caffeine_s6vsttype1', 'lan521', 'batlq39_dz', 'gales2b', 'gales15c', 'batlq_score24', 'oasr_ppl31', 'oasr_ppl45', 'asr23', 'lan21', 'nicotine_s6vsttime1', 'oasr_ppl75', 'batlq8_lct', 'caffeine_s4preday', 'mstrl2', 'asr95', 'batlq16_lct', 'oasr_ppl23', 'oasr_ppl49_1', 'mstrl1c_age', 'psqi5h', 'batlq2_dz', 'batlq25_lct', 'batlq36_lct', 'batlq3_lc', 'caffeine_s6', 'batlq28_lct', 'batlq2', 'glucose', 'batlq30', 'asr78', 'psqi5a', 'batlq10', 'neo21', 'lan622', 'satisfaction3', 'caffeine_s5vsttime1', 'asr91', 'batlq4_lct', 'batlq11_age', 'drug4_2', 'asr52', 'med12_dose', 'batlq33_lc', 'lan621', 'batlq12_lct', 'neo45', 'batlq31_dz', 'drug4_3', 'batlq17_age', 'batlq1_dzt', 'batlq3_dz', 'neo47', 'moca2', 'neo18', 'satisfaction11', 'moca6', 'oasr_ppl35', 'nicotine_s2vsttime2', 'drug5_3', 'batlq17_lc', 'nicotine_s2vsttype1', 'gales12b', 'nicotine_s6pretime', 'nicotine_session', 'drug5_6', 'batlq15_lct', 'batlq21_lct', 'gales19c', 'asr120', 'batlq15_dzt', 'weight', 'gales3b', 'med4_dose', 'lan534', 'batlq20_lct', 'batlq25_dzt', 'dental3_2', 'psqi_com7', 'neo24', 'batlq23_age', 'gales24b', 'batlq_score6', 'neo40', 'nicotine_s4yn', 'oasr_ppl49_5', 'straw2b', 'batlq_score29', 'batlq39', 'batlq23_dz', 'batlq9_age', 'drug4_4', 'batlq18_dz', 'alc_breath3', 'batlq33_age', 'drug4_1', 'batlq30_lct', 'drug6_5', 'lan544', 'gales16b', 'batlq35_lct', 'drug3_3', 'batlq5_lc', 'caffeine_s4yn', 'oasr_ppl81', 'batlq_score21', 'gales20c', 'batlq33_lct', 'lan531', 'moca5', 'batlq_score4', 'asr56d', 'batlq28_age', 'oasr_ppl47', 'batlq_score27', 'asr122', 'nicotine_s3pretime', 'asr92', 'batlq29_dz', 'lan31', 'asr16', 'bld_rucdr_grn', 'asr61', 'psqi2', 'med1', 'batlq18_age', 'batlq31_age', 'batlq_score22', 'med15_dose', 'drug3_6', 'batlq28_dz', 'neo42', 'cholesterol', 'caffeine_s5yn', 'asr36', 'asr102', 'ldl', 'batlq34_lc', 'batlq19_age', 'gales8', 'asr70', 'psqi7', 'batlq9_dzt', 'gales18', 'nicotine_s3', 'batlq14_dz', 'neo43', 'asr35', 'batlq25', 'caffeine_s5vsttime2', 'nicotine_s1yn', 'batlq38_lc', 'dental4', 'caffeine_s2vsttime2', 'batlq_score12', 'neo15', 'batlq12', 'iadl5', 'mstrl1a_age', 'neo1', 'nicotine_s1vsttime2', 'batlq24', 'gales20b', 'batlq27', 'caffeine_session', 'batlq11_dzt', 'neo48', 'psqi4', 'gales22', 'batlq13_dz', 'batlq22', 'bp_standing', 'psqi_com2_2', 'batlq_score38', 'gales1c', 'med12_frqcy', 'drug2_2', 'oasr_ppl49_4', 'batlq33_dz', 'oasr_ppl15', 'batlq1_age', 'batlq21', 'batlq6_dzt', 'drug', 'batlq5_lct', 'batlq1_dz', 'lan23', 'neo4', 'nicotine_s2preday', 'drug1_1', 'neo6', 'nicotine_s4', 'batlq20_age', 'med_yn', 'batlq_score16', 'batlq25_lc', 'alc_breath6', 'oasr_ppl110', 'gales17b', 'lan533', 'lan74', 'batlq31_lc', 'batlq15', 'lan24', 'batlq10_lc', 'gales20', 'gales24c', 'neo52', 'gales17', 'batlq_score31', 'drug2_5', 'oasr_ppl61', 'straw4b', 'lan631', 'batlq6_lct', 'asr56g', 'drug1_2', 'lan13', 'gales11b', 'caffeine_s2pretype', 'lan542', 'med_num', 'drug6_1', 'bld_rucdr', 'psqi8', 'lan12', 'gales9c', 'asr42', 'gales23b', 'batlq13_lct', 'oasr_ppl79', 'neo51', 'batlq25_age', 'oasr_ppl36', 'batlq29', 'batlq18_dzt', 'gales2', 'asr118', 'ipaq6hrs', 'batlq26_lct', 'asr67', 'nicotine_s4preday', 'batlq13', 'gales5', 'gales23', 'batlq24_lct', 'batlq15_lc', 'interview_age', 'oasr_ppl54', 'asr25', 'batlq_score25', 'ipaq1', 'gales13', 'neo17', 'psqi5g', 'lan43', 'asr56h', 'batlq34', 'lan83', 'med5', 'drug6_2', 'batlq11_dz', 'batlq_score13', 'caffeine_s4vsttime2', 'caffeine_s5preday', 'gales25b', 'lan643', 'batlq35_dzt', 'asr100', 'drug2_3', 'med10_frqcy', 'lan513', 'hdl', 'insulin', 'moca1', 'neo9', 'asr14', 'batlq32_age', 'psqi5d', 'lan81', 'estradiol', 'med10_dose', 'batlq37_lct', 'gales21b', 'batlq_life_sum', 'dental4_1', 'gales13c', 'nicotine_s5preday', 'asr89', 'psqi5i', 'calcium', 'batlq32_lc', 'batlq8_dz', 'batlq17', 'nicotine_s3vsttype1', 'batlq35_dz', 'co2content', 'gales10b', 'asr71', 'asr101', 'batlq7_dzt', 'lan82', 'bld_rucdr_saliva', 'med2_dose', 'caffeine_s2pretime', 'bld_core_snack', 'iadl6', 'batlq4_dzt', 'neo33', 'batlq37_age', 'lan84', 'gales4c', 'gales1', 'testosterone', 'gales24', 'moca9', 'batlq3_lct', 'neo50', 'batlq7_dz', 'neo31', 'caffeine_s4vsttime1', 'gales26', 'caffeine_s3vsttime1', 'batlq17_dz', 'batlq8_lc', 'gales13b', 'gales25c', 'dental5', 'ipaq2mins', 'batlq17_dzt', 'batlq33', 'neo25', 'neo_e', 'batlq_score3', 'gales14b', 'gales10c', 'batlq27_lct', 'satisfaction4more', 'straw1', 'drug3_4', 'batlq24_dzt', 'batlq29_lc', 'batlq30_dz', 'satisfaction9', 'totalprotein', 'batlq10_age', 'batlq4_age', 'gender', 'batlq22_lct', 'psqi_com4_1', 'bld_draw', 'med5_dose', 'psqi5e', 'caffeine_s3pretime', 'batlq32_dz', 'med7_dose', 'neo8', 'alt_sgpt', 'straw3a', 'mstrl1a', 'asr119', 'oasr_ppl49_11', 'neo13', 'lan522', 'drug3_1', 'bld_core_p2fh', 'oasr_ppl34', 'straw2a', 'batlq39_lc', 'bld_core_d2pm', 'oasr_ppl43', 'caffeine_s1vsttype1', 'asr41', 'med11', 'asr29', 'subjectkey', 'moca8', 'batlq8_dzt', 'batlq34_age', 'nicotine_s5vsttime1', 'alc_breath4', 'lan4err', 'gales18c', 'batlq29_dzt', 'asr37', 'caffeine_s1', 'neo_n', 'neo56', 'moca4', 'drug4_6', 'batlq_score35', 'batlq6', 'alc_breath5', 'oasr_ppl93', 'nicotine_s6vsttype2', 'neo10', 'lan612', 'asr18', 'drug1_5', 'mstrl2_reason', 'gales4b', 'batlq4_dz', 'satisfaction4', 'asr112', 'batlq12_dz', 'nicotine_s4vsttime2', 'batlq13_lc', 'batlq14_lct', 'batlq36_dzt', 'psqi5j', 'oasr_ppl67', 'gales3', 'batlq19_dzt', 'oasr_ppl85', 'gales16c', 'asr72', 'gales9b', 'gales26b', 'drug1_3', 'nicotine_s3vsttime2', 'batlq19_lc', 'straw1b', 'gales14c', 'lan532', 'psqi_global', 'neo19', 'oasr_ppl9', 'med11_dose', 'batlq27_dzt', 'batlq28_dzt', 'oasr_ppl40', 'asr22', 'lan524', 'oasr_ppl19', 'neo16', 'nicotine_s5vsttime2', 'batlq12_lc', 'batlq4_lc', 'oasr_ppl49_2', 'neo2', 'lan11', 'neo5', 'batlq35_lc', 'oasr_ppl109', 'batlq19_dz', 'psqi5f', 'neo32', 'asr43', 'batlq31_lct', 'lan514', 'med6_frqcy', 'oasr_ppl48', 'batlq10_dz', 'neo_o', 'batlq34_dz', 'drug6_6', 'batlq33_dzt', 'batlq2_dzt', 'caffeine_s5vsttype1', 'asr76', 'batlq29_lct', 'batlq_score26', 'gales6', 'batlq26_age', 'batlq26_dz', 'batlq26_lc', 'batlq15_dz', 'asr63', 'ureanitrogen', 'nicotine_s5vsttype1', 'batlq30_dzt', 'ipaq4hrs', 'asr26', 'mstrl2_age', 'batlq9_lct', 'asr54', 'batlq20_lc', 'satisfaction7', 'drug5_5', 'neo59', 'asr39', 'gales19', 'nicotine_s6pretype', 'hba1c', 'caffeine_s4pretype', 'nicotine_s5vsttype2', 'chloride', 'caffeine_s4vsttype1', 'psqi3', 'neo12', 'lan33', 'lan512', 'psqi5b', 'asr10', 'med13_dose', 'creatinine', 'dental6', 'batlq32_dzt', 'asr40', 'batlq36_lc', 'batlq9_lc', 'batlq34_lct', 'batlq37_dzt', 'batlq32', 'batlq_score37', 'batlq_score28', 'batlq38', 'nicotine_s4pretime', 'lan3err', 'batlq_score10', 'batlq23_dzt', 'batlq14', 'drug5_2', 'psqi_com5', 'asr45', 'straw1b_other', 'dental6_2', 'psqi9', 'neo35', 'gales7c', 'drug6_4', 'asr115', 'bld_core_fast', 'med13_frqcy', 'batlq18_lc', 'caffeine_s5vsttype2', 'satisfaction1', 'oasr_ppl101', 'med4_frqcy', 'gales6b', 'nicotine_s1', 'neo53', 'caffeine_s3preday', 'batlq12_dzt', 'psqi_com3', 'gales18b', 'asr84', 'gales8c', 'psqi_com6', 'caffeine_s6vsttime2', 'gales22b', 'ipaq2hrs', 'batlq7_lct', 'neo41', 'ipaq6mins', 'oasr_ppl73', 'lan72', 'neo54', 'med14', 'oasr_ppl49_9', 'med15_frqcy', 'mstrl1c', 'caffeine_s5', 'oasr_ppl49_10', 'batlq_score33', 'batlq16', 'psqi1', 'triglyceride', 'batlq22_lc', 'oasr_ppl49_6', 'potassium', 'batlq9', 'neo57', 'batlq24_lc', 'asr57', 'med13', 'gales22c', 'gales5c', 'lan32', 'neo49', 'batlq1_lct', 'nicotine_s3vsttime1', 'batlq5', 'caffeine_s2vsttime1', 'med4', 'batlq8', 'lan523', 'batlq37', 'dental5_1', 'oasr_ppl33', 'nicotine_s1pretime', 'asr24', 'batlq23_lct', 'dental1', 'batlq28_lc', 'satisfaction10', 'batlq9_dz', 'batlq20_dz', 'asr114', 'trail1', 'neo_c', 'batlq_score14', 'batlq_score8', 'med12', 'lan613', 'height', 'drug2_4', 'ipaq5days', 'interview_date', 'oasr_ppl12', 'caffeine_s3vsttype1', 'med3_frqcy', 'neo60', 'oasr_ppl39', 'asr56a', 'asr21', 'neo20', 'oasr_ppl49_8', 'sodium', 'med14_dose', 'gales9', 'batlq30_age', 'caffeine_s3vsttime2', 'alc_breath1', 'neo39', 'neo26', 'alc', 'neo11', 'iadl_score', 'moca3', 'oasr_ppl69', 'lan14', 'caffeine_s6vsttype2', 'gales15b', 'bld_core_spin', 'satisfaction2', 'gales15', 'straw1a', 'med7', 'batlq20_dzt', 'neo55', 'drug6_3', 'batlq5_dz', 'batlq27_age', 'neo37', 'caffeine_s2yn', 'batlq38_dzt', 'totalbilirubin', 'nicotine_s6yn', 'gales16', 'iadl3', 'alkphos_total', 'gales7', 'batlq16_lc', 'psqi6', 'asr59', 'drug1_4', 'bld_rucdr_ppl', 'bld_core_d2ph', 'batlq20', 'batlq19', 'batlq21_dz', 'nicotine_s4vsttype1', 'gales2c', 'moca7', 'batlq_score39', 'neo38', 'psqi_com1', 'vitamind', 'caffeine_s4vsttype2', 'iadl4', 'med7_frqcy', 'drug5_1', 'batlq14_dzt', 'neo30', 'batlq3', 'asr3', 'batlq31_dzt', 'med9_dose', 'caffeine_s5pretime', 'psqi_com2', 'batlq23', 'caffeine_s6vsttime1', 'nicotine_s5', 'batlq10_lct', 'gales5b', 'bp_sitting', 'lan73', 'oasr_ppl26', 'batlq39_dzt', 'ipaq3', 'drug5_4', 'oasr_ppl3', 'caffeine_s6preday', 'lan611', 'asr111', 'oasr_ppl74', 'batlq35_age', 'gales11', 'oasr_ppl82', 'batlq1', 'asr105', 'iadl1', 'nicotine_s6vsttype1', 'batlq30_lc', 'caffeine_s1pretime', 'caffeine_s1vsttime2', 'caffeine_s2preday', 'nicotine_s2pretype', 'trail2', 'lan71', 'batlq17_lct', 'batlq2_lc', 'gales6c', 'albumin', 'straw3', 'asr1', 'asr56c', 'nicotine_s4vsttype2', 'batlq39_age', 'batlq22_dzt', 'nicotine_s3preday', 'oasr_ppl20', 'asr108', 'gales23c', 'dental2', 'med11_frqcy', 'asr56i', 'straw2', 'asr46', 'batlq36', 'batlq24_age', 'straw2b_other', 'batlq_score5', 'asr56e', 'med1_frqcy', 'batlq3_age', 'nicotine_s1pretype', 'drug3_2', 'asr56b', 'nicotine_s6preday', 'asr9', 'dental3', 'oasr_ppl49_7', 'ipaq4mins', 'caffeine_s1preday', 'batlq18_lct', 'nicotine_s1preday', 'gales12', 'ast_sgot', 'med8', 'batlq7_lc', 'nicotine_s6', 'dental3_1', 'batlq_score11', 'psqi_com2_1', 'psqi_com2_3', 'gales12c', 'mstrl1b', 'caffeine_s2vsttype2', 'oasr_ppl114', 'batlq18', 'lan34', 'nicotine_s1vsttype2', 'gales21c', 'lan633', 'caffeine_s2', 'moca_edu', 'oasr_ppl87', 'ipaq7mins', 'neo46', 'batlq7', 'caffeine_s3pretype', 'batlq26', 'subject', 'nicotine_s6vsttime2', 'med5_frqcy', 'caffeine_s2vsttype1', 'caffeine_s1vsttime1', 'oasr_ppl102', 'drug2_1', 'asr107', 'batlq_score23', 'oasr_ppl92', 'dental4_2', 'ipaq3days', 'batlq38_dz', 'ipaq5', 'drug4_5', 'oasr_ppl37', 'lan632', 'neo27', 'batlq_score9', 'med8_dose', 'ipaq1days', 'nicotine_s2yn', 'batlq37_dz', 'asr8', 'caffeine_s3yn', 'batlq19_lct', 'med8_frqcy', 'neo44', 'med1_dose', 'batlq_score32', 'gales25', 'lan42', 'batlq11_lct', 'oasr_ppl97', 'med3_dose', 'oasr_ppl100', 'neo34', 'caffeine_s3vsttype2', 'nicotine_s4pretype', 'neo29', 'batlq27_dz', 'batlq23_lc', 'med14_frqcy', 'nicotine_s3pretype', 'med2', 'nicotine_s2vsttime1', 'batlq_score18', 'oasr_ppl49_3', 'batlq_score17', 'batlq28', 'ipaq7hrs', 'mstrl2_cycle', 'lan22', 'oasr_ppl121', 'batlq16_age', 'batlq31', 'asr56f', 'batlq36_age', 'asr60', 'batlq1_lc', 'asr82', 'caffeine_s5pretype', 'batlq26_dzt', 'caffeine_s1vsttype2', 'batlq21_age', 'batlq_score1', 'gales8b', 'med10', 'iadl7', 'batlq_score36', 'lan642', 'gales7b', 'batlq6_lc', 'batlq39_lct', 'oasr_ppl16', 'oasr_ppl99', 'neo28', 'batlq_score2']\n",
      "Events being called from REDCap: ['visit_1_arm_1', 'visit_2_arm_1']\n"
     ]
    },
    {
     "name": "stdout",
     "output_type": "stream",
     "text": [
      "redcap_event_name is in columns\n",
      "config ./config.yml\n",
      "config ./config.yml\n",
      "Shape of loaded data (0, 1045)\n",
      "Timing:  hcpa 10.648882865905762\n",
      "config ./config.yml\n",
      "config ./config.yml\n",
      "Shape of loaded data (0, 24)\n",
      "Timing:  qint 1.3305721282958984\n",
      "config ./config.yml\n",
      "Shape of loaded data (0, 58)\n",
      "Timing:  PennCNP 1.7800450325012207\n"
     ]
    }
   ],
   "source": [
    "# This step requires that you have a 'rosetta stone' file that has all the required NDA fields for \n",
    "# all subjects you intend to submit at this time.  This approach facilitates keeping track of subject counts\n",
    "# across data types.  For example, if your required fields are already stored in XNAT because you had the CCF\n",
    "# upload your imaging data for you, you can export this csv from XNAT and rename as appropriate.  \n",
    "# Place this file at the main level of this repository, and name it in your config file\n",
    "# Loader.py program's _post_load_hook_ method referenced below.  \n",
    "\n",
    "M.preload_data(['hcpa','PennCNP','qint'])\n",
    "#dir(M)"
   ]
  },
  {
   "cell_type": "code",
   "execution_count": 7,
   "metadata": {},
   "outputs": [
    {
     "name": "stdout",
     "output_type": "stream",
     "text": [
      "Loading   ./maps/hca/psqi01.yaml\n",
      "For struct \"psqi01\": \n"
     ]
    },
    {
     "ename": "CalledProcessError",
     "evalue": "Command 'vtcmd ./prepped/hca/psqi01.csv' returned non-zero exit status 1.",
     "output_type": "error",
     "traceback": [
      "\u001b[0;31m---------------------------------------------------------------------------\u001b[0m",
      "\u001b[0;31mCalledProcessError\u001b[0m                        Traceback (most recent call last)",
      "\u001b[0;32m<ipython-input-7-4e83a5435df6>\u001b[0m in \u001b[0;36m<module>\u001b[0;34m\u001b[0m\n\u001b[0;32m----> 1\u001b[0;31m \u001b[0mM\u001b[0m\u001b[0;34m.\u001b[0m\u001b[0mrun\u001b[0m\u001b[0;34m(\u001b[0m\u001b[0;34m'psqi01'\u001b[0m\u001b[0;34m)\u001b[0m\u001b[0;34m\u001b[0m\u001b[0;34m\u001b[0m\u001b[0m\n\u001b[0m\u001b[1;32m      2\u001b[0m \u001b[0mcleanupfuncs\u001b[0m\u001b[0;34m.\u001b[0m\u001b[0mcleanlist\u001b[0m\u001b[0;34m(\u001b[0m\u001b[0mstructurelist\u001b[0m\u001b[0;34m=\u001b[0m\u001b[0;34m[\u001b[0m\u001b[0;34m'psqi01'\u001b[0m\u001b[0;34m]\u001b[0m\u001b[0;34m,\u001b[0m\u001b[0mfPath\u001b[0m\u001b[0;34m=\u001b[0m\u001b[0;34m\"./prepped/hca/\"\u001b[0m\u001b[0;34m)\u001b[0m\u001b[0;34m\u001b[0m\u001b[0;34m\u001b[0m\u001b[0m\n",
      "\u001b[0;32m~/NDA/NDA_submissions/Crosswalk/Manager.py\u001b[0m in \u001b[0;36mrun\u001b[0;34m(self, struct)\u001b[0m\n\u001b[1;32m     52\u001b[0m \u001b[0;34m\u001b[0m\u001b[0m\n\u001b[1;32m     53\u001b[0m         \u001b[0mself\u001b[0m\u001b[0;34m.\u001b[0m\u001b[0mwriter\u001b[0m\u001b[0;34m.\u001b[0m\u001b[0mwrite\u001b[0m\u001b[0;34m(\u001b[0m\u001b[0mstruct\u001b[0m\u001b[0;34m,\u001b[0m \u001b[0mdf\u001b[0m\u001b[0;34m)\u001b[0m\u001b[0;34m\u001b[0m\u001b[0;34m\u001b[0m\u001b[0m\n\u001b[0;32m---> 54\u001b[0;31m         \u001b[0mself\u001b[0m\u001b[0;34m.\u001b[0m\u001b[0mwriter\u001b[0m\u001b[0;34m.\u001b[0m\u001b[0mvalidate\u001b[0m\u001b[0;34m(\u001b[0m\u001b[0mstruct\u001b[0m\u001b[0;34m)\u001b[0m\u001b[0;34m\u001b[0m\u001b[0;34m\u001b[0m\u001b[0m\n\u001b[0m\u001b[1;32m     55\u001b[0m \u001b[0;34m\u001b[0m\u001b[0m\n\u001b[1;32m     56\u001b[0m     \u001b[0;32mdef\u001b[0m \u001b[0mrun_all\u001b[0m\u001b[0;34m(\u001b[0m\u001b[0mself\u001b[0m\u001b[0;34m)\u001b[0m\u001b[0;34m:\u001b[0m\u001b[0;34m\u001b[0m\u001b[0;34m\u001b[0m\u001b[0m\n",
      "\u001b[0;32m~/NDA/NDA_submissions/Crosswalk/NDAWriter.py\u001b[0m in \u001b[0;36mvalidate\u001b[0;34m(self, struct)\u001b[0m\n\u001b[1;32m    190\u001b[0m             \u001b[0;32mreturn\u001b[0m\u001b[0;34m\u001b[0m\u001b[0;34m\u001b[0m\u001b[0m\n\u001b[1;32m    191\u001b[0m \u001b[0;34m\u001b[0m\u001b[0m\n\u001b[0;32m--> 192\u001b[0;31m         \u001b[0moutput\u001b[0m \u001b[0;34m=\u001b[0m \u001b[0msubprocess\u001b[0m\u001b[0;34m.\u001b[0m\u001b[0mcheck_output\u001b[0m\u001b[0;34m(\u001b[0m\u001b[0;34mf'{self.validate_exec} {filename}'\u001b[0m\u001b[0;34m,\u001b[0m \u001b[0mshell\u001b[0m\u001b[0;34m=\u001b[0m\u001b[0;32mTrue\u001b[0m\u001b[0;34m)\u001b[0m\u001b[0;34m.\u001b[0m\u001b[0mdecode\u001b[0m\u001b[0;34m(\u001b[0m\u001b[0;34m)\u001b[0m\u001b[0;34m\u001b[0m\u001b[0;34m\u001b[0m\u001b[0m\n\u001b[0m\u001b[1;32m    193\u001b[0m         \u001b[0mfilename\u001b[0m \u001b[0;34m=\u001b[0m \u001b[0mpattern\u001b[0m\u001b[0;34m.\u001b[0m\u001b[0msearch\u001b[0m\u001b[0;34m(\u001b[0m\u001b[0moutput\u001b[0m\u001b[0;34m)\u001b[0m\u001b[0;34m\u001b[0m\u001b[0;34m\u001b[0m\u001b[0m\n\u001b[1;32m    194\u001b[0m         \u001b[0;32mif\u001b[0m \u001b[0mfilename\u001b[0m\u001b[0;34m:\u001b[0m\u001b[0;34m\u001b[0m\u001b[0;34m\u001b[0m\u001b[0m\n",
      "\u001b[0;32m/usr/lib/python3.9/subprocess.py\u001b[0m in \u001b[0;36mcheck_output\u001b[0;34m(timeout, *popenargs, **kwargs)\u001b[0m\n\u001b[1;32m    422\u001b[0m         \u001b[0mkwargs\u001b[0m\u001b[0;34m[\u001b[0m\u001b[0;34m'input'\u001b[0m\u001b[0;34m]\u001b[0m \u001b[0;34m=\u001b[0m \u001b[0mempty\u001b[0m\u001b[0;34m\u001b[0m\u001b[0;34m\u001b[0m\u001b[0m\n\u001b[1;32m    423\u001b[0m \u001b[0;34m\u001b[0m\u001b[0m\n\u001b[0;32m--> 424\u001b[0;31m     return run(*popenargs, stdout=PIPE, timeout=timeout, check=True,\n\u001b[0m\u001b[1;32m    425\u001b[0m                **kwargs).stdout\n\u001b[1;32m    426\u001b[0m \u001b[0;34m\u001b[0m\u001b[0m\n",
      "\u001b[0;32m/usr/lib/python3.9/subprocess.py\u001b[0m in \u001b[0;36mrun\u001b[0;34m(input, capture_output, timeout, check, *popenargs, **kwargs)\u001b[0m\n\u001b[1;32m    526\u001b[0m         \u001b[0mretcode\u001b[0m \u001b[0;34m=\u001b[0m \u001b[0mprocess\u001b[0m\u001b[0;34m.\u001b[0m\u001b[0mpoll\u001b[0m\u001b[0;34m(\u001b[0m\u001b[0;34m)\u001b[0m\u001b[0;34m\u001b[0m\u001b[0;34m\u001b[0m\u001b[0m\n\u001b[1;32m    527\u001b[0m         \u001b[0;32mif\u001b[0m \u001b[0mcheck\u001b[0m \u001b[0;32mand\u001b[0m \u001b[0mretcode\u001b[0m\u001b[0;34m:\u001b[0m\u001b[0;34m\u001b[0m\u001b[0;34m\u001b[0m\u001b[0m\n\u001b[0;32m--> 528\u001b[0;31m             raise CalledProcessError(retcode, process.args,\n\u001b[0m\u001b[1;32m    529\u001b[0m                                      output=stdout, stderr=stderr)\n\u001b[1;32m    530\u001b[0m     \u001b[0;32mreturn\u001b[0m \u001b[0mCompletedProcess\u001b[0m\u001b[0;34m(\u001b[0m\u001b[0mprocess\u001b[0m\u001b[0;34m.\u001b[0m\u001b[0margs\u001b[0m\u001b[0;34m,\u001b[0m \u001b[0mretcode\u001b[0m\u001b[0;34m,\u001b[0m \u001b[0mstdout\u001b[0m\u001b[0;34m,\u001b[0m \u001b[0mstderr\u001b[0m\u001b[0;34m)\u001b[0m\u001b[0;34m\u001b[0m\u001b[0;34m\u001b[0m\u001b[0m\n",
      "\u001b[0;31mCalledProcessError\u001b[0m: Command 'vtcmd ./prepped/hca/psqi01.csv' returned non-zero exit status 1."
     ]
    }
   ],
   "source": [
    "M.run('psqi01')\n",
    "cleanupfuncs.cleanlist(structurelist=['psqi01'],fPath=\"./prepped/hca/\")"
   ]
  },
  {
   "cell_type": "code",
   "execution_count": null,
   "metadata": {},
   "outputs": [],
   "source": [
    "M.run('trail_ca01')\n",
    "cleanupfuncs.redcleanup(structure=\"trail_ca01\",filePath=\"./prepped/hca/\",extraomitcol1='seizures',extraomitcol2='versionchildadult')\n"
   ]
  },
  {
   "cell_type": "code",
   "execution_count": 1,
   "metadata": {},
   "outputs": [
    {
     "name": "stdout",
     "output_type": "stream",
     "text": [
      "config ./config.yml\n",
      "config ./config.yml\n",
      "config ./config.yml\n"
     ]
    }
   ],
   "source": [
    "from funcs import funcs\n",
    "from Crosswalk.Transformer import Transformer\n",
    "from Crosswalk.DataCache import DataCache\n",
    "from Crosswalk.NDAWriter import NDAWriter\n",
    "from Crosswalk.Manager import Manager\n",
    "import Crosswalk.cleanupfuncs as cleanupfuncs\n",
    "from Crosswalk.Loader import Loader, BoxLoader, BoxHcaLoader, SsagaLoader, QintHcaLoader, RedcapLoader\n",
    "import pandas as pd\n",
    "import numpy as np\n",
    "\n"
   ]
  },
  {
   "cell_type": "code",
   "execution_count": null,
   "metadata": {},
   "outputs": [],
   "source": [
    "M.run('vitals01')\n",
    "cleanupfuncs.cleanzeros()"
   ]
  },
  {
   "cell_type": "code",
   "execution_count": null,
   "metadata": {},
   "outputs": [],
   "source": [
    "#ssaga_moved to new structures (still waiting)\n",
    "#M.run('ssaga_cover_demo01')"
   ]
  },
  {
   "cell_type": "code",
   "execution_count": null,
   "metadata": {
    "scrolled": true
   },
   "outputs": [],
   "source": [
    "structs = [\n",
    "    'lbadl01',\n",
    "    'mchq01',\n",
    "    'er4001', \n",
    "    'deldisk01',\n",
    "    'asr01',\n",
    "    'batbil01',\n",
    "    'bsc01',\n",
    "    #'drugscr01', drugscr mapped incorrectly.  Taken out of 2.0 and 3.0 release\n",
    "    'gales01',\n",
    "    'ipaq01',\n",
    "    'leap01',\n",
    "    'medh01',\n",
    "    'mendt01',\n",
    "    'moca01',\n",
    "    'nffi01',\n",
    "    'ravlt01',\n",
    "    'scan_debrief01',\n",
    "  ]\n",
    "\n",
    "for s in structs:\n",
    "    M.run(s)\n",
    "    print(s)   \n",
    "\n"
   ]
  },
  {
   "cell_type": "code",
   "execution_count": null,
   "metadata": {},
   "outputs": [],
   "source": [
    "cleanupfuncs.cleanlist(structurelist=structs,fPath=\"./prepped/hca/\")\n",
    "\n",
    "#cleanupfuncs.redcleanup(structure=\"bsc01\", filePath=\"./prepped/hca/\")\n",
    "cleanupfuncs.asrover60(structure=\"asr01\",filePath=\"./prepped/hca/\")\n",
    "cleanupfuncs.redcleanup(structure=\"asr01\", filePath=\"./prepped/hca/\", extraomitcol1='version_form', extraomitcol2='NO',\n",
    "    extraomitcol3='NO', extraomitcol4='NO', extraomitcol5='NO')\n",
    "cleanupfuncs.redcleanup(structure=\"deldisk01\",filePath=\"./prepped/hca/\",extraomitcol1='version_form',extraomitcol2='NO',\n",
    "    extraomitcol3='NO', extraomitcol4='NO', extraomitcol5='NO')\n",
    "cleanupfuncs.redcleanup(structure=\"medh01\",filePath=\"./prepped/hca/\",extraomitcol1='NO')\n",
    "#cleanupfuncs.redcleanup(structure=\"bsc01\",filePath=\"./prepped/hca/\",extraomitcol1='NO')\n",
    "cleanupfuncs.redcleanup(structure=\"ravlt01\",filePath=\"./prepped/hca/\",extraomitcol1='ravlt_delt',extraomitcol2='ravlt_disct',extraomitcol3='ravlt_tott')#\n",
    "\n",
    "cleanupfuncs.redcleanup(structure=\"scan_debrief01\",filePath=\"./prepped/hca/\",extraomitcol1='NO')\n"
   ]
  },
  {
   "cell_type": "code",
   "execution_count": null,
   "metadata": {},
   "outputs": [],
   "source": []
  },
  {
   "cell_type": "code",
   "execution_count": null,
   "metadata": {},
   "outputs": [],
   "source": [
    "# rest of SSAGA still not mapped 11/11/2020\n",
    "structs2 = [\n",
    "#     'diagpsx01',\n",
    "#     'eatdisdemo01',\n",
    "#     'phenx_sib01',\n",
    "#     'scidv_pscyh01',\n",
    "#     'socdem01'\n",
    "  ]\n",
    "\n",
    "for s in structs2:\n",
    "    M.run(s)"
   ]
  },
  {
   "cell_type": "code",
   "execution_count": null,
   "metadata": {},
   "outputs": [],
   "source": [
    "#fix noninteger types\n",
    "a=['asr1_1','asr1_3','asr1_5','asr4_3','asr4_4','asr4_5','asr4_6','asr5_1','asr5_2','asr5_4','asr6_6','asr7_1','asr7_3','asr7_6','asr8_1','asr8_4','asr8_5','asr11_6','asr12_2','asr12_4','asr12_6','asr13_3','asr13_4','asr14_2','asr14_3','asr14_6','asr15_2','asr17_2','asr19_2','asr19_6','asr20_3','asr21_3','asr22_1','asr22_2','asr22_3','asr22_5','asr3_1','asr6_4','oasr_ppl35','oasr_ppl3','oasr_ppl39','asr8_6','oasr_ppl16','oasr_ppl19','oasr_ppl20','oasr_ppl47','oasr_ppl49_10','oasr_ppl49_11','oasr_ppl54','oasr_ppl79','oasr_ppl101','oasr_ppl102','oasr_ppl109','oasr_ppl110','oasr_ppl114','oasr_ppl121','oasr_ppl33']\n",
    "cleanupfuncs.integercleanup(structure='asr01',filePath=\"./prepped/hca/\",varlist=a)\n",
    "b=['batlq4','batlq8','batlq_score1','batlq_score10','batlq_score11','batlq_score13','batlq_score14','batlq_score16','batlq_score17','batlq_score18','batlq_score19','batlq_score2','batlq_score20','batlq_score23','batlq_score24','batlq_score25','batlq_score26','batlq_score27','batlq_score28','batlq_score29','batlq_score3','batlq_score30','batlq_score31','batlq_score33','batlq_score39','batlq_score4','batlq_score5','batlq_score6','batlq_score7','batlq_score8','batlq_score9','batlq1_lc','batlq1_dz','batlq16_lc','batlq16_dz','batlq23_lc','batlq23_dz','batlq14_lc','batlq14_dz','batlq18_lc','batlq18_dz','batlq20_lc','batlq20_dz','batlq39_lc','batlq39_dz','batlq9_lc','batlq9_dz','batlq24_lc','batlq24_dz','batlq10_lc','batlq10_dz','batlq5_lc','batlq5_dz','batlq27_lc','batlq27_dz','batlq11_lc','batlq11_dz','batlq7_lc','batlq7_dz','batlq19_lc','batlq19_dz','batlq25_lc','batlq25_dz','batlq4_lc','batlq4_dz','batlq6_lc','batlq6_dz','batlq17_lc','batlq17_dz','batlq35_lc','batlq35_dz','batlq38_lc','batlq38_dz','batlq13_lc','batlq13_dz','batlq33_lc','batlq33_dz','batlq8_lc','batlq8_dz','batlq2_lc','batlq2_dz','batlq26_lc','batlq26_dz','batlq36_lc','batlq36_dz','batlq34_lc','batlq34_dz','batlq12_lc','batlq12_dz','batlq31_lc','batlq31_dz','batlq21_lc','batlq21_dz','batlq29_lc','batlq29_dz','batlq3_lc','batlq3_dz','batlq28_lc','batlq28_dz','batlq30_lc','batlq30_dz']\n",
    "cleanupfuncs.integercleanup(structure='batbil01',filePath=\"./prepped/hca/\",varlist=b)\n",
    "b2=['bld_core','bld_core_grn','biospc_8','fasting','bld_core_snack','bld_core_spin','bld_rucdr','biospc_6','vitdlev','ls_alt','ls_ast','chloride','glucose','sodium','ed1_saliva','bld_core_d2ph','bld_core_d2pm','bld_core_p2fh','bld_core_p2fm','laba6']\n",
    "cleanupfuncs.integercleanup(structure='bsc01',filePath=\"./prepped/hca/\",varlist=b2)\n",
    "d=['ddisc_valid']\n",
    "cleanupfuncs.integercleanup(structure='deldisk01',filePath=\"./prepped/hca/\",varlist=d)\n",
    "#dd=['caffeine_s1yn','nicotine_s1yn','drug1_1','drug1_2','drug1_3','drug1_4','drug1_5','drug1_6','caffeine_s1preday','nicotine_s1preday']\n",
    "#integercleanup(structure='drugscr01',filePath=\"./prepped/hca/\",varlist=dd)\n",
    "g=['gales1','gales2','gales3','gales4','gales5','gales6','gales6b','gales6c','gales7','gales8','gales9','gales10','gales11','gales12','gales13','gales14','gales15','gales16','gales17','gales18','gales19','gales20','gales21','gales21b','gales21c','gales22','gales23','gales24','gales25','gales26','gales_worst','gales1b','gales1c','gales3b','gales3c','gales10b','gales10c','gales13b','gales13c','gales16b','gales16c','gales18b','gales18c','gales19b','gales19c','gales20b','gales20c','gales2b','gales2c','gales7b','gales7c','gales9b','gales9c','gales25b','gales25c','gales22b','gales22c','gales23b','gales23c','gales24b','gales24c','gales26b','gales26c','gales8b','gales8c','gales11b','gales11c','gales12b','gales12c','gales4b','gales4c','gales17b','gales17c','gales5b','gales5c','gales14b','gales14c','gales15b','gales15c']\n",
    "cleanupfuncs.integercleanup(structure='gales01',filePath=\"./prepped/hca/\",varlist=g)\n",
    "i=['ipaq2','ipaq5a','ipaq5b','ipaq7a','ipaq7b','ipaq26a','ipaq26n','ipaq3a','ipaq3b']\n",
    "cleanupfuncs.integercleanup(structure='ipaq01',filePath=\"./prepped/hca/\",varlist=i)\n",
    "l=['adlnow8','adlnow12','adlnow4','adlnow1','iadl05','iadl6','adlnow14','adlnow2','lbadl_currtot']\n",
    "cleanupfuncs.integercleanup(structure='lbadl01',filePath=\"./prepped/hca/\",varlist=l)\n",
    "la=['lan_know','lan611','lan612','lan613','lan621','lan622','lan623','lan71','lan72','lan81','lan82','lan631','lan632','lan633','lan73','lan83','lan641','lan642','lan643','lan74','lan84']\n",
    "cleanupfuncs.integercleanup(structure='leap01',filePath=\"./prepped/hca/\",varlist=la)\n",
    "m=['scq_24_a','mchq_17','mchq_21','straw1','straw1a','straw1b','straw2','straw3','straw4a','straw4b','straw3a','straw2a','straw2b','straw3b']\n",
    "cleanupfuncs.integercleanup(structure='mchq01',filePath=\"./prepped/hca/\",varlist=m)\n",
    "m2=['dental1','dental2','dental3','dental4','dental5','dental6']\n",
    "cleanupfuncs.integercleanup(structure='medh01',filePath=\"./prepped/hca/\",varlist=m2)\n",
    "m3=['othmed0a','num_meds']\n",
    "cleanupfuncs.integercleanup(structure='mendt01',filePath=\"./prepped/hca/\",varlist=m3)\n",
    "m4=['moca_edu']\n",
    "cleanupfuncs.integercleanup(structure='moca01',filePath=\"./prepped/hca/\",varlist=m4)\n",
    "n=['nffi_2','nffi_5','nffi_6','nffi_7','nffi_8','nffi_10','nffi_14','nffi_19','nffi_20','nffi_22','nffi_23','nffi_28','nffi_29','nffi_32','nffi_33','nffi_34','nffi_35','nffi_36','nffi_37','nffi_38','nffi_39','nffi_40','nffi_41','nffi_42','nffi_43','nffi_44','nffi_45','nffi_46','nffi_47','nffi_48','nffi_49','nffi_50','nffi_51','nffi_52','nffi_53','nffi_54','nffi_55','nffi_56','nffi_57','nffi_58','nffi_59','nffi_60']\n",
    "cleanupfuncs.integercleanup(structure='nffi01',filePath=\"./prepped/hca/\",varlist=n)\n",
    "p=['parent_sleep20','csq_psqi_4_score','insomnia8']#,'psqip6b_5'\n",
    "cleanupfuncs.integercleanup(structure='psqi01',filePath=\"./prepped/hca/\",varlist=p)\n",
    "r=['pea_ravlt_sd_tc','pea_ravlt_sd_trial_i_tc','pea_ravlt_sd_trial_ii_tc','pea_ravlt_sd_trial_iii_tc','pea_ravlt_sd_trial_iv_tc','pea_ravlt_sd_trial_v_tc','pea_ravlt_sd_listb_tc','pea_ravlt_sd_trial_vi_tc','delay_recall_intrusion','delay_total_intrusion','delay_total_repetitions']\n",
    "cleanupfuncs.integercleanup(structure='ravlt01',filePath=\"./prepped/hca/\",varlist=r)\n",
    "s=['satisfaction1','satisfaction2','satisfaction3','satisfaction4','satisfaction7','satisfaction8','satisfaction9','satisfaction10','satisfaction11']\n",
    "cleanupfuncs.integercleanup(structure='scan_debrief01',filePath=\"./prepped/hca/\",varlist=s)\n",
    "\n"
   ]
  },
  {
   "cell_type": "code",
   "execution_count": null,
   "metadata": {},
   "outputs": [],
   "source": []
  }
 ],
 "metadata": {
  "kernelspec": {
   "display_name": "NDAsubmissions_venv",
   "language": "python",
   "name": "ndasubmissions_venv"
  },
  "language_info": {
   "codemirror_mode": {
    "name": "ipython",
    "version": 3
   },
   "file_extension": ".py",
   "mimetype": "text/x-python",
   "name": "python",
   "nbconvert_exporter": "python",
   "pygments_lexer": "ipython3",
   "version": "3.9.9"
  }
 },
 "nbformat": 4,
 "nbformat_minor": 2
}
