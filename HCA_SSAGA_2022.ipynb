{
 "cells": [
  {
   "cell_type": "markdown",
   "id": "32689534",
   "metadata": {},
   "source": [
    "### prepare SSAGA for the NDA - download data (sans restricted data) from PreRelease folder"
   ]
  },
  {
   "cell_type": "code",
   "execution_count": null,
   "id": "374dbccb",
   "metadata": {},
   "outputs": [],
   "source": [
    "import os, datetime\n",
    "import csv\n",
    "import sys\n",
    "import shutil\n",
    "from openpyxl import load_workbook\n",
    "import pandas as pd\n",
    "from io import BytesIO\n",
    "import numpy as np\n",
    "import subprocess\n",
    "from scipy import stats\n",
    "from ccf.box import LifespanBox\n",
    "from ccf.config import LoadSettings\n",
    "from ccf.redcap import RedcapTable \n",
    "config = LoadSettings()\n",
    "eventlist=['V1','V2']"
   ]
  },
  {
   "cell_type": "code",
   "execution_count": null,
   "id": "374b57fd",
   "metadata": {},
   "outputs": [],
   "source": [
    "box=LifespanBox(cache='./')\n",
    "verbose = True\n",
    "snapshotdate = datetime.datetime.today().strftime('%m_%d_%Y')\n",
    "pathout=\"./prepped/hca\" \n",
    "\n",
    "#Rosetta (a.k.a Inventory) file will have all the nda vars and pedids\n",
    "extrainfo=config['rosetta']['filename']\n",
    "\n",
    "redcapconfigfile=\"/home/petra/UbWinSharedSpace1/ccf-nda-behavioral/PycharmToolbox/.boxApp/redcapconfig.csv\"\n",
    "\n",
    "snapshotdate = datetime.datetime.today().strftime('%m_%d_%Y')\n",
    "#catfromdate=max of last run--'2019-06-17'\n",
    "snapshotdate"
   ]
  },
  {
   "cell_type": "code",
   "execution_count": null,
   "id": "a9d2dd85",
   "metadata": {},
   "outputs": [],
   "source": [
    "inventory=pd.read_csv(extrainfo)[['subject','pseudo_guid','nda_interview_date','nda_age','M/F','pedid','redcap_event_name','redcap_event','Curated_SSAGA']]\n",
    "inventory=inventory.loc[inventory.nda_age.isnull()==False]\n",
    "inventory.nda_interview_date=pd.to_datetime(inventory.nda_interview_date).dt.strftime('%m/%d/%Y')\n",
    "inventory.nda_age=inventory.nda_age.round(0).astype(int)\n",
    "print('Inventory Shape out of the Box',inventory.shape)\n",
    "print('Number of Unique Subjects',len(inventory.subject.unique()))\n",
    "inventory=inventory.loc[inventory.Curated_SSAGA.isin(['YES','YES BUT'])]#1789 on 11/19/21\n",
    "inventory=inventory.loc[inventory.redcap_event.isin(eventlist)]\n",
    "inventory.shape\n"
   ]
  },
  {
   "cell_type": "code",
   "execution_count": null,
   "id": "241f9514",
   "metadata": {},
   "outputs": [],
   "source": [
    "handle=[926768966179]\n",
    "ssagad=box.download_files(handle)"
   ]
  },
  {
   "cell_type": "code",
   "execution_count": null,
   "id": "628ffa4c",
   "metadata": {},
   "outputs": [],
   "source": [
    "datafile='HCA_SSAGA_2022-03-04.csv'\n",
    "ssagadata=pd.read_csv(datafile)\n",
    "print(ssagadata.shape)\n",
    "ssagadata=ssagadata.drop(columns=['hcpa_id','flagged','study','register_subject_complete','vist1','vist2','register_visit_1_complete','register_visit_2_complete','redcap_event_name','ssaga_complete'])\n",
    "ssagadropsubs=pd.merge(ssagadata, inventory, on=['subject','redcap_event'], how='right').drop(columns=['pedid', 'redcap_event_name','Curated_SSAGA'])\n",
    "ssagadropsubs.shape"
   ]
  },
  {
   "cell_type": "code",
   "execution_count": null,
   "id": "2b3a104e",
   "metadata": {},
   "outputs": [],
   "source": [
    "ssagas=ssagadropsubs.rename(columns={'subject':'src_subject_id','M/F':'sex','nda_age':'interview_age','nda_interview_date':'interview_date','pseudo_guid':'subjectkey', 'redcap_event':'event'})\n"
   ]
  },
  {
   "cell_type": "code",
   "execution_count": null,
   "id": "326e8262",
   "metadata": {},
   "outputs": [],
   "source": [
    "#import map\n",
    "mapfile=pd.read_excel('./Mapping Key.xlsx', sheet_name='HCP_SSAGA_IV_15Dec2021')\n",
    "mapfile['SSAGA Element Name'].head(20)\n",
    "\n",
    "listnames=list(mapfile['SSAGA Element Name'].str.strip())\n",
    "\n",
    "for i in listnames:\n",
    "    if i not in list(ssagas.columns):\n",
    "        print(i,'is not in map')\n"
   ]
  },
  {
   "cell_type": "code",
   "execution_count": null,
   "id": "4d98c359",
   "metadata": {},
   "outputs": [],
   "source": [
    "#import options\n",
    "pd.options.display.max_colwidth=100\n",
    "\n",
    "print(mapfile.loc[mapfile['SSAGA Element Name']=='dr1'][['Notes']])\n",
    "##ssagas[['dr1']]#.columns\n",
    "\n",
    "dr1_list = ['dr1___1','dr1___2','dr1___3','dr1___4','dr1___5','dr1___6','dr1___7','dr1___8','dr1___9']\n",
    "elements_list = ['dr1_1','dr1_2','dr1_3','dr1_4','dr1_5','dr1_6','dr1_7','dr1_8','dr1_9']\n",
    "dr1 = ssagas[dr1_list].sum(axis=1).value_counts()\n",
    "#for COC,STIM,SED,OPIATE,PCP,HAL,SOL,COMB and OTHER"
   ]
  },
  {
   "cell_type": "code",
   "execution_count": null,
   "id": "8211a5d2",
   "metadata": {},
   "outputs": [],
   "source": [
    "#split into the two structures\n",
    "mapfile.columns\n",
    "mapfile.head()\n",
    "mapfile['Short Name'].value_counts()"
   ]
  },
  {
   "cell_type": "code",
   "execution_count": null,
   "id": "3eb8fcb8",
   "metadata": {},
   "outputs": [],
   "source": [
    "part1=mapfile.loc[mapfile['Short Name'].str.contains('ssaga_part101')]\n",
    "part2=mapfile.loc[mapfile['Short Name'].str.contains('ssaga_part201')]"
   ]
  },
  {
   "cell_type": "code",
   "execution_count": null,
   "id": "0b794a6d",
   "metadata": {},
   "outputs": [],
   "source": [
    "part1['Short Name'].value_counts()\n",
    "part2['Short Name'].value_counts()"
   ]
  },
  {
   "cell_type": "code",
   "execution_count": null,
   "id": "d8322cbc",
   "metadata": {},
   "outputs": [],
   "source": [
    "part1['Short Name'].head()\n",
    "part1.head()"
   ]
  },
  {
   "cell_type": "code",
   "execution_count": null,
   "id": "4f04429f",
   "metadata": {
    "scrolled": true
   },
   "outputs": [],
   "source": [
    "part1.head()\n",
    "struct101=ssagas[list(part1['SSAGA Element Name'])] #.head()\n",
    "rename1=dict(zip(list(part1['SSAGA Element Name']),list(part1['NDA Element Name'])))\n",
    "\n",
    "#remove dr1 and replace with dummy vars.\n",
    "part2b=part2.loc[~(part2['SSAGA Element Name']=='dr1')]\n",
    "dr1_list = ['dr1___1','dr1___2','dr1___3','dr1___4','dr1___5','dr1___6','dr1___7','dr1___8','dr1___9']\n",
    "\n",
    "\n",
    "elements_list = ['dr1_1','dr1_2','dr1_3','dr1_4','dr1_5','dr1_6','dr1_7','dr1_8','dr1_09']\n",
    "struct201=ssagas[list(part2b['SSAGA Element Name'])+dr1_list]\n",
    "rename2=dict(zip(list(part2b['SSAGA Element Name'])+dr1_list,list(part2b['NDA Element Name'])+elements_list))\n"
   ]
  },
  {
   "cell_type": "code",
   "execution_count": null,
   "id": "05e8a77f",
   "metadata": {},
   "outputs": [],
   "source": [
    "len(list(part2b['NDA Element Name'])+elements_list)\n",
    "len(list(part2b['SSAGA Element Name'])+dr1_list)"
   ]
  },
  {
   "cell_type": "code",
   "execution_count": null,
   "id": "e2c3dc93",
   "metadata": {},
   "outputs": [],
   "source": [
    "ready1=struct101.drop(columns=['event']).rename(columns=rename1)\n",
    "ready2=struct201.drop(columns=['event']).rename(columns=rename2)"
   ]
  },
  {
   "cell_type": "code",
   "execution_count": null,
   "id": "cc11f8a1",
   "metadata": {},
   "outputs": [],
   "source": [
    "#Write out structure for validation\n",
    "filePath=pathout+'/ssaga_part101.csv'\n",
    "if os.path.exists(filePath):\n",
    "    os.remove(filePath)\n",
    "else:\n",
    "    print(\"Can not delete the file as it doesn't exists\")\n",
    "\n",
    "with open(filePath,'a') as f:\n",
    "    f.write(\"ssaga_part1,1\\n\")\n",
    "    ready1.to_csv(f,index=False)\n",
    "\n",
    "    \n",
    "#Write out structure for validation\n",
    "filePath=pathout+'/ssaga_part201.csv'\n",
    "if os.path.exists(filePath):\n",
    "    os.remove(filePath)\n",
    "else:\n",
    "    print(\"Can not delete the file as it doesn't exists\")\n",
    "\n",
    "with open(filePath,'a') as f:\n",
    "    f.write(\"ssaga_part2,1\\n\")\n",
    "    ready2.to_csv(f,index=False)"
   ]
  },
  {
   "cell_type": "code",
   "execution_count": null,
   "id": "0b3392e2",
   "metadata": {},
   "outputs": [],
   "source": []
  }
 ],
 "metadata": {
  "kernelspec": {
   "display_name": "NDAsubmissions_venv",
   "language": "python",
   "name": "ndasubmissions_venv"
  },
  "language_info": {
   "codemirror_mode": {
    "name": "ipython",
    "version": 3
   },
   "file_extension": ".py",
   "mimetype": "text/x-python",
   "name": "python",
   "nbconvert_exporter": "python",
   "pygments_lexer": "ipython3",
   "version": "3.9.9"
  }
 },
 "nbformat": 4,
 "nbformat_minor": 5
}
