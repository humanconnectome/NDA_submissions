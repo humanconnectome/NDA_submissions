{
 "cells": [
  {
   "cell_type": "markdown",
   "id": "32689534",
   "metadata": {},
   "source": [
    "### prepare SSAGA for the NDA - download data (sans restricted data) from PreRelease folder"
   ]
  },
  {
   "cell_type": "code",
   "execution_count": null,
   "id": "374dbccb",
   "metadata": {},
   "outputs": [],
   "source": [
    "import os, datetime\n",
    "import csv\n",
    "import sys\n",
    "import shutil\n",
    "from openpyxl import load_workbook\n",
    "import pandas as pd\n",
    "from io import BytesIO\n",
    "import numpy as np\n",
    "import subprocess\n",
    "from scipy import stats\n",
    "from ccf.box import LifespanBox\n",
    "from ccf.config import LoadSettings\n",
    "from ccf.redcap import RedcapTable \n",
    "import Crosswalk.cleanupfuncs as cleanupfuncs\n",
    "config = LoadSettings()\n",
    "eventlist=['V1','V2']"
   ]
  },
  {
   "cell_type": "code",
   "execution_count": null,
   "id": "374b57fd",
   "metadata": {},
   "outputs": [],
   "source": [
    "box=LifespanBox(cache='./')\n",
    "verbose = True\n",
    "snapshotdate = datetime.datetime.today().strftime('%m_%d_%Y')\n",
    "pathout=\"./prepped/hca\" \n",
    "\n",
    "#Rosetta (a.k.a Inventory) file will have all the nda vars and pedids\n",
    "extrainfo=config['rosetta']['hca']['filename']\n",
    "\n",
    "#redcapconfigfile=\"/home/petra/Behavioral/Lifespan/PreRelease/PreRelease/.boxApp/redcapconfig.csv\"\n",
    "\n",
    "snapshotdate = datetime.datetime.today().strftime('%m_%d_%Y')\n",
    "#catfromdate=max of last run--'2019-06-17'\n",
    "print(snapshotdate)\n",
    "print(extrainfo)"
   ]
  },
  {
   "cell_type": "code",
   "execution_count": null,
   "id": "241f9514",
   "metadata": {},
   "outputs": [],
   "source": [
    "handle=[1143375281350]\n",
    "ssagad=box.download_files(handle)\n",
    "dir(ssagad)"
   ]
  },
  {
   "cell_type": "code",
   "execution_count": null,
   "id": "a9d2dd85",
   "metadata": {},
   "outputs": [],
   "source": [
    "inventory=pd.read_csv(extrainfo)\n",
    "print('Inventory Shape out of the Box',inventory.shape)\n",
    "\n",
    "inventory=inventory.loc[inventory.IntraDB != \"CCF_PCMP_ITK\"][['subject','pseudo_guid','nda_interview_date','nda_age','M/F','pedid','redcap_event_name','redcap_event']].copy()\n",
    "print('Inventory Shape out of the Box',inventory.shape)\n",
    "\n",
    "inventory=inventory.loc[inventory.nda_age.isnull()==False]\n",
    "print('Inventory Shape out of the Box',inventory.shape)\n",
    "\n",
    "inventory.nda_interview_date=pd.to_datetime(inventory.nda_interview_date).dt.strftime('%m/%d/%Y')\n",
    "inventory.nda_age=inventory.nda_age.round(0).astype(int)\n",
    "print('Inventory Shape out of the Box',inventory.shape)\n",
    "print('Number of Unique Subjects',len(inventory.subject.unique()))\n",
    "\n",
    "inventory=inventory.loc[inventory.redcap_event.isin(eventlist)]\n",
    "inventory.shape\n"
   ]
  },
  {
   "cell_type": "code",
   "execution_count": null,
   "id": "dc063c62",
   "metadata": {},
   "outputs": [],
   "source": [
    "datafile='HCA_SSAGA_2023-02-17.csv'\n",
    "ssagadata=pd.read_csv(datafile,low_memory=False)\n",
    "print(ssagadata.shape)"
   ]
  },
  {
   "cell_type": "code",
   "execution_count": null,
   "id": "2dce1782",
   "metadata": {},
   "outputs": [],
   "source": [
    "noteslist=[]\n",
    "specifylist=[]\n",
    "\n",
    "for i in list(ssagadata.columns):\n",
    "    if 'notes' in i:\n",
    "        print(i)\n",
    "        noteslist=noteslist+[i]\n",
    "#print(noteslist)\n",
    "\n",
    "for i in list(ssagadata.columns):\n",
    "    if 'specify' in i:\n",
    "        print(i)\n",
    "        specifylist=specifylist+[i]\n",
    "#print(specifylist)\n"
   ]
  },
  {
   "cell_type": "code",
   "execution_count": null,
   "id": "628ffa4c",
   "metadata": {},
   "outputs": [],
   "source": [
    "ssagadata=ssagadata.drop(columns=['hcpa_id','flagged','study','register_subject_complete','vist1','vist2','register_visit_1_complete','register_visit_2_complete','redcap_event_name','ssaga_complete'])\n",
    "#ssagadata=ssagadata.drop(columns=noteslist)\n",
    "#ssagadata=ssagadata.drop(columns=specifylist)\n",
    "\n",
    "ssagadropsubs=pd.merge(ssagadata, inventory, on=['subject','redcap_event'], how='right').drop(columns=['pedid', 'redcap_event_name'])\n",
    "ssagadropsubs.shape"
   ]
  },
  {
   "cell_type": "code",
   "execution_count": null,
   "id": "2b3a104e",
   "metadata": {},
   "outputs": [],
   "source": [
    "ssagas=ssagadropsubs.rename(columns={'subject':'src_subject_id','M/F':'sex','nda_age':'interview_age','nda_interview_date':'interview_date','pseudo_guid':'subjectkey', 'redcap_event':'event'})\n",
    "ssagas=ssagas.rename(columns={'dr1___1':'dr1_1','dr1___2':'dr1_2','dr1___3':'dr1_3','dr1___4':'dr1_4','dr1___5':'dr1_5','dr1___6':'dr1_6','dr1___7':'dr1_7','dr1___8':'dr1_8','dr1___9':'dr1_09'})\n"
   ]
  },
  {
   "cell_type": "code",
   "execution_count": null,
   "id": "326e8262",
   "metadata": {},
   "outputs": [],
   "source": [
    "#import map\n",
    "mapfile=pd.read_excel('./Mapping Key.xlsx', sheet_name='HCP_SSAGA_IV_15Dec2021')\n",
    "mapfile['SSAGA Element Name'].head(20)\n",
    "\n",
    "listnames=list(mapfile['SSAGA Element Name'].str.strip())\n",
    "\n",
    "for i in listnames:\n",
    "    if i not in list(ssagas.columns):\n",
    "        print(i,'is not in ssaga data')\n"
   ]
  },
  {
   "cell_type": "code",
   "execution_count": null,
   "id": "4d98c359",
   "metadata": {},
   "outputs": [],
   "source": [
    "#import options\n",
    "pd.options.display.max_colwidth=100\n",
    "\n",
    "print(mapfile.loc[mapfile['SSAGA Element Name']=='dr1'][['Notes']])\n",
    "##ssagas[['dr1']]#.columns\n",
    "\n",
    "#dr1_list = ['dr1___1','dr1___2','dr1___3','dr1___4','dr1___5','dr1___6','dr1___7','dr1___8','dr1___9']\n",
    "elements_list = ['dr1_1','dr1_2','dr1_3','dr1_4','dr1_5','dr1_6','dr1_7','dr1_8','dr1_9']\n",
    "dr1 = ssagas[elements_list].sum(axis=1).value_counts()\n",
    "#for COC,STIM,SED,OPIATE,PCP,HAL,SOL,COMB and OTHER"
   ]
  },
  {
   "cell_type": "code",
   "execution_count": null,
   "id": "8211a5d2",
   "metadata": {},
   "outputs": [],
   "source": [
    "#split into the two structures\n",
    "#part1 AND part2 are the ndar mandatory variables\n",
    "mapfile.columns\n",
    "mapfile.head()\n",
    "mapfile['Short Name'].value_counts()"
   ]
  },
  {
   "cell_type": "code",
   "execution_count": null,
   "id": "3eb8fcb8",
   "metadata": {},
   "outputs": [],
   "source": [
    "part1=mapfile.loc[mapfile['Short Name'].str.contains('ssaga_part101')]\n",
    "part2=mapfile.loc[mapfile['Short Name'].str.contains('ssaga_part201')]"
   ]
  },
  {
   "cell_type": "code",
   "execution_count": null,
   "id": "0b794a6d",
   "metadata": {},
   "outputs": [],
   "source": [
    "part1['Short Name'].value_counts()\n",
    "part2['Short Name'].value_counts()"
   ]
  },
  {
   "cell_type": "code",
   "execution_count": null,
   "id": "d8322cbc",
   "metadata": {
    "scrolled": true
   },
   "outputs": [],
   "source": [
    "part1['Short Name'].head()\n",
    "part1.head()"
   ]
  },
  {
   "cell_type": "code",
   "execution_count": null,
   "id": "4f04429f",
   "metadata": {
    "scrolled": true
   },
   "outputs": [],
   "source": [
    "part1.head()\n",
    "part1b=part1.copy()\n",
    "#part1b=part1.loc[~(part1['SSAGA Element Name'].isin(noteslist))]\n",
    "#part1b=part1b.loc[~(part1['SSAGA Element Name'].isin(specifylist))]\n",
    "struct101=ssagas[list(part1b['SSAGA Element Name'])] #.head()\n",
    "rename1=dict(zip(list(part1b['SSAGA Element Name']),list(part1b['NDA Element Name'])))\n",
    "\n",
    "#remove dr1 because export uses dummy vars.\n",
    "part2b=part2.loc[~(part2['SSAGA Element Name']=='dr1')]\n",
    "#part2b=part2b.loc[~(part2b['SSAGA Element Name'].isin(noteslist))]\n",
    "#part2b=part2b.loc[~(part2b['SSAGA Element Name'].isin(specifylist))]\n",
    "\n",
    "struct201=ssagas[list(part2b['SSAGA Element Name'])]#+dr1_list]\n",
    "#rename2=dict(zip(list(part2b['SSAGA Element Name'])+dr1_list,list(part2b['NDA Element Name'])+elements_list))\n",
    "rename2=dict(zip(list(part2b['SSAGA Element Name']),list(part2b['NDA Element Name'])))"
   ]
  },
  {
   "cell_type": "code",
   "execution_count": null,
   "id": "05e8a77f",
   "metadata": {},
   "outputs": [],
   "source": [
    "len(list(part2b['NDA Element Name']))\n",
    "len(list(part2b['SSAGA Element Name']))"
   ]
  },
  {
   "cell_type": "code",
   "execution_count": null,
   "id": "e2c3dc93",
   "metadata": {},
   "outputs": [],
   "source": [
    "ready1=struct101.drop(columns=['event']).rename(columns=rename1)\n",
    "ready2=struct201.drop(columns=['event']).rename(columns=rename2)"
   ]
  },
  {
   "cell_type": "code",
   "execution_count": null,
   "id": "8c6c82db",
   "metadata": {},
   "outputs": [],
   "source": [
    "#part1=mapfile.loc[mapfile['Short Name'].str.contains('ssaga_part101')]\n",
    "intlist1=part1b.loc[part1b['Data Type']=='Integer']\n",
    "#part2=mapfile.loc[mapfile['Short Name'].str.contains('ssaga_part201')]\n",
    "intlist2=part2b.loc[part2b['Data Type']=='Integer']\n"
   ]
  },
  {
   "cell_type": "code",
   "execution_count": null,
   "id": "9d4eb514",
   "metadata": {},
   "outputs": [],
   "source": [
    "for i in intlist1['NDA Element Name']:\n",
    "    try:\n",
    "        ready1[i]=pd.to_numeric(ready1[i],errors='coerce').fillna(-9999).astype(int).astype(str).str.replace('-9999','')\n",
    "    except:\n",
    "        print('could not convert to int',i)"
   ]
  },
  {
   "cell_type": "code",
   "execution_count": null,
   "id": "45ab31d0",
   "metadata": {},
   "outputs": [],
   "source": [
    "for i in intlist2['NDA Element Name']:\n",
    "    try:\n",
    "        ready2[i]=pd.to_numeric(ready2[i],errors='coerce').fillna(-9999).astype(int).astype(str).str.replace('-9999','')\n",
    "    except:\n",
    "        print('could not convert to int',i)"
   ]
  },
  {
   "cell_type": "code",
   "execution_count": null,
   "id": "48fd7f79",
   "metadata": {},
   "outputs": [],
   "source": [
    "#ready1.ssaga_mj1a1\n",
    "ssagas.mj1a1.value_counts()"
   ]
  },
  {
   "cell_type": "code",
   "execution_count": null,
   "id": "cc11f8a1",
   "metadata": {},
   "outputs": [],
   "source": [
    "#Write out structure for validation\n",
    "filePath=pathout+'/ssaga_part101.csv'\n",
    "if os.path.exists(filePath):\n",
    "    os.remove(filePath)\n",
    "else:\n",
    "    print(\"Can not delete the file as it doesn't exists\")\n",
    "\n",
    "with open(filePath,'a') as f:\n",
    "    f.write(\"ssaga_part1,1\\n\")\n",
    "    ready1.to_csv(f,index=False)\n",
    "\n",
    "    \n",
    "#Write out structure for validation\n",
    "filePath=pathout+'/ssaga_part201.csv'\n",
    "if os.path.exists(filePath):\n",
    "    os.remove(filePath)\n",
    "else:\n",
    "    print(\"Can not delete the file as it doesn't exists\")\n",
    "\n",
    "with open(filePath,'a') as f:\n",
    "    f.write(\"ssaga_part2,1\\n\")\n",
    "    ready2.to_csv(f,index=False)"
   ]
  },
  {
   "cell_type": "code",
   "execution_count": null,
   "id": "0b3392e2",
   "metadata": {},
   "outputs": [],
   "source": [
    "omitthem=['ssaga_dp27_count']#,'ssaga_pt1_b1age','ssaga_pt16_check','ssaga_pt22_check','ssaga_tb4b_tally','ssaga_tb10c_days','ssaga_tb10c_tally','ssaga_tb16_tally','ssaga_al_total1','ssaga_al37_total','ssaga_al37d_ii','ssaga_al37d_iii','ssaga_al37d_iv','ssaga_al37d','ssaga_al_total2','ssaga_al_total3']\n",
    "cleanupfuncs.redcleanup(structure=\"ssaga_part101\", filePath=\"./prepped/hca/\", extraomitlist=omitthem)"
   ]
  },
  {
   "cell_type": "code",
   "execution_count": null,
   "id": "04a4de4f",
   "metadata": {},
   "outputs": [],
   "source": [
    "#don't want to omit based on missing ness for part 2.  Want to omit based on missingness for part 1 after checking that there isn't any other data\n",
    "one=pd.read_csv(\"./prepped/hca/ssaga_part101.csv\",header=1,low_memory=False)[['src_subject_id', 'interview_date']]\n",
    "two=pd.read_csv(\"./prepped/hca/ssaga_part201.csv\",header=1,low_memory=False)[['src_subject_id', 'interview_date']]"
   ]
  },
  {
   "cell_type": "code",
   "execution_count": null,
   "id": "6617454f",
   "metadata": {},
   "outputs": [],
   "source": [
    "three=pd.merge(one[['src_subject_id','interview_date']],two[['src_subject_id','interview_date']],on=['src_subject_id','interview_date'],how='outer',indicator=True)\n",
    "three.loc[~(three._merge=='both')]\n",
    "three.columns\n",
    "check=pd.merge(ready2,three.loc[~(three._merge=='both')],on=['src_subject_id','interview_date'])#,how='both')#\n",
    "check.to_csv('whatsupwithssaga.csv',index=False)\n",
    "#check.loc[check._merge=='left_only'].to_csv('whatsupwithssaga.csv',index=False)\n",
    "check.columns"
   ]
  },
  {
   "cell_type": "code",
   "execution_count": null,
   "id": "0a2b074a",
   "metadata": {},
   "outputs": [],
   "source": [
    "#okay all good. \n",
    "#merge two with check to omit any in check\n",
    "readyv2=pd.merge(ready2,check[['src_subject_id','interview_date']],on=['src_subject_id','interview_date'],how='outer',indicator=True)#\n",
    "readyv2=readyv2.loc[readyv2._merge=='left_only'].drop(columns='_merge')#._merge.value_counts()\n",
    "readyv2.shape\n",
    "filePath=pathout+'/ssaga_part201.csv'\n",
    "if os.path.exists(filePath):\n",
    "    os.remove(filePath)\n",
    "else:\n",
    "    print(\"Can not delete the file as it doesn't exists\")\n",
    "\n",
    "with open(filePath,'a') as f:\n",
    "    f.write(\"ssaga_part2,1\\n\")\n",
    "    readyv2.to_csv(f,index=False)"
   ]
  },
  {
   "cell_type": "code",
   "execution_count": null,
   "id": "f0818a37",
   "metadata": {},
   "outputs": [],
   "source": []
  }
 ],
 "metadata": {
  "kernelspec": {
   "display_name": "NDA_submissions",
   "language": "python",
   "name": "nda_submissions"
  },
  "language_info": {
   "codemirror_mode": {
    "name": "ipython",
    "version": 3
   },
   "file_extension": ".py",
   "mimetype": "text/x-python",
   "name": "python",
   "nbconvert_exporter": "python",
   "pygments_lexer": "ipython3",
   "version": "3.9.6"
  }
 },
 "nbformat": 4,
 "nbformat_minor": 5
}
