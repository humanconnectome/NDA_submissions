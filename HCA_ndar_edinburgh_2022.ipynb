{
 "cells": [
  {
   "cell_type": "code",
   "execution_count": null,
   "metadata": {},
   "outputs": [],
   "source": [
    "#HCA_ndar_edinburgh_2022release\n",
    "#(only thing that changed was the Rosetta file pointer)\n",
    "#adding event to ndar_subjects (element name is 'visit') - Nov 10, 2020\n",
    "#pointing to new Rosetta again"
   ]
  },
  {
   "cell_type": "code",
   "execution_count": null,
   "metadata": {},
   "outputs": [],
   "source": [
    "import os, datetime\n",
    "import csv\n",
    "import sys\n",
    "import shutil\n",
    "from openpyxl import load_workbook\n",
    "import pandas as pd\n",
    "from io import BytesIO\n",
    "import numpy as np\n",
    "import subprocess\n",
    "from scipy import stats\n",
    "from ccf.box import LifespanBox\n",
    "from ccf.config import LoadSettings\n",
    "from ccf.redcap import RedcapTable \n",
    "config = LoadSettings()\n",
    "eventlist=['V1','V2']"
   ]
  },
  {
   "cell_type": "code",
   "execution_count": null,
   "metadata": {},
   "outputs": [],
   "source": [
    "box=LifespanBox(cache='./')\n",
    "verbose = True\n",
    "snapshotdate = datetime.datetime.today().strftime('%m_%d_%Y')\n",
    "pathout=\"./prepped/hca\" \n",
    "\n",
    "#Rosetta (a.k.a Inventory) file will have all the nda vars and pedids\n",
    "extrainfo=config['rosetta']['filename']\n",
    "\n",
    "redcapconfigfile=\"/home/petra/UbWinSharedSpace1/ccf-nda-behavioral/PycharmToolbox/.boxApp/redcapconfig.csv\"\n",
    "\n",
    "snapshotdate = datetime.datetime.today().strftime('%m_%d_%Y')\n",
    "#catfromdate=max of last run--'2019-06-17'\n",
    "snapshotdate"
   ]
  },
  {
   "cell_type": "code",
   "execution_count": null,
   "metadata": {},
   "outputs": [],
   "source": [
    "#defer to rosetta for dates but check - see email 11/10/2020 for GUIDs that were affected by mismatch between IntraDB and Redcap\n",
    "#extract the inventory subset \n",
    "inventory=pd.read_csv(extrainfo)[['DB_Source','REDCap_id','subject','pseudo_guid','nda_interview_date','nda_age','M/F','pedid','redcap_event_name','redcap_event','race','ethnic_group','site']]\n",
    "inventory=inventory.loc[inventory.nda_age.isnull()==False]\n",
    "inventory.nda_interview_date=pd.to_datetime(inventory.nda_interview_date).dt.strftime('%m/%d/%Y')\n",
    "inventory.nda_age=inventory.nda_age.round(0).astype(int)\n",
    "print('Inventory Shape out of the Box',inventory.shape)\n",
    "print('Number of Unique Subjects',len(inventory.subject.unique()))\n",
    "#rosetta=pd.read_csv(hcplist,header=0)[['nda_guid','subjectped','nda_interview_age','nda_interview_date','nda_gender','final_pedid']]\n",
    "#rosetta.nda_interview_date=pd.to_datetime(rosetta.nda_interview_date).dt.strftime('%m/%d/%Y')\n",
    "#rosetta.head()"
   ]
  },
  {
   "cell_type": "markdown",
   "metadata": {},
   "source": [
    "# Prepare Ped File"
   ]
  },
  {
   "cell_type": "code",
   "execution_count": null,
   "metadata": {},
   "outputs": [],
   "source": [
    "#curated pedigrees contain redundant information with inventory (e.g. pedids and pseudoguids, HCA_ID, HCD_ID, etc).\n",
    "peds=883930709978\n",
    "pathpeds=box.downloadFile(peds)\n",
    "pedids=pd.read_csv(pathpeds)\n",
    "pedids=pedids.drop(columns=['psuedo_guid','Familyflag','site','parent','age','sex','relationship1', 'with1', 'relationship2', 'with2', 'relationship3',\n",
    "       'with3', 'relationship4', 'with4', 'relationship5', 'with5', 'src_avuncular1_id','src_grandparent1_id','src_cousin_id1','src_cousin_id2',\n",
    "       'relationship6', 'with6', 'relationship7', 'with7'])\n",
    "pedids.loc[pedids.subject.str.contains('HCA')].head()\n",
    "print('shape before:',pedids.loc[pedids.subject.str.contains('HCA')].shape)\n",
    "\n",
    "#pedids.loc[(pedids.subject.str.contains('HCA')) | (pedids.HCA_ID.str.contains('HCA'))]\n",
    "pedids.loc[(pedids.HCA_ID.isnull()==False),'subject']=pedids.HCA_ID\n",
    "print('shape after:',pedids.loc[pedids.subject.str.contains('HCA')].shape)\n",
    "print(inventory.columns)\n",
    "print(pedids.columns)\n",
    "pedids=pedids.loc[pedids.subject.str.contains('HCA')]\n"
   ]
  },
  {
   "cell_type": "code",
   "execution_count": null,
   "metadata": {},
   "outputs": [],
   "source": [
    "inventory2=pd.merge(inventory.drop(columns=['pedid']),pedids,on='subject',how='outer',indicator=True)\n",
    "inventory2['visit']=inventory2.redcap_event\n",
    "inventory2._merge.value_counts()\n",
    "ndarinventory=inventory2.copy()"
   ]
  },
  {
   "cell_type": "code",
   "execution_count": null,
   "metadata": {},
   "outputs": [],
   "source": [
    "ndarinventory['interview_date']=pd.to_datetime(ndarinventory.nda_interview_date).dt.strftime('%m/%d/%Y')\n",
    "ndarinventory['interview_age']=ndarinventory.nda_age.round(0).astype(int)\n",
    "siblist=['sibling_type1','sibling_type2','sibling_type3']\n",
    "for ii in siblist:\n",
    "    ndarinventory[ii]=ndarinventory.replace({ii:\n",
    "                                       {'FB':'Full Brother FB',\n",
    "                                        'HMB':'Half Mother Brother HMB',\n",
    "                                        'HFB':'Half Father Brother HFB',\n",
    "                                        'FS':'Full Sister FS',\n",
    "                                        'HMS':'Half Mother Sister HMS',\n",
    "                                        'HFS':'Half Father Sister HFS',\n",
    "                                        'AB':'Adopted Brother AB',\n",
    "                                        'AS':'Adopted Sister AS',\n",
    "                                       }})[ii]\n"
   ]
  },
  {
   "cell_type": "code",
   "execution_count": null,
   "metadata": {},
   "outputs": [],
   "source": [
    "\n",
    "ndarinventory.loc[:,'phenotype']=pd.Series((\"Healthy Subject\" for i in range(ndarinventory.shape[0])),index=ndarinventory.index)\n",
    "ndarinventory.loc[:,'phenotype_description']=pd.Series((\"No diagnosed history of neurologic or major psychiatric disorder\" for i in range(ndarinventory.shape[0])),index=ndarinventory.index)\n",
    "ndarinventory.loc[:,'twins_study']=pd.Series((\"No\" for i in range(ndarinventory.shape[0])),index=ndarinventory.index)\n",
    "ndarinventory.loc[:,'sibling_study']=pd.Series((\"No\" for i in range(ndarinventory.shape[0])),index=ndarinventory.index)\n",
    "ndarinventory.loc[:,'family_study']=pd.Series((\"No\" for i in range(ndarinventory.shape[0])),index=ndarinventory.index)\n",
    "ndarinventory.loc[:,'sample_taken']=pd.Series((\"No\" for i in range(ndarinventory.shape[0])),index=ndarinventory.index)\n"
   ]
  },
  {
   "cell_type": "code",
   "execution_count": null,
   "metadata": {},
   "outputs": [],
   "source": [
    "\n",
    "#capture missing race\n",
    "flagsz=pd.DataFrame(ndarinventory.loc[ndarinventory.race==''])\n",
    "flagsz\n",
    "\n",
    "#flags=flagsz[['subject','site','interview_date']].copy()\n",
    "##flags.loc[:,'reason']=pd.Series((\"No race\" for i in range(flags.shape[0])),index=flags.index)\n",
    "#flags"
   ]
  },
  {
   "cell_type": "code",
   "execution_count": null,
   "metadata": {},
   "outputs": [],
   "source": [
    "#capture missing ethnicity\n",
    "flagsez=pd.DataFrame(ndarinventory.loc[ndarinventory.ethnic_group==''])\n",
    "flagsez\n",
    "\n",
    "#flagsez=pd.DataFrame(dfnew.loc[dfnew.ethnic_group==''])\n",
    "#flagse=flagsez[['subject_id','site_char','nda_interview_date']].copy()\n",
    "#flagse.loc[:,'reason']=pd.Series((\"No ethnicity\" for i in range(flagse.shape[0])),index=flagse.index)\n"
   ]
  },
  {
   "cell_type": "code",
   "execution_count": null,
   "metadata": {},
   "outputs": [],
   "source": [
    "ndarinventory.columns\n",
    "#ndarinventory.head()\n",
    "ndarinventory.visit.value_counts()"
   ]
  },
  {
   "cell_type": "code",
   "execution_count": null,
   "metadata": {},
   "outputs": [],
   "source": [
    "#next for external use uploading to NDA\n",
    "#remove unneccessary vars                                                                   and rename - note cant rename genderstring as gender until original numeric gender var is removed\n",
    "ndar=ndarinventory.drop(columns=['sibling_type1_alt','HCD_ID', 'HCA_ID','DB_Source', 'REDCap_id',\n",
    "                                   'redcap_event_name','adoptmomsubj', 'adoptdadsubj','_merge','nda_age','redcap_event','nda_interview_date'])\n",
    "ndar=ndar.rename(columns={\"subject\":\"src_subject_id\",'M/F':\"sex\",\n",
    "                           'biomomsubj':'src_mother_id', 'biodadsubj':'src_father_id',\n",
    "                           \"pedid\":\"family_user_def_id\",\"nda_guid\":\"subjectkey\",\n",
    "                           \"site_char\":\"site\",'pseudo_guid':'subjectkey'})\n",
    "\n",
    "print(ndar.shape)\n",
    "ndar=ndar.loc[ndar.visit.isin(eventlist)].copy()\n",
    "ndar.head()\n"
   ]
  },
  {
   "cell_type": "code",
   "execution_count": null,
   "metadata": {},
   "outputs": [],
   "source": [
    "#write out csv for validation\n",
    "filePath=pathout+'/ndar_subject01.csv'\n",
    "\n",
    "if os.path.exists(filePath):\n",
    "    os.remove(filePath)\n",
    "else:\n",
    "    print(\"Can not delete the file as it doesn't exists\")\n",
    "\n",
    "with open(filePath,'a') as f:\n",
    "    f.write(\"ndar_subject,1\\n\")\n",
    "    ndar.to_csv(f,index=False)\n",
    "\n"
   ]
  },
  {
   "cell_type": "code",
   "execution_count": null,
   "metadata": {},
   "outputs": [],
   "source": [
    "fieldlist=['redcap_event_name','id','psuedo_guid','iihandwr','iihandth','iihandsc','iihandto','iihandkn','iihandsp','iihandbr','iihandma','iihandbo','iihandfk','iihandey']\n",
    "hca=RedcapTable.get_table_by_name('hcpa').get_frame(fieldlist)\n",
    "#hca=box.getredcapfields(fieldlist, study='hcpa') #this function autmatically gets interview_date and interview_age...but want to defer to rosetta for these fields\n",
    "#hca=hca.drop(columns=['interview_date','interview_age','psuedo_guid','gender','dob']).copy()\n",
    "hca.columns"
   ]
  },
  {
   "cell_type": "code",
   "execution_count": null,
   "metadata": {},
   "outputs": [],
   "source": [
    "forhands=pd.merge(ndarinventory.drop(columns=['_merge']),hca,left_on=['REDCap_id','redcap_event_name'],right_on=['id','redcap_event_name'],how='left')#,indicator=True)\n",
    "#forhands._merge.value_counts()   \n",
    "forhands.columns\n",
    "forhands2=forhands.rename(columns={\"subject\":\"src_subject_id\",'M/F':\"gender\",'pseudo_guid':'subjectkey'})\n",
    "forhands2=forhands2.loc[forhands2.redcap_event.isin(eventlist)]"
   ]
  },
  {
   "cell_type": "code",
   "execution_count": null,
   "metadata": {},
   "outputs": [],
   "source": [
    "\n",
    "hand=forhands2[['redcap_event','src_subject_id','gender', 'subjectkey', 'interview_date', 'interview_age','iihandwr','iihandth','iihandsc','iihandto', 'iihandkn','iihandsp', 'iihandbr', 'iihandma','iihandbo','iihandfk','iihandey',]].copy()\n",
    "varlist=[\"iihandwr\",\"iihandth\",\"iihandsc\",\"iihandto\",\"iihandkn\",\"iihandsp\",\"iihandbr\",\"iihandma\",\"iihandbo\",\"iihandfk\",\"iihandey\"]\n",
    "varlistnoeye=[\"iihandwr\",\"iihandth\",\"iihandsc\",\"iihandto\",\"iihandkn\",\"iihandsp\",\"iihandbr\",\"iihandma\",\"iihandbo\",\"iihandfk\"]\n",
    "hand.to_csv('findmissings.csv')"
   ]
  },
  {
   "cell_type": "code",
   "execution_count": null,
   "metadata": {},
   "outputs": [],
   "source": [
    "#assign these to median of their row for sum\n",
    "hand.loc[(hand.src_subject_id=='HCA7319472') & (hand.interview_age==788) ,'iihandma']=1\n",
    "hand.loc[(hand.src_subject_id=='HCA7605978') & (hand.interview_age==474) ,'iihandfk']=5\n",
    "hand.loc[(hand.src_subject_id=='HCA8324975') & (hand.interview_age==1005),'iihandma']=5\n",
    "hand.loc[(hand.src_subject_id=='HCA6476584') & (hand.interview_age==889) ,'iihandbo']=5                                            \n",
    "\n",
    "    \n",
    "#convert to ints for sums\n",
    "for var in varlist:\n",
    "    hand[var]=hand[var].astype(float)\n",
    "\n",
    "hand.loc[hand.src_subject_id.isin(['HCA6476584','HCA8324975','HCA7605978','HCA7319472'])] \n"
   ]
  },
  {
   "cell_type": "code",
   "execution_count": null,
   "metadata": {},
   "outputs": [],
   "source": [
    "hand['handvarsum']=hand[varlistnoeye].sum(axis=1)\n",
    "hand.loc[:,'handvarconstant']=pd.Series((3*len(varlistnoeye) for i in range(hand.shape[0])),index=hand.index)\n",
    "hand['hcp_handedness_score']=5*(hand['handvarsum']-hand['handvarconstant'])\n",
    "hand=hand.drop(['handvarsum','handvarconstant'],axis=1)\n",
    "\n",
    "hand.dtypes"
   ]
  },
  {
   "cell_type": "code",
   "execution_count": null,
   "metadata": {},
   "outputs": [],
   "source": [
    "#assign these back to -99 Missing- (not possible to track down), and convert to string below\n",
    "hand.loc[(hand.src_subject_id=='HCA7319472') & (hand.interview_age==788) ,'iihandma']=-99\n",
    "hand.loc[(hand.src_subject_id=='HCA7605978') & (hand.interview_age==474) ,'iihandfk']=-99\n",
    "hand.loc[(hand.src_subject_id=='HCA8324975') & (hand.interview_age==1005),'iihandma']=-99\n",
    "hand.loc[(hand.src_subject_id=='HCA6476584') & (hand.interview_age==889) ,'iihandbo']=-99   \n",
    "\n",
    "#drop these two who have no data\n",
    "print(hand.shape)\n",
    "hand=hand.loc[~((hand.src_subject_id=='HCA9155680') & (hand.interview_age== 1015))]\n",
    "hand=hand.loc[~((hand.src_subject_id=='HCA8249078') & (hand.interview_age== 734))]\n",
    "print(hand.shape)\n",
    "#HCA8249078 734\n",
    "\n",
    "#hand.dtypes\n",
    "#hand.loc[hand.src_subject_id.isin(['HCA6476584','HCA8324975','HCA7605978','HCA7319472'])] \n",
    "#hand.to_csv('wtf.csv')\n",
    "for ii in varlist:\n",
    "     hand[ii]=hand[ii].fillna(-99).round().astype('int').astype(str)\n",
    "     hand.loc[hand[ii]=='-99',ii]=''\n",
    "\n",
    "#    #hand.loc[hand[varlist[ii]]=='-99',varlist[ii]]=''\n",
    "#    print(hand[ii].dtypes)\n",
    "\n",
    "#for ii in range(len(varlist)):\n",
    "#    hand.loc[varlist[ii]]=hand[varlist[ii]].fillna(0).astype('int')\n",
    "#    print(hand[varlist[ii]].fillna(-99).value_counts())\n",
    "#for ii in range(len(varlist)):\n",
    "#    hand.loc[hand[varlist[ii]]=='-99',varlist[ii]]=''\n",
    "#\n",
    "##hand.loc[hand.src_subject_id.isin(['HCA6476584','HCA8324975','HCA7605978','HCA7319472'])] \n",
    "#hand.dtypes"
   ]
  },
  {
   "cell_type": "code",
   "execution_count": null,
   "metadata": {},
   "outputs": [],
   "source": [
    "#translate to nda values (e.g. #spr;right;spl;left;both;np;ne; oh\n",
    "#SPR=Strongly Prefer Right; SPL=Strongly Prefer Left; ne =not experienced; np=no preference; oh=sometimes uses other hand\n",
    "iihandlist=['iihandwr','iihandth','iihandsc','iihandto', 'iihandkn','iihandsp', 'iihandbr', 'iihandma','iihandbo','iihandfk','iihandey']\n",
    "newhandlist=['newiihandwr','newiihandth','newiihandsc','newiihandto', 'newiihandkn','newiihandsp', 'newiihandbr', 'newiihandma','newiihandbo','newiihandfk','newiihandey']\n",
    "ndahandlist=['writing','throwing','scissors','toothbrush', 'knife_no_fork','spoon', 'broom', 'match','box','foot','eye']\n",
    "\n",
    "for ii in range(len(iihandlist)):\n",
    "    hand[newhandlist[ii]]=hand.replace({iihandlist[ii]:\n",
    "                                       {'1':'left',\n",
    "                                        '2':'spl',\n",
    "                                        '3':'np',\n",
    "                                        '4':'spr',\n",
    "                                        '5':'right'}})[iihandlist[ii]]\n",
    "\n"
   ]
  },
  {
   "cell_type": "code",
   "execution_count": null,
   "metadata": {},
   "outputs": [],
   "source": [
    "hand=hand.drop(columns=iihandlist,axis=1)\n",
    "dictnames=dict(zip(newhandlist,iihandlist))\n",
    "hand=hand.rename(columns=dictnames)\n"
   ]
  },
  {
   "cell_type": "code",
   "execution_count": null,
   "metadata": {},
   "outputs": [],
   "source": [
    "hand.columns\n",
    "#rename them all to nda elements\n",
    "tondanames=dict(zip(iihandlist,ndahandlist))\n",
    "hand=hand.rename(columns=tondanames)\n",
    "hand.columns\n",
    "hand=hand.drop(columns=['redcap_event'])\n",
    "hand.hcp_handedness_score=hand.hcp_handedness_score.astype(int)\n",
    "hand=hand.rename(columns={'gender':'sex'})"
   ]
  },
  {
   "cell_type": "code",
   "execution_count": null,
   "metadata": {},
   "outputs": [],
   "source": [
    "\n",
    "filePath=pathout+'/edinburgh_hand01.csv'\n",
    "if os.path.exists(filePath):\n",
    "    os.remove(filePath)\n",
    "else:\n",
    "    print(\"Can not delete the file as it doesn't exists\")\n",
    "\n",
    "with open(filePath,'a') as f:\n",
    "    f.write(\"edinburgh_hand,1\\n\")\n",
    "    hand.to_csv(f,index=False)\n"
   ]
  },
  {
   "cell_type": "code",
   "execution_count": null,
   "metadata": {},
   "outputs": [],
   "source": []
  },
  {
   "cell_type": "code",
   "execution_count": null,
   "metadata": {},
   "outputs": [],
   "source": []
  }
 ],
 "metadata": {
  "kernelspec": {
   "display_name": "NDAsubmissions_venv",
   "language": "python",
   "name": "ndasubmissions_venv"
  },
  "language_info": {
   "codemirror_mode": {
    "name": "ipython",
    "version": 3
   },
   "file_extension": ".py",
   "mimetype": "text/x-python",
   "name": "python",
   "nbconvert_exporter": "python",
   "pygments_lexer": "ipython3",
   "version": "3.9.9"
  }
 },
 "nbformat": 4,
 "nbformat_minor": 2
}
