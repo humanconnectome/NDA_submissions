{
 "cells": [
  {
   "cell_type": "code",
   "execution_count": 1,
   "metadata": {},
   "outputs": [],
   "source": [
    "from funcs import funcs\n",
    "from Crosswalk.Transformer import Transformer\n",
    "from Crosswalk.DataCache import DataCache\n",
    "from Crosswalk.NDAWriter import NDAWriter\n",
    "from Crosswalk.Manager import Manager\n",
    "\n",
    "from Crosswalk.Loader import BoxLoader, SsagaLoader, QintLoader, RedcapLoader, ParentLoader"
   ]
  },
  {
   "cell_type": "code",
   "execution_count": 2,
   "metadata": {},
   "outputs": [],
   "source": [
    "M = Manager(\n",
    "        data =  DataCache(\n",
    "            ParentLoader(),\n",
    "            RedcapLoader('child'),\n",
    "            RedcapLoader('teen'),\n",
    "            BoxLoader('PennCNP', 592325063896),\n",
    "            QintLoader()\n",
    "        ),\n",
    "        writer = NDAWriter(completed_dir=\"./prepped/hcd/\"),\n",
    "        transformer = Transformer(funcs = funcs, map_dir='./maps/hcd/')\n",
    ")"
   ]
  },
  {
   "cell_type": "code",
   "execution_count": 3,
   "metadata": {},
   "outputs": [
    {
     "name": "stdout",
     "output_type": "stream",
     "text": [
      "child Some columns were unavailable:  {'bld_rucdr_des', 'bld_core_des_'}\n",
      "Timing:  child 1.5264739990234375\n",
      "Timing:  parent 2.4297420978546143\n",
      "Timing:  PennCNP 0.025960445404052734\n",
      "teen Some columns were unavailable:  {'bld_rucdr_des_', 'bld_core_des_'}\n",
      "Timing:  teen 1.0736656188964844\n",
      "Timing:  qint 0.14849281311035156\n"
     ]
    }
   ],
   "source": [
    "M.preload_data()"
   ]
  },
  {
   "cell_type": "code",
   "execution_count": 5,
   "metadata": {},
   "outputs": [
    {
     "name": "stdout",
     "output_type": "stream",
     "text": [
      "For struct \"leap01\": \n",
      "lan3err: Invalid values  {130.0, 135.0, 200.0, 105.0, 175.0, 240.0, 181.0, 150.0, 120.0, 250.0}\n",
      "Dropping 14 values.\n",
      "lan4err: Invalid values  {200.0, 105.0, 300.0, 110.0, 175.0, 210.0, 180.0, 150.0, 120.0, 155.0}\n",
      "Dropping 13 values.\n",
      "No errors!\n"
     ]
    }
   ],
   "source": [
    "M.run('leap01')\n",
    "# data needs to be corrected in redcap.\n",
    "# get subject/site and open trello ticket"
   ]
  },
  {
   "cell_type": "code",
   "execution_count": 6,
   "metadata": {},
   "outputs": [
    {
     "name": "stdout",
     "output_type": "stream",
     "text": [
      "For struct \"mctq01\": \n",
      "frmnup: Invalid values  {2400, 1100}\n",
      "Dropping 2 values.\n",
      "No errors!\n"
     ]
    }
   ],
   "source": [
    "M.run('mctq01')\n",
    "# trello"
   ]
  },
  {
   "cell_type": "code",
   "execution_count": 7,
   "metadata": {},
   "outputs": [
    {
     "name": "stdout",
     "output_type": "stream",
     "text": [
      "For struct \"asr01\": \n",
      "No errors!\n",
      "For struct \"bisbas01\": \n",
      "No errors!\n",
      "For struct \"bsc01\": \n",
      "No errors!\n",
      "For struct \"cbcl01\": \n",
      "No errors!\n",
      "For struct \"cbcl1_501\": \n",
      "No errors!\n",
      "For struct \"cbq01\": \n",
      "No errors!\n",
      "For struct \"drugscr01\": \n",
      "No errors!\n",
      "For struct \"eatq01\": \n",
      "No errors!\n",
      "For struct \"er4001\": \n",
      "No errors!\n",
      "For struct \"fenvs01\": \n",
      "No errors!\n",
      "For struct \"gbi01\": \n",
      "No errors!\n",
      "For struct \"mab01\": \n",
      "No errors!\n",
      "For struct \"medh01\": \n",
      "No errors!\n",
      "For struct \"mendt01\": \n",
      "No errors!\n",
      "For struct \"mmse01\": \n",
      "No errors!\n",
      "For struct \"neo_ffi_form_s_adult_200301\": \n",
      "No errors!\n",
      "For struct \"pds01\": \n",
      "No errors!\n",
      "For struct \"phenx_su01\": \n",
      "No errors!\n",
      "For struct \"psqi01\": \n",
      "No errors!\n",
      "For struct \"saiq01\": \n",
      "No errors!\n",
      "For struct \"scan_debrief01\": \n",
      "No errors!\n",
      "For struct \"screentime01\": \n",
      "No errors!\n",
      "For struct \"sdq01\": \n",
      "No errors!\n",
      "For struct \"sleepdis01\": \n",
      "No errors!\n",
      "For struct \"socdem01\": \n",
      "No errors!\n",
      "For struct \"srs02\": \n",
      "No errors!\n",
      "For struct \"upps01\": \n",
      "No errors!\n",
      "For struct \"vision_tests01\": \n",
      "No errors!\n",
      "For struct \"vitals01\": \n",
      "No errors!\n",
      "For struct \"wais_iv_part101\": \n",
      "No errors!\n",
      "For struct \"wisc_v01\": \n",
      "No errors!\n",
      "For struct \"wppsiiv01\": \n",
      "No errors!\n",
      "For struct \"ysr01\": \n",
      "No errors!\n"
     ]
    }
   ],
   "source": [
    "structs = [\n",
    "    'asr01',\n",
    "    'bisbas01',\n",
    "    'bsc01',\n",
    "    'cbcl01',\n",
    "    'cbcl1_501',\n",
    "    'cbq01',\n",
    "    'drugscr01',\n",
    "    'eatq01',\n",
    "    'er4001',\n",
    "    'fenvs01',\n",
    "    'gbi01',\n",
    "#     'leap01',\n",
    "    'mab01',\n",
    "#     'mctq01',\n",
    "    'medh01',\n",
    "    'mendt01',\n",
    "    'mmse01',\n",
    "    'neo_ffi_form_s_adult_200301',\n",
    "    'pds01',\n",
    "    'phenx_su01',\n",
    "    'psqi01',\n",
    "    'saiq01',\n",
    "    'scan_debrief01',\n",
    "    'screentime01',\n",
    "    'sdq01',\n",
    "    'sleepdis01',\n",
    "    'socdem01',\n",
    "    'srs02',\n",
    "    'upps01',\n",
    "    'vision_tests01',\n",
    "    'vitals01',\n",
    "    'wais_iv_part101',\n",
    "    'wisc_v01',\n",
    "    'wppsiiv01',\n",
    "    'ysr01'\n",
    "]\n",
    "\n",
    "for s in structs:\n",
    "    M.run(s)"
   ]
  },
  {
   "cell_type": "code",
   "execution_count": null,
   "metadata": {},
   "outputs": [],
   "source": []
  }
 ],
 "metadata": {
  "kernelspec": {
   "display_name": "ccf",
   "language": "python",
   "name": "ccf"
  },
  "language_info": {
   "codemirror_mode": {
    "name": "ipython",
    "version": 3
   },
   "file_extension": ".py",
   "mimetype": "text/x-python",
   "name": "python",
   "nbconvert_exporter": "python",
   "pygments_lexer": "ipython3",
   "version": "3.8.2"
  }
 },
 "nbformat": 4,
 "nbformat_minor": 2
}
