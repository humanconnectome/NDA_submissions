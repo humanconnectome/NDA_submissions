{
 "cells": [
  {
   "cell_type": "code",
   "execution_count": null,
   "metadata": {},
   "outputs": [],
   "source": [
    "# Eprime data turned into deldisk01 structure.\n"
   ]
  },
  {
   "cell_type": "code",
   "execution_count": null,
   "metadata": {},
   "outputs": [],
   "source": [
    "import os, datetime\n",
    "import csv\n",
    "import sys\n",
    "import shutil\n",
    "from openpyxl import load_workbook\n",
    "import pandas as pd\n",
    "from io import BytesIO\n",
    "import numpy as np\n",
    "import subprocess\n",
    "from scipy import stats\n",
    "from ccf.box import LifespanBox\n",
    "from ccf.config import LoadSettings\n",
    "from ccf.redcap import RedcapTable \n",
    "config = LoadSettings()\n"
   ]
  },
  {
   "cell_type": "code",
   "execution_count": null,
   "metadata": {},
   "outputs": [],
   "source": [
    "box=LifespanBox(cache='./cache/')\n",
    "verbose = True\n",
    "snapshotdate = datetime.datetime.today().strftime('%m_%d_%Y')\n",
    "pathout=\"./prepped/hcd\" \n",
    "racepath=\"./prepped\"\n",
    "\n",
    "#Rosetta (a.k.a Inventory) file will have all the nda vars and pedids\n",
    "extrainfo=config['rosetta']['filename']\n",
    "\n",
    "eventlist=['visit_1_arm_1','visit_2_arm_1','visit_3_arm_1','visit_arm_1']\n",
    "\n",
    "inventory=pd.read_csv(extrainfo)\n",
    "inventory.columns\n",
    "inventory=inventory.loc[inventory.nda_age.isnull()==False]\n",
    "inventory.nda_interview_date=pd.to_datetime(inventory.nda_interview_date).dt.strftime('%m/%d/%Y')\n",
    "inventory.nda_age=inventory.nda_age.round(0).astype(int)\n",
    "\n",
    "Fullinventory=inventory.copy()\n",
    "print(\"Full Inventory w All events:\",Fullinventory.shape)\n",
    "\n",
    "#\n",
    "#\n",
    "#redcapconfigfile=\"/home/petra/UbWinSharedSpace1/ccf-nda-behavioral/PycharmToolbox/.boxApp/redcapconfig.csv\"\n",
    "#verbose = True\n",
    "#snapshotdate = datetime.datetime.today().strftime('%m_%d_%Y')\n",
    "#pathout=\"/home/petra/UbWinSharedSpace1/ccf-nda-behavioral/PycharmToolbox/prepped_singleton_structures\"###\n",
    "\n",
    "#ndar fields\n",
    "#extrainfo='UnrelatedHCAHCD_w_STG_Image_and_pseudo_GUID12_11_2020.csv'\n",
    "#\n",
    "#box_temp='/.' #location of local copy of curated data\n",
    "#box = LifespanBox(cache=box_temp)\n",
    "#e_latestsnapshot=662309868387\n",
    "cleanestdata = 911854120273\n"
   ]
  },
  {
   "cell_type": "code",
   "execution_count": null,
   "metadata": {},
   "outputs": [],
   "source": [
    "#get Eprime Data and merge with NDAR required fields\n",
    "e=box.download_files([cleanestdata])\n",
    "esnap=pd.read_csv(e[0])\n",
    "esnap=esnap.loc[esnap.exclude==0].copy()\n",
    "esnap.head()\n"
   ]
  },
  {
   "cell_type": "code",
   "execution_count": null,
   "metadata": {},
   "outputs": [],
   "source": [
    "v1ndar=Fullinventory.loc[Fullinventory.redcap_event=='V1'][['nda_age', 'nda_interview_date', 'pseudo_guid','subject', 'M/F','redcap_event']]\n",
    "v1ndar.shape\n",
    "v1ndar.columns\n",
    "esnap.columns"
   ]
  },
  {
   "cell_type": "code",
   "execution_count": null,
   "metadata": {},
   "outputs": [],
   "source": [
    "edata=pd.merge(esnap.drop(columns=['exclude','filename','source','CC',\n",
    "                                  ]),v1ndar,on=['subject','redcap_event'],how='inner')#.drop(columns=['subject'])\n",
    "print(edata.columns)\n",
    "print(len(edata.subject.unique()))\n",
    "edata=edata.rename(columns={'nda_age':'nda_interview_age','M/F':'nda_gender','redcap_event':'visit','subject':'src_subject_id','pseudo_guid':'subjectkey'})\n",
    "#rename columns to internal standards (then rename again for nda)\n",
    "edata.columns\n",
    "edata.columns=['visit', 'src_subject_id','DDISC.SV_1wk_20', 'DDISC.SV_2wk_20', 'DDISC.SV_1mo_20', 'DDISC.SV_6mo_20', 'DDISC.SV_1yr_20', 'DDISC.SV_3yr_20',\n",
    "       'DDISC.SV_1wk_100', 'DDISC.SV_2wk_100', 'DDISC.SV_1mo_100', 'DDISC.SV_6mo_100', 'DDISC.SV_1yr_100', 'DDISC.SV_3yr_100',\n",
    "       'Option Counted', 'MTvMT', 'MvM', 'TvT', 'totalMTvMT', 'totalMvM','totalTvT','CompareMoney',\n",
    "       'CompareMoneyDelay', 'CompareDelay', 'nda_interview_age',\n",
    "       'nda_interview_date', 'subjectkey', 'nda_gender']\n",
    "print(edata.columns)"
   ]
  },
  {
   "cell_type": "code",
   "execution_count": null,
   "metadata": {},
   "outputs": [],
   "source": [
    "#calculate AUCs per email attachment from Greg Burgess, 5/15/20\n",
    "edata['DDISC.AUC_20'] = (((0.0064 - 0.0000) * (edata['DDISC.SV_1wk_20'] + 20             ) / 2) + \\\n",
    "                ((0.0128 - 0.0064) * (edata['DDISC.SV_2wk_20'] + edata['DDISC.SV_1wk_20']) / 2) + \\\n",
    "                ((0.0278 - 0.0128) * (edata['DDISC.SV_1mo_20'] + edata['DDISC.SV_2wk_20']) / 2) + \\\n",
    "                ((0.1667 - 0.0278) * (edata['DDISC.SV_6mo_20'] + edata['DDISC.SV_1mo_20']) / 2) + \\\n",
    "                ((0.3333 - 0.1667) * (edata['DDISC.SV_1yr_20'] + edata['DDISC.SV_6mo_20']) / 2) + \\\n",
    "                ((1.0000 - 0.3333) * (edata['DDISC.SV_3yr_20'] + edata['DDISC.SV_1yr_20']) / 2)) / 20\n",
    "\n",
    "edata['DDISC.AUC_100'] = (((0.0064 - 0.0000) * (edata['DDISC.SV_1wk_100'] + 100             ) / 2) + \\\n",
    "                 ((0.0128 - 0.0064) * (edata['DDISC.SV_2wk_100'] + edata['DDISC.SV_1wk_100']) / 2) + \\\n",
    "                 ((0.0278 - 0.0128) * (edata['DDISC.SV_1mo_100'] + edata['DDISC.SV_2wk_100']) / 2) + \\\n",
    "                 ((0.1667 - 0.0278) * (edata['DDISC.SV_6mo_100'] + edata['DDISC.SV_1mo_100']) / 2) + \\\n",
    "                 ((0.3333 - 0.1667) * (edata['DDISC.SV_1yr_100'] + edata['DDISC.SV_6mo_100']) / 2) + \\\n",
    "                 ((1.0000 - 0.3333) * (edata['DDISC.SV_3yr_100'] + edata['DDISC.SV_1yr_100']) / 2)) / 100\n",
    "edata.head()"
   ]
  },
  {
   "cell_type": "code",
   "execution_count": null,
   "metadata": {},
   "outputs": [],
   "source": [
    "# Add mean accuracy measures for 'catch' questions from kid_eprime measure after rewrite of grab from box\n",
    "# Derive accuracy from tally of 'EndingQuestionsSlide.RESP' answers for each 'LogFrameStart' in eprime text file.\n",
    "# Correct response for 'MvM' is 'Option2Chosen'. \n",
    "# Correct response for 'MTvMT' and 'TvT' should be 'Option1Chosen'.\n",
    "# MvM, MTvMT, and TvT are each number of times 'Option1' was chosen (4,2,and 6 trials respectively).  \n",
    "# total* are the total number of trials (4,2,6) counted explicitly in case of trial interruption. \n",
    "# so accuracy when option1 is correct is TvT/totalTvT (=6).  \n",
    "# invert accuracy if option 2 was correct, as in MvM\n",
    "edata['DDISC.CompareMoney']         = 1 - (edata['MvM'] / edata['totalMvM']) #always tallied Option1, so need 1-accuracy since correct option for MvM is option 2.  \n",
    "edata['DDISC.CompareMoneyDelay']= edata['MTvMT'] / edata['totalMTvMT']\n",
    "edata['DDISC.CompareDelay']         = edata['TvT'] / edata['totalTvT']"
   ]
  },
  {
   "cell_type": "code",
   "execution_count": null,
   "metadata": {},
   "outputs": [],
   "source": [
    "#edata[['Option Counted', 'MvM', 'MTvMT', 'TvT','compare_money','compare_money_at_delay','compare_delay']]"
   ]
  },
  {
   "cell_type": "code",
   "execution_count": null,
   "metadata": {},
   "outputs": [],
   "source": [
    "#map\n",
    "edata['version_form']=\"DELAY_3.5\"\n",
    "edata['comqother']=\"subject about self\"\n",
    "edata=edata.rename(columns={'DDISC.SV_1wk_20':'ddisc_sv_1wk_20',\n",
    " 'DDISC.SV_2wk_20':'ddisc_sv_2wk_20',\n",
    " 'DDISC.SV_1mo_20':'ddisc_sv_1mo_20',\n",
    " 'DDISC.SV_6mo_20':'ddisc_sv_6mo_20',\n",
    " 'DDISC.SV_1yr_20':'ddisc_sv_1yr_20',\n",
    " 'DDISC.SV_3yr_20':'ddisc_sv_3yr_20',\n",
    " 'DDISC.SV_1wk_100':'ddisc_sv_1wk_100',\n",
    " 'DDISC.SV_2wk_100':'ddisc_sv_2wk_100',\n",
    " 'DDISC.SV_1mo_100':'ddisc_sv_1mo_100',\n",
    " 'DDISC.SV_6mo_100':'ddisc_sv_6mo_100',\n",
    " 'DDISC.SV_1yr_100':'ddisc_sv_1yr_100',\n",
    " 'DDISC.SV_3yr_100':'ddisc_sv_3yr_100',\n",
    " 'DDISC.AUC_20':'ddisc_auc_20',\n",
    " 'DDISC.AUC_100':'ddisc_auc_100',\n",
    " 'DDISC.CompareMoney':'ddisc_comparemoney',\n",
    " 'DDISC.CompareMoneyDelay':'ddisc_comparemoneydelay',\n",
    " 'DDISC.CompareDelay':'ddisc_comparedelay',\n",
    " 'nda_guid':'subjectkey',\n",
    " 'subjectped':'src_subject_id',\n",
    " 'nda_gender':'gender',\n",
    " 'nda_interview_age':'interview_age',\n",
    " 'nda_interview_date':'interview_date'                           \n",
    "                           })\n",
    "edata.columns\n",
    "\n",
    "#ddisc_comparemoney DDISC.CompareMoney\n",
    "#ddisc_comparemoneydelay DDISC.CompareMoneyDelay\n",
    "#ddisc_comparedelay DDISC.CompareDelay\n",
    "\n",
    "#reorder columns\n",
    "edata=edata[['subjectkey', 'src_subject_id', 'gender', 'interview_date','interview_age', 'version_form','comqother',\n",
    "       'ddisc_sv_1wk_20', 'ddisc_sv_2wk_20', 'ddisc_sv_1mo_20',\n",
    "       'ddisc_sv_6mo_20', 'ddisc_sv_1yr_20', 'ddisc_sv_3yr_20',\n",
    "       'ddisc_sv_1wk_100', 'ddisc_sv_2wk_100', 'ddisc_sv_1mo_100',\n",
    "       'ddisc_sv_6mo_100', 'ddisc_sv_1yr_100', 'ddisc_sv_3yr_100',\n",
    "       'ddisc_auc_20', 'ddisc_auc_100','ddisc_comparemoney','ddisc_comparemoneydelay','ddisc_comparedelay']]\n"
   ]
  },
  {
   "cell_type": "code",
   "execution_count": null,
   "metadata": {},
   "outputs": [],
   "source": [
    "edata.columns\n",
    "#rename gender to sex\n",
    "edata=edata.rename(columns={'gender':'sex'})"
   ]
  },
  {
   "cell_type": "code",
   "execution_count": null,
   "metadata": {},
   "outputs": [],
   "source": [
    "#Write out structure for validation\n",
    "filePath=pathout+'/eprime_deldisk01.csv'\n",
    "if os.path.exists(filePath):\n",
    "    os.remove(filePath)\n",
    "else:\n",
    "    print(\"Can not delete the file as it doesn't exists\")\n",
    "\n",
    "with open(filePath,'a') as f:\n",
    "    f.write(\"deldisk,1\\n\")\n",
    "    edata.to_csv(f,index=False)\n"
   ]
  },
  {
   "cell_type": "code",
   "execution_count": null,
   "metadata": {},
   "outputs": [],
   "source": []
  },
  {
   "cell_type": "code",
   "execution_count": null,
   "metadata": {},
   "outputs": [],
   "source": []
  }
 ],
 "metadata": {
  "kernelspec": {
   "display_name": "NDAsubmissions_venv",
   "language": "python",
   "name": "ndasubmissions_venv"
  },
  "language_info": {
   "codemirror_mode": {
    "name": "ipython",
    "version": 3
   },
   "file_extension": ".py",
   "mimetype": "text/x-python",
   "name": "python",
   "nbconvert_exporter": "python",
   "pygments_lexer": "ipython3",
   "version": "3.9.9"
  }
 },
 "nbformat": 4,
 "nbformat_minor": 2
}
