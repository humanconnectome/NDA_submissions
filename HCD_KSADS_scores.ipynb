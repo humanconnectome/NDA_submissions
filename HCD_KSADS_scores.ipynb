{
 "cells": [
  {
   "cell_type": "code",
   "execution_count": null,
   "metadata": {},
   "outputs": [],
   "source": [
    "#HCD_ksads - using new structures created by NDA to house scores only, since item level data was found to be\n",
    "#inconsistently annotated.  \n"
   ]
  },
  {
   "cell_type": "code",
   "execution_count": null,
   "metadata": {},
   "outputs": [],
   "source": [
    "import os, datetime\n",
    "import csv\n",
    "import pycurl\n",
    "import sys\n",
    "import shutil\n",
    "from openpyxl import load_workbook\n",
    "import pandas as pd\n",
    "from io import BytesIO\n",
    "import numpy as np\n",
    "import subprocess\n",
    "from scipy import stats\n",
    "import yaml\n",
    "import json\n",
    "\n",
    "from ccf.redcap import RedcapTable\n",
    "from ccf.box import LifespanBox\n",
    "from ccf.config import LoadSettings\n",
    "\n",
    "#from download.redcap import Redcap\n",
    "#from download.box import LifespanBox\n",
    "snapshotdate = datetime.datetime.today().strftime('%m_%d_%Y')\n",
    "config = LoadSettings()\n"
   ]
  },
  {
   "cell_type": "code",
   "execution_count": null,
   "metadata": {},
   "outputs": [],
   "source": [
    "box=LifespanBox(cache='./cache/')\n",
    "verbose = True\n",
    "snapshotdate = datetime.datetime.today().strftime('%m_%d_%Y')\n",
    "pathout=\"./prepped/hcd\" \n",
    "racepath=\"./prepped\"\n",
    "\n",
    "#Rosetta (a.k.a Inventory) file will have all the nda vars and pedids\n",
    "extrainfo=config['rosetta']['filename']\n",
    "eventlist=['V1','V2','V3']\n",
    "#eventlist=['visit_1_arm_1','visit_2_arm_1','visit_3_arm_1','visit_arm_1']"
   ]
  },
  {
   "cell_type": "code",
   "execution_count": null,
   "metadata": {},
   "outputs": [],
   "source": [
    "#get data from PreRelease folder, since the MOOD batteries have been rolled in to regular batteries there, thus one row per \n",
    "#person per type\n",
    "#see eof for method of getting report directly from REDCap if so desired\n",
    "mask_file=[887050736739]\n",
    "a=box.download_files(mask_file)\n",
    "\n",
    "def getlist(mask,sheet):\n",
    "    restrictA=pd.read_excel(mask, sheet_name=sheet)\n",
    "    restrictedA=list(restrictA.field_name)\n",
    "    return restrictedA\n",
    "\n",
    "restrictedK=getlist(a[0],'ksads')\n",
    "\n"
   ]
  },
  {
   "cell_type": "code",
   "execution_count": null,
   "metadata": {},
   "outputs": [],
   "source": [
    "kfile=[911850508658]\n",
    "box=LifespanBox(cache='./')\n",
    "k=box.download_files(kfile)"
   ]
  },
  {
   "cell_type": "code",
   "execution_count": null,
   "metadata": {},
   "outputs": [],
   "source": [
    "k[0]\n",
    "ksads = pd.read_csv(k[0],low_memory=False,dtype=str)\n",
    "\n",
    "#already dropped\n",
    "print(ksads.shape)\n",
    "ksads.drop(restrictedK, axis=1, errors='ignore')\n",
    "print(ksads.shape)\n",
    "len(ksads.columns)"
   ]
  },
  {
   "cell_type": "code",
   "execution_count": null,
   "metadata": {
    "scrolled": true
   },
   "outputs": [],
   "source": [
    "#0 = The Module related to the Symptom/Diagnosis is ADMINISTERED, however the Symptom/Diagnosis is NOT PRESENT; \n",
    "#1 = The Module related to the Symptom/Diagnosis is ADMINISTERED AND the Symptom/Diagnosis is PRESENT; \n",
    "#555 = No data/modules collected for subject/event; 888 = The Module is not administered, e.g. individual did not answer screening items affirmatively and value missing due to branching logic\n",
    "ksadswork=ksads.copy()#ksads[['id','patientid','additionalinfo','patienttype','k_unusable','k_unusable_specify',value,admin]].copy()\n",
    "ksadswork.head()\n",
    "#ksadswork.replace(np.nan, 3)\n",
    "\n",
    "justk=ksadswork.drop(columns=['id', 'patientid', 'additionalinfo', 'patienttype', 'sitename',\n",
    "       'k_unusable', 'k_unusable_specify', 'common_complete'])\n",
    "\n",
    "for i in justk:\n",
    "    ksadswork.loc[ksadswork[i].isnull()==True,i]=''\n",
    "    \n",
    "    \n",
    "ksadswork.head()#.ksadsd17_administered.value_counts()\n"
   ]
  },
  {
   "cell_type": "code",
   "execution_count": null,
   "metadata": {},
   "outputs": [],
   "source": [
    "for i in range(1,971):\n",
    "    value='ksadsd'+str(i)+'_value'\n",
    "    admin='ksadsd'+str(i)+'_administered'\n",
    "    newadmin='ksadsd'+str(i)+'_administeredNDA'\n",
    "    #ksadswork=ksads[['subject','redcap_event','id','patientid','additionalinfo','patienttype',value,admin]].copy()\n",
    "    #not really necessary to split these things up into if/elif clauses, but wanted to make sure block B captured all patterns\n",
    "    try:\n",
    "        if value in list(justk):\n",
    "            a=list(ksadswork[value].unique())\n",
    "            a.sort()\n",
    "            b=list(ksadswork[admin].unique())\n",
    "            b.sort()\n",
    "            #print(b)\n",
    "            if a==['', '0', '1'] and b==['', '0', '1']:\n",
    "                ksadswork[newadmin]=0\n",
    "                ksadswork.loc[(ksadswork[admin]=='1') & (ksadswork[value]=='1'),newadmin]='1'\n",
    "                ksadswork.loc[(ksadswork[admin]=='1') & (ksadswork[value]=='0'),newadmin]='0'\n",
    "                ksadswork.loc[(ksadswork[admin]=='0'),newadmin]='888' # & (ksadswork[value]=='0'),newadmin]='0'\n",
    "                ksadswork.loc[(ksadswork[admin]==''),newadmin]='' # & (ksadswork[value]=='0'),newadmin]='0'\n",
    "            elif a!=['', '0', '1'] and b==['', '0', '1']:  #character value case found in block B\n",
    "                if a==['','0']:\n",
    "                    #print('NO ONE HAS SX or not measured ' + value + ':')\n",
    "                    pass\n",
    "                elif a==['0','1']:\n",
    "                    #print('EVERYONE TESTED ' + value + ':')\n",
    "                    pass\n",
    "                else:\n",
    "                     pass\n",
    "                #BLOCK B for cases of values being long descriptive strings\n",
    "                ksadswork[newadmin]=0\n",
    "                ksadswork.loc[(ksadswork[admin]=='1') & (~(ksadswork[value].isin(['','0']))),newadmin]='1'\n",
    "                ksadswork.loc[(ksadswork[admin]=='1') & (ksadswork[value]=='0'),newadmin]='0'\n",
    "                ksadswork.loc[(ksadswork[admin]=='0'),newadmin]='888' \n",
    "                ksadswork.loc[(ksadswork[admin]==''),newadmin]=''\n",
    "                #END BLOCK B\n",
    "            else:\n",
    "                print(admin)\n",
    "                print(value)\n",
    "                print('WARNING!!!')\n",
    "                print('unexpected values or admins for '+admin+ ' and ' + value)\n",
    "                print('values:'+ str(a))\n",
    "                print('admins:'+ str(b))\n",
    "        else: \n",
    "            print('value',value,'is not in justk')\n",
    "            \n",
    "    except:\n",
    "        print('2. problem with ',admin,value)\n",
    "\n",
    "\n",
    "ksadswork.head()#[['ksads960_administered','ksadsd960_value']].head()\n"
   ]
  },
  {
   "cell_type": "code",
   "execution_count": null,
   "metadata": {
    "scrolled": true
   },
   "outputs": [],
   "source": [
    "ksadswork.to_csv('temp.csv',index=False)\n",
    "#ksadswork=pd.read_csv('temp.csv',low_memory=False)\n",
    "#ksadswork=ksadswork.drop(columns='Unnamed: 0').copy()\n",
    "ksadswork.head()"
   ]
  },
  {
   "cell_type": "code",
   "execution_count": null,
   "metadata": {},
   "outputs": [],
   "source": [
    "#the NDA structure used the _administered variable to refer to the combined variable we just created, so now we have to \n",
    "#drop the old one and rename the new one.\n",
    "\n",
    "ksadscols=list(ksads.columns)\n",
    "ksadsnewcols=['id','patientid','patienttype','k_unusable']\n",
    "\n",
    "#ksads.columns\n",
    "for i in range(1,971):\n",
    "    value='ksadsd'+str(i)+'_value'\n",
    "    admin='ksadsd'+str(i)+'_administered'\n",
    "    newadmin='ksadsd'+str(i)+'_administeredNDA'\n",
    "    if value not in ksadscols:\n",
    "        print(value+ ' not in columns')\n",
    "    else:\n",
    "        ksadsnewcols=ksadsnewcols + [newadmin]\n",
    "        \n",
    "#    newadmin='ksadsd'+str(i)+'_administeredNDA'\n",
    "\n",
    "print(len(ksadsnewcols))\n",
    "\n",
    "ksadsworknew=ksadswork#[ksadsnewcols]\n",
    "ksadsworknew.to_csv('tempnew.csv')\n",
    "#print(ksadswork.shape)\n",
    "#print(ksadsworknew.shape)\n",
    "ksadsworknew.head()\n"
   ]
  },
  {
   "cell_type": "code",
   "execution_count": null,
   "metadata": {},
   "outputs": [],
   "source": [
    "ksadsworknew.head()\n"
   ]
  },
  {
   "cell_type": "code",
   "execution_count": null,
   "metadata": {},
   "outputs": [],
   "source": [
    "oldname=[]\n",
    "newname=[]\n",
    "\n",
    "for i in range(1,971):\n",
    "    newadmin='ksadsd'+str(i)+'_administeredNDA'\n",
    "    rename='ksadsd'+str(i)+'_administered'\n",
    "    if newadmin in ksadsnewcols:\n",
    "        oldname=oldname+[newadmin]\n",
    "        newname=newname+[rename]\n",
    "    else:\n",
    "        print(newadmin + ' not in columns')\n",
    "    \n",
    "\n"
   ]
  },
  {
   "cell_type": "code",
   "execution_count": null,
   "metadata": {},
   "outputs": [],
   "source": [
    "print(len(oldname))\n",
    "print(len(newname))\n",
    "renames=dict(zip(oldname,newname))\n"
   ]
  },
  {
   "cell_type": "code",
   "execution_count": null,
   "metadata": {},
   "outputs": [],
   "source": [
    "#ksadsnewcols\n",
    "#print(len(ksadsnewcols))\n",
    "#print(len(renames))\n",
    "#print(ksadsworknew.shape)\n",
    "#ksadsworknew.head()\n",
    "\n",
    "\n",
    "print(len(ksadsworknew.columns))\n",
    "ksadsnewcols2=['subject','redcap_event','id', 'patientid', 'additionalinfo', 'patienttype', 'sitename',\n",
    "       'k_unusable', 'k_unusable_specify', 'common_complete']+ksadsnewcols\n",
    "ksadsslim=ksadsworknew[ksadsnewcols2]\n",
    "ksadsslim.head()\n",
    "ksadsslim.columns[0:30]\n",
    "print(len(ksadsslim.columns))\n",
    "ksadsslim = ksadsslim.loc[:,~ksadsslim.columns.duplicated()]\n",
    "ksadsslim.patienttype\n",
    "print(len(ksadsslim.columns))\n",
    "\n",
    "#print(len(df.columns))"
   ]
  },
  {
   "cell_type": "code",
   "execution_count": null,
   "metadata": {},
   "outputs": [],
   "source": [
    "#renames\n",
    "ksadsslim=ksadsslim.rename(columns=renames).copy()\n",
    "ksadsslim.columns[-10:]\n",
    "ksadsslim.columns[0:25]"
   ]
  },
  {
   "cell_type": "code",
   "execution_count": null,
   "metadata": {},
   "outputs": [],
   "source": [
    "#pull in the ndar fields\n",
    "extrainfo\n",
    "#rosetta=pd.read_csv(extrainfo)[['DB_Source','REDCap_id','subject','pseudo_guid','nda_interview_date','nda_age','M/F','pedid','redcap_event_name','redcap_event','race','ethnic_group','site']]\n",
    "rosetta=pd.read_csv(extrainfo)[['subject','pseudo_guid','nda_interview_date','redcap_event','nda_age','M/F']]\n",
    "\n",
    "rosetta.nda_interview_date=pd.to_datetime(rosetta.nda_interview_date).dt.strftime('%m/%d/%Y')\n"
   ]
  },
  {
   "cell_type": "code",
   "execution_count": null,
   "metadata": {},
   "outputs": [],
   "source": [
    "#ksadsslim.columns\n",
    "#rosetta.columns\n",
    "hcdtogether2=pd.merge(rosetta,ksadsslim,how='left',on=['subject','redcap_event'])\n",
    "hcdtogether2.columns[0:25]\n",
    "\n",
    "hcdtogether2=hcdtogether2.loc[hcdtogether2.redcap_event.isin(eventlist)]\n",
    "#hcdtogether2.columns[0:25]\n",
    "#\n",
    "hcdtogether2=hcdtogether2.rename(columns={\"subject\":\"src_subject_id\",\"M/F\":\"sex\",\n",
    "                            \"nda_age\":\"interview_age\",\n",
    "                           \"nda_interview_date\":\"interview_date\",\n",
    "                           \"pseudo_guid\":\"subjectkey\"}).copy()\n",
    "#hcdtogether2.columns[0:25]\n",
    "\n",
    "hcdtogether2=hcdtogether2.drop(columns=['redcap_event','id','patientid','additionalinfo','sitename','k_unusable','k_unusable_specify','common_complete'])\n",
    "hcdtogether2.columns\n",
    "\n"
   ]
  },
  {
   "cell_type": "code",
   "execution_count": null,
   "metadata": {},
   "outputs": [],
   "source": [
    "\n",
    "#Write out structure for validation\n",
    "filePath=pathout+'/hcpksads01.csv'\n",
    "if os.path.exists(filePath):\n",
    "    os.remove(filePath)\n",
    "else:\n",
    "    print(\"Can not delete the file as it doesn't exists\")\n",
    "\n",
    "with open(filePath,'a') as f:\n",
    "    f.write(\"hcpksads,1\\n\")\n",
    "    hcdtogether2.to_csv(f,index=False)\n"
   ]
  },
  {
   "cell_type": "code",
   "execution_count": null,
   "metadata": {},
   "outputs": [],
   "source": [
    "\n",
    "#Ad hoc functions to clean up empty rows for particular instruments after generated (issue for redcap data)\n",
    "def redcleanup(structure=\"hcpksads01\",filePath=pathout,extraomitcol1='patienttype',extraomitcol2='redcap_event',extraomitcol3='NO',extraomitcol4='NO'):\n",
    "    print(structure)\n",
    "    strucroot=structure[:-2]\n",
    "    strucnum=structure[-2:]\n",
    "\n",
    "    df=pd.read_csv(filePath+\"/\"+structure+\".csv\",header=1)\n",
    "    df.head()\n",
    "\n",
    "    print(\"NumRows Before: \"+str(df.shape[0]))\n",
    "    subfields=df.columns.to_list()\n",
    "    subfields.remove('subjectkey')\n",
    "    subfields.remove('src_subject_id')\n",
    "    subfields.remove('interview_date')\n",
    "    subfields.remove('interview_age')\n",
    "    subfields.remove('sex')\n",
    "    if extraomitcol1 and extraomitcol1 !='NO':\n",
    "        subfields.remove(extraomitcol1)\n",
    "    if extraomitcol2 and extraomitcol2 !='NO':\n",
    "        subfields.remove(extraomitcol2)\n",
    "    if extraomitcol3 and extraomitcol3 !='NO':\n",
    "        subfields.remove(extraomitcol3)\n",
    "    if extraomitcol4 and extraomitcol4 !='NO':\n",
    "        subfields.remove(extraomitcol4)\n",
    "    df=df.dropna(how='all',subset=subfields)\n",
    "    print(\"NumRows After: \"+str(df.shape[0]))\n",
    "\n",
    "    with open(filePath+\"/\"+structure+\".csv\",'w') as f:\n",
    "        f.write(strucroot+\",\"+str(int(strucnum))+\"\\n\")\n",
    "        df.to_csv(f,index=False)\n",
    " \n",
    "    \n",
    "redcleanup(structure=\"hcpksads01\",filePath=pathout,extraomitcol1='patienttype',extraomitcol2='NO',extraomitcol3='NO',extraomitcol4='NO')\n",
    " "
   ]
  },
  {
   "cell_type": "code",
   "execution_count": null,
   "metadata": {
    "scrolled": true
   },
   "outputs": [],
   "source": [
    "#not going to use this method of getting redcap data because getting data from Prerelease folder\n",
    "#dataKSADSscores = {\n",
    "#    'token': keys.loc[keys.source=='ksads','apikey'].reset_index()['apikey'][0],\n",
    "#    'content': 'report',\n",
    "#    'format': 'json',\n",
    "#    'report_id': '38620',\n",
    "##    'rawOrLabel': 'raw',\n",
    "#    'rawOrLabelHeaders': 'raw',\n",
    "#    'exportCheckboxLabel': 'false',\n",
    "#    'returnFormat': 'json'\n",
    "#}\n",
    "#\n",
    "#def getreport9(data=dataKSADSscores):\n",
    "#    buf = BytesIO()\n",
    "#    ch = pycurl.Curl()\n",
    "#    ch.setopt(ch.URL, 'https://redcap.wustl.edu/redcap/api/')\n",
    "#    ch.setopt(ch.HTTPPOST, list(data.items()))\n",
    "#    ch.setopt(ch.WRITEDATA, buf)\n",
    "#    ch.perform()\n",
    "#    ch.close()\n",
    "#    htmlString = buf.getvalue().decode('UTF-8')\n",
    "#    #print buf.getvalue()\n",
    "#    buf.close()\n",
    "#    HCA_json=json.loads(htmlString)\n",
    "#    HCAdf=pd.DataFrame(HCA_json)\n",
    "#    HCAdf = HCAdf.reindex(columns=list(HCA_json[0].keys()))\n",
    "#    HCAdf.head()\n",
    "#    return HCAdf\n",
    "\n",
    "#ksads=getreport9(data=dataKSADSscores)\n",
    "#ksads.head()"
   ]
  },
  {
   "cell_type": "code",
   "execution_count": null,
   "metadata": {},
   "outputs": [],
   "source": []
  }
 ],
 "metadata": {
  "kernelspec": {
   "display_name": "NDAsubmissions_venv",
   "language": "python",
   "name": "ndasubmissions_venv"
  },
  "language_info": {
   "codemirror_mode": {
    "name": "ipython",
    "version": 3
   },
   "file_extension": ".py",
   "mimetype": "text/x-python",
   "name": "python",
   "nbconvert_exporter": "python",
   "pygments_lexer": "ipython3",
   "version": "3.9.9"
  }
 },
 "nbformat": 4,
 "nbformat_minor": 2
}
