{
 "cells": [
  {
   "cell_type": "code",
   "execution_count": null,
   "id": "47bd6d87",
   "metadata": {},
   "outputs": [],
   "source": [
    "#pull in inventories"
   ]
  },
  {
   "cell_type": "code",
   "execution_count": null,
   "id": "121938d9",
   "metadata": {},
   "outputs": [],
   "source": [
    "import os, datetime\n",
    "import csv\n",
    "import sys\n",
    "import shutil\n",
    "from openpyxl import load_workbook\n",
    "import pandas as pd\n",
    "from io import BytesIO\n",
    "import numpy as np\n",
    "import subprocess\n",
    "from scipy import stats\n",
    "from ccf.box import LifespanBox\n",
    "from ccf.config import LoadSettings\n",
    "from ccf.redcap import RedcapTable \n",
    "\n",
    "pathinvent='/home/petra/CCF_QC/PreRelease/'"
   ]
  },
  {
   "cell_type": "code",
   "execution_count": null,
   "id": "45f549fa",
   "metadata": {},
   "outputs": [],
   "source": [
    "box=LifespanBox(cache='./')\n",
    "verbose = True\n",
    "snapshotdate = datetime.datetime.today().strftime('%m_%d_%Y')\n",
    "\n",
    "DI='HCD_Inventory_Restricted_2022-02-04.csv'\n",
    "Dpathout=\"./prepped/hcd\" \n",
    "Deventlist=['visit_1_arm_1','visit_2_arm_1','visit_3_arm_1','visit_arm_1']\n",
    "inventoryD=pd.read_csv(pathinvent+DI)\n",
    "inventoryD=inventoryD.loc[(inventoryD.nda_age.isnull()==False) & (inventoryD.redcap_event_name.isin(Deventlist)) ]\n",
    "inventoryD.nda_interview_date=pd.to_datetime(inventoryD.nda_interview_date).dt.strftime('%m/%d/%Y')\n",
    "\n",
    "AI='HCA_Inventory_Restricted_2022-02-04.csv'\n",
    "Apathout=\"./prepped/hca\" \n",
    "Aeventlist=['visit_1_arm_1','visit_2_arm_1','visit_3_arm_1','visit_arm_1']\n",
    "inventoryA=pd.read_csv(pathinvent+AI)\n",
    "inventoryA=inventoryA.loc[(inventoryA.nda_age.isnull()==False) & (inventoryA.redcap_event_name.isin(Aeventlist))]\n",
    "inventoryA.nda_interview_date=pd.to_datetime(inventoryA.nda_interview_date).dt.strftime('%m/%d/%Y')"
   ]
  },
  {
   "cell_type": "code",
   "execution_count": null,
   "id": "27e466f7",
   "metadata": {},
   "outputs": [],
   "source": [
    "inventoryD=inventoryD[['pseudo_guid','nda_age', 'nda_interview_date','subject', 'M/F','redcap_event']]#,'parent_at_V1',,'HCAid', 'HCDid','site', 'race', 'ethnic_group']]\n",
    "inventoryA=inventoryA[['pseudo_guid','nda_age', 'nda_interview_date','subject','M/F','redcap_event']]#'HCAid', 'HCDid','site', 'race', 'ethnic_group', \n"
   ]
  },
  {
   "cell_type": "code",
   "execution_count": null,
   "id": "e8d8a0bd",
   "metadata": {},
   "outputs": [],
   "source": [
    "iD=inventoryD\n",
    "for filename in os.listdir(Dpathout):\n",
    "    a=pd.read_csv(os.path.join(Dpathout, filename),header=1)\n",
    "    struct=filename[0:-4]\n",
    "    print(struct)\n",
    "    a[struct]=1\n",
    "    a=a[['src_subject_id','interview_date',struct]]\n",
    "    iD=pd.merge(iD,a,left_on=['subject','nda_interview_date'],right_on=['src_subject_id','interview_date'],how='left')\n",
    "    iD[struct] = pd.to_numeric(iD[struct], errors='coerce').astype('Int64')\n",
    "    iD.loc[iD[struct].isnull()==True,struct]=0\n",
    "    iD=iD.drop(columns=['src_subject_id','interview_date'])\n",
    "\n"
   ]
  },
  {
   "cell_type": "code",
   "execution_count": null,
   "id": "2075daec",
   "metadata": {},
   "outputs": [],
   "source": [
    "iD=iD.rename(columns={'pseudo_guid':'subjectkey','nda_age':'interview_age','nda_interview_date':'interview_date','M/F':'sex','redcap_event':'visit'})#.drop(columns=['HCDid','HCAid','site','race','ethnic_group','parent_at_V1'])\n",
    "iD.to_csv('test.csv')   \n"
   ]
  },
  {
   "cell_type": "code",
   "execution_count": null,
   "id": "5b49f5dd",
   "metadata": {},
   "outputs": [],
   "source": [
    "iD=iD.rename(columns={'subject':'src_subject_id','pseudo_guid':'subjectkey','nda_age':'interview_age','nda_interview_date':'interview_date','M/F':'sex','redcap_event':'visit'})#.drop(columns=['HCDid','HCAid','site','race','ethnic_group'])\n",
    "iD.head()\n",
    "cols=list(iD.columns)\n",
    "newlistb = [\"Any data in \"+x+\"? 1=yes; 0=no\" for x in cols if (\"01\" in x) or (\"02\" in x)]\n",
    "newlista = [x for x in cols if \"01\" not in x] #checking\n",
    "newlistamap = ['Pseudo-Guid', 'age in months', 'RedCap event registration date when copied to IntraDB (rounded down to nearest Quarter)','subject','sex at birth','visit/event']\n",
    "secondheader=newlistamap+newlistb\n",
    "#secondheader\n",
    "sechead=','.join(secondheader)\n",
    "sechead\n"
   ]
  },
  {
   "cell_type": "code",
   "execution_count": null,
   "id": "f67a2c1a",
   "metadata": {},
   "outputs": [],
   "source": [
    "#Write out structure for validation\n",
    "filePath='./CompletenessHCD.csv'\n",
    "if os.path.exists(filePath):\n",
    "    os.remove(filePath)\n",
    "else:\n",
    "    print(\"Can not delete the file as it doesn't exists\")\n",
    "\n",
    "with open(filePath,'a') as f:\n",
    "    f.write(sechead+\"\\n\")\n",
    "    iD.to_csv(f,index=False)\n",
    "    \n",
    "    \n",
    "iD.to_csv('CompletenessHCD.csv',index=False)   \n"
   ]
  },
  {
   "cell_type": "code",
   "execution_count": null,
   "id": "1ae8279c",
   "metadata": {},
   "outputs": [],
   "source": [
    "iA=inventoryA\n",
    "for filename in os.listdir(Apathout):\n",
    "    a=pd.read_csv(os.path.join(Apathout, filename),header=1)\n",
    "    struct=filename[0:-4]\n",
    "    print(struct)\n",
    "    a[struct]=1\n",
    "    a=a[['src_subject_id','interview_date',struct]]\n",
    "    iA=pd.merge(iA,a,left_on=['subject','nda_interview_date'],right_on=['src_subject_id','interview_date'],how='left')\n",
    "    iA[struct] = pd.to_numeric(iA[struct], errors='coerce').astype('Int64')\n",
    "    iA.loc[iA[struct].isnull()==True,struct]=0\n",
    "    iA=iA.drop(columns=['src_subject_id','interview_date'])\n",
    "\n",
    "\n"
   ]
  },
  {
   "cell_type": "code",
   "execution_count": null,
   "id": "c90d7209",
   "metadata": {},
   "outputs": [],
   "source": [
    "iA=iA.rename(columns={'subject':'src_subject_id','pseudo_guid':'subjectkey','nda_age':'interview_age','nda_interview_date':'interview_date','M/F':'sex','redcap_event':'visit'})#.drop(columns=['HCDid','HCAid','site','race','ethnic_group'])\n",
    "iA.head()\n",
    "cols=list(iA.columns)\n",
    "newlistb = [\"Any data in \"+x+\"? 1=yes; 0=no\" for x in cols if \"01\" in x]\n",
    "newlista = [x for x in cols if \"01\" not in x] #checking\n",
    "newlistamap = ['Pseudo-Guid', 'age in months', 'RedCap event registration date when copied to IntraDB (rounded down to nearest Quarter)','subject','sex at birth','visit/event']\n",
    "secondheader=newlistamap+newlistb\n",
    "#secondheader\n",
    "sechead=','.join(secondheader)\n"
   ]
  },
  {
   "cell_type": "code",
   "execution_count": null,
   "id": "52a0938a",
   "metadata": {},
   "outputs": [],
   "source": [
    "#Write out structure for validation\n",
    "filePath='./CompletenessHCA.csv'\n",
    "if os.path.exists(filePath):\n",
    "    os.remove(filePath)\n",
    "else:\n",
    "    print(\"Can not delete the file as it doesn't exists\")\n",
    "\n",
    "with open(filePath,'a') as f:\n",
    "    f.write(sechead+\"\\n\")\n",
    "    iA.to_csv(f,index=False)\n",
    "iA.to_csv('CompletenessHCA.csv',index=False)   \n"
   ]
  },
  {
   "cell_type": "code",
   "execution_count": null,
   "id": "76063155",
   "metadata": {},
   "outputs": [],
   "source": []
  },
  {
   "cell_type": "code",
   "execution_count": null,
   "id": "648c9520",
   "metadata": {},
   "outputs": [],
   "source": []
  }
 ],
 "metadata": {
  "kernelspec": {
   "display_name": "NDAsubmissions_venv",
   "language": "python",
   "name": "ndasubmissions_venv"
  },
  "language_info": {
   "codemirror_mode": {
    "name": "ipython",
    "version": 3
   },
   "file_extension": ".py",
   "mimetype": "text/x-python",
   "name": "python",
   "nbconvert_exporter": "python",
   "pygments_lexer": "ipython3",
   "version": "3.9.9"
  }
 },
 "nbformat": 4,
 "nbformat_minor": 5
}
