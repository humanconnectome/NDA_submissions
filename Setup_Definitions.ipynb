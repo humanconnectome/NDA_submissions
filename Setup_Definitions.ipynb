{
 "cells": [
  {
   "cell_type": "markdown",
   "metadata": {},
   "source": [
    "# This notebook will pull the latest copy of your resources into a common workspace (annotation updates are pretty common for NDA; possibly for REDCap, too, depending on activity)"
   ]
  },
  {
   "cell_type": "code",
   "execution_count": 1,
   "metadata": {},
   "outputs": [],
   "source": [
    "import os\n",
    "import nda_yaml\n",
    "from ccf.redcap import RedcapTable\n",
    "from ccf.easy_yaml import EasyYaml\n",
    "\n",
    "Y = EasyYaml()\n",
    "tags = []"
   ]
  },
  {
   "cell_type": "code",
   "execution_count": null,
   "metadata": {},
   "outputs": [],
   "source": []
  },
  {
   "cell_type": "markdown",
   "metadata": {},
   "source": [
    "# Download NDA structures"
   ]
  },
  {
   "cell_type": "code",
   "execution_count": 2,
   "metadata": {},
   "outputs": [],
   "source": [
    "if os.path.exists('nda') and not os.path.exists('.bk.nda'):\n",
    "    os.rename('nda', '.bk.nda')\n",
    "\n",
    "structures = 'phenx_sib01 eatdisdemo01 scidv_pscyh01 diagpsx01 asr01 batbil01 bisbas01 bsc01 cbcl01 cbcl1_501 cbq01 deldisk01 drugscr01 eatq01 edinburgh_hand01 er4001 fenvs01 gales01 gbi01 gonogo01 ipaq01 lbadl01 leap01 mab01 mchq01 mctq01 medh01 mendt01 mmse01 moca01 neo_ffi_form_s_adult_200301 nffi01 pds01 phenx_su01 psqi01 ravlt01 saiq01 scan_debrief01 screentime01 sdq01 sleepdis01 socdem01 srs02 upps01 vision_tests01 vitals01 wais_iv_part101 wisc_v01 wppsiiv01 ysr01'.split(' ')\n",
    "for struct in structures:\n",
    "    nda_yaml.download(struct)\n",
    "\n",
    "if os.path.exists('.bk.nda') and os.path.exists('nda'):\n",
    "    !!meld .bk.nda/ nda/"
   ]
  },
  {
   "cell_type": "code",
   "execution_count": 3,
   "metadata": {},
   "outputs": [
    {
     "name": "stdout",
     "output_type": "stream",
     "text": [
      "CPU times: user 256 ms, sys: 51.4 ms, total: 308 ms\n",
      "Wall time: 506 ms\n"
     ]
    }
   ],
   "source": [
    "%%time\n",
    "for filename in os.listdir(\"nda/\"):\n",
    "    path = f\"nda/{filename}\"\n",
    "    contents = Y(path)\n",
    "    tags.extend([f\"{x}\\t{path}\\t/^{x}:$/;\\\"\\tnda\" for x in contents.keys()])"
   ]
  },
  {
   "cell_type": "markdown",
   "metadata": {},
   "source": [
    "Original time: **user** 14.5 s **sys:** 729 ms  **total:** 15.2 s"
   ]
  },
  {
   "cell_type": "markdown",
   "metadata": {},
   "source": [
    "# Download Redcap definitions"
   ]
  },
  {
   "cell_type": "code",
   "execution_count": 5,
   "metadata": {},
   "outputs": [
    {
     "name": "stdout",
     "output_type": "stream",
     "text": [
      "trying hcpa database\n",
      "trying hcpd18 database\n",
      "trying hcpdchild database\n",
      "trying hcpdparent database\n",
      "trying qint database\n",
      "trying ksads database\n",
      "trying ssaga database\n"
     ]
    }
   ],
   "source": [
    "if os.path.exists('nda') and not os.path.exists('.bk.definitions'):\n",
    "    os.rename('definitions', '.bk.definitions')\n",
    "\n",
    "#name of the databases under 'datasources' in the secrets.yml\n",
    "#error messages probably indicate that you have a token that is no longer active or not specified\n",
    "structures = ['hcpa','hcpd18','hcpdchild','hcpdparent','qint','ksads','ssaga']\n",
    "for struct in structures:\n",
    "    print('trying '+ struct + ' database')\n",
    "    RedcapTable.get_table_by_name(struct).download_datadictionary('definitions')\n",
    "#    try:\n",
    "#        RedcapTable.get_table_by_name(struct).download_datadictionary('definitions')\n",
    "#    except: \n",
    "#       print('cound not connect')\n",
    "if os.path.exists('.bk.definitions') and os.path.exists('definitions'):\n",
    "    !!meld .bk.definitions/ definitions/"
   ]
  },
  {
   "cell_type": "code",
   "execution_count": 6,
   "metadata": {},
   "outputs": [
    {
     "name": "stdout",
     "output_type": "stream",
     "text": [
      "CPU times: user 541 ms, sys: 64 ms, total: 605 ms\n",
      "Wall time: 744 ms\n"
     ]
    }
   ],
   "source": [
    "%%time\n",
    "\n",
    "for filename in os.listdir(\"definitions/\"):\n",
    "    path = f\"definitions/{filename}\"\n",
    "    contents = Y(path)\n",
    "    tags.extend([f\"{x}\\t{path}\\t/^{x}:$/;\\\"\\tredcap\" for x in contents.keys()])\n",
    "    "
   ]
  },
  {
   "cell_type": "markdown",
   "metadata": {},
   "source": [
    "Original time: **user** 20.3 s **sys:** 126 ms  **total:** 20.4 s"
   ]
  },
  {
   "cell_type": "markdown",
   "metadata": {},
   "source": [
    "# Write Tags\n",
    "(To make it easy to jump to definitions in the data dictionary yaml files in `vim`.  Kind of like having a hyperlink)"
   ]
  },
  {
   "cell_type": "code",
   "execution_count": 7,
   "metadata": {},
   "outputs": [],
   "source": [
    "with open('tags', 'w') as f:\n",
    "    tags.sort()\n",
    "    f.write('\\n'.join(tags))"
   ]
  },
  {
   "cell_type": "code",
   "execution_count": null,
   "metadata": {},
   "outputs": [],
   "source": []
  }
 ],
 "metadata": {
  "kernelspec": {
   "display_name": "NDA_submissions_venv",
   "language": "python",
   "name": "nda_submissions_venv"
  },
  "language_info": {
   "codemirror_mode": {
    "name": "ipython",
    "version": 3
   },
   "file_extension": ".py",
   "mimetype": "text/x-python",
   "name": "python",
   "nbconvert_exporter": "python",
   "pygments_lexer": "ipython3",
   "version": "3.6.9"
  }
 },
 "nbformat": 4,
 "nbformat_minor": 2
}
